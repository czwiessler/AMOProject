{
 "cells": [
  {
   "cell_type": "markdown",
   "id": "a7b5fddb",
   "metadata": {},
   "source": [
    "# Stochastisches Bilevel-Modell für PV-Investitions- und Betriebsentscheidungen\n",
    "\n",
    "Dieses Notebook implementiert ein stochastisches Bilevel-Modell, das eine Investitionsentscheidung für eine Photovoltaik-(PV)-Anlage und dazugehörige operative Entscheidungen (Netzbezug und Einspeisung) integriert. Der Code nutzt Julia, JuMP und Ipopt und bildet das in der zugehörigen PDF beschriebene Modell ab."
   ]
  },
  {
   "cell_type": "code",
   "execution_count": 2,
   "id": "19c9e7f6",
   "metadata": {},
   "outputs": [
    {
     "name": "stderr",
     "output_type": "stream",
     "text": [
      "\u001b[32m\u001b[1m  Activating\u001b[22m\u001b[39m project at `c:\\Users\\chrii\\PycharmProjects\\AMOProject`\n"
     ]
    },
    {
     "data": {
      "text/plain": [
       "MathOptInterface"
      ]
     },
     "metadata": {},
     "output_type": "display_data"
    }
   ],
   "source": [
    "using Pkg\n",
    "Pkg.activate(\".\")\n",
    "Pkg.instantiate()\n",
    "\n",
    "using JuMP, Ipopt, MathOptInterface\n",
    "const MOI = MathOptInterface"
   ]
  },
  {
   "cell_type": "code",
   "execution_count": 3,
   "id": "bb2bae55",
   "metadata": {},
   "outputs": [
    {
     "name": "stderr",
     "output_type": "stream",
     "text": [
      "\u001b[32m\u001b[1m   Resolving\u001b[22m\u001b[39m package versions...\n",
      "\u001b[32m\u001b[1m  No Changes\u001b[22m\u001b[39m to `C:\\Users\\chrii\\PycharmProjects\\AMOProject\\Project.toml`\n",
      "\u001b[32m\u001b[1m  No Changes\u001b[22m\u001b[39m to `C:\\Users\\chrii\\PycharmProjects\\AMOProject\\Manifest.toml`\n",
      "\u001b[32m\u001b[1m   Resolving\u001b[22m\u001b[39m package versions...\n",
      "\u001b[32m\u001b[1m  No Changes\u001b[22m\u001b[39m to `C:\\Users\\chrii\\PycharmProjects\\AMOProject\\Project.toml`\n",
      "\u001b[32m\u001b[1m  No Changes\u001b[22m\u001b[39m to `C:\\Users\\chrii\\PycharmProjects\\AMOProject\\Manifest.toml`\n",
      "\u001b[32m\u001b[1m   Resolving\u001b[22m\u001b[39m package versions...\n",
      "\u001b[32m\u001b[1m  No Changes\u001b[22m\u001b[39m to `C:\\Users\\chrii\\PycharmProjects\\AMOProject\\Project.toml`\n",
      "\u001b[32m\u001b[1m  No Changes\u001b[22m\u001b[39m to `C:\\Users\\chrii\\PycharmProjects\\AMOProject\\Manifest.toml`\n",
      "\u001b[32m\u001b[1m   Resolving\u001b[22m\u001b[39m package versions...\n",
      "\u001b[32m\u001b[1m  No Changes\u001b[22m\u001b[39m to `C:\\Users\\chrii\\PycharmProjects\\AMOProject\\Project.toml`\n",
      "\u001b[32m\u001b[1m  No Changes\u001b[22m\u001b[39m to `C:\\Users\\chrii\\PycharmProjects\\AMOProject\\Manifest.toml`\n",
      "\u001b[32m\u001b[1m   Resolving\u001b[22m\u001b[39m package versions...\n",
      "\u001b[32m\u001b[1m  No Changes\u001b[22m\u001b[39m to `C:\\Users\\chrii\\PycharmProjects\\AMOProject\\Project.toml`\n",
      "\u001b[32m\u001b[1m  No Changes\u001b[22m\u001b[39m to `C:\\Users\\chrii\\PycharmProjects\\AMOProject\\Manifest.toml`\n",
      "\u001b[32m\u001b[1m   Resolving\u001b[22m\u001b[39m package versions...\n",
      "\u001b[32m\u001b[1m  No Changes\u001b[22m\u001b[39m to `C:\\Users\\chrii\\PycharmProjects\\AMOProject\\Project.toml`\n",
      "\u001b[32m\u001b[1m  No Changes\u001b[22m\u001b[39m to `C:\\Users\\chrii\\PycharmProjects\\AMOProject\\Manifest.toml`\n",
      "\u001b[32m\u001b[1m   Resolving\u001b[22m\u001b[39m package versions...\n",
      "\u001b[32m\u001b[1m  No Changes\u001b[22m\u001b[39m to `C:\\Users\\chrii\\PycharmProjects\\AMOProject\\Project.toml`\n",
      "\u001b[32m\u001b[1m  No Changes\u001b[22m\u001b[39m to `C:\\Users\\chrii\\PycharmProjects\\AMOProject\\Manifest.toml`\n",
      "\u001b[32m\u001b[1m   Resolving\u001b[22m\u001b[39m package versions...\n",
      "\u001b[32m\u001b[1m  No Changes\u001b[22m\u001b[39m to `C:\\Users\\chrii\\PycharmProjects\\AMOProject\\Project.toml`\n",
      "\u001b[32m\u001b[1m  No Changes\u001b[22m\u001b[39m to `C:\\Users\\chrii\\PycharmProjects\\AMOProject\\Manifest.toml`\n",
      "\u001b[32m\u001b[1m   Resolving\u001b[22m\u001b[39m package versions...\n",
      "\u001b[32m\u001b[1m  No Changes\u001b[22m\u001b[39m to `C:\\Users\\chrii\\PycharmProjects\\AMOProject\\Project.toml`\n",
      "\u001b[32m\u001b[1m  No Changes\u001b[22m\u001b[39m to `C:\\Users\\chrii\\PycharmProjects\\AMOProject\\Manifest.toml`\n",
      "\u001b[32m\u001b[1m   Resolving\u001b[22m\u001b[39m package versions...\n",
      "\u001b[32m\u001b[1m  No Changes\u001b[22m\u001b[39m to `C:\\Users\\chrii\\PycharmProjects\\AMOProject\\Project.toml`\n",
      "\u001b[32m\u001b[1m  No Changes\u001b[22m\u001b[39m to `C:\\Users\\chrii\\PycharmProjects\\AMOProject\\Manifest.toml`\n",
      "\u001b[32m\u001b[1m   Resolving\u001b[22m\u001b[39m package versions...\n",
      "\u001b[32m\u001b[1m  No Changes\u001b[22m\u001b[39m to `C:\\Users\\chrii\\PycharmProjects\\AMOProject\\Project.toml`\n",
      "\u001b[32m\u001b[1m  No Changes\u001b[22m\u001b[39m to `C:\\Users\\chrii\\PycharmProjects\\AMOProject\\Manifest.toml`\n"
     ]
    }
   ],
   "source": [
    "Pkg.add(\"MathOptInterface\")\n",
    "Pkg.add(\"JuMP\")\n",
    "Pkg.add(\"Distributions\")\n",
    "Pkg.add(\"HiGHS\")\n",
    "Pkg.add(\"Clustering\")\n",
    "Pkg.add(\"Distances\")\n",
    "Pkg.add(\"Plots\")\n",
    "Pkg.add(\"Statistics\")\n",
    "Pkg.add(\"StatsBase\")\n",
    "Pkg.add(\"Ipopt\")\n",
    "Pkg.add(\"BilevelJuMP\")"
   ]
  },
  {
   "cell_type": "markdown",
   "id": "60b584d8",
   "metadata": {},
   "source": [
    "## Parameterdefinitionen\n",
    "\n",
    "Hier werden die grundlegenden Parameter definiert, wie etwa die Anzahl der Zeitschritte, Investitionskosten, Strompreise sowie Parameter zur Modellierung der PV-Leistung und Emissionen."
   ]
  },
  {
   "cell_type": "code",
   "execution_count": 4,
   "id": "9a0d0c03",
   "metadata": {},
   "outputs": [
    {
     "data": {
      "text/plain": [
       "1"
      ]
     },
     "metadata": {},
     "output_type": "display_data"
    }
   ],
   "source": [
    "# Anzahl der Zeitperioden (z.B. 12 Monate * 24 Stunden)\n",
    "T = 288\n",
    "\n",
    "# Anzahl der Szenarien pro Zeitschritt\n",
    "num_scenarios = 5\n",
    "\n",
    "# Investitionskosten (Beispielwert)\n",
    "C_inv = 10 * 12\n",
    "\n",
    "# Social Cost of Carbon ($/t CO2)\n",
    "SCC = 50\n",
    "\n",
    "# Kosten für Netzbezug und Erlös aus Einspeisung ($/kWh)\n",
    "c_grid_buy = 0.25\n",
    "c_grid_feed = 0.10\n",
    "\n",
    "# Emissionsintensität (tCO2/kWh)\n",
    "e_grid = 0.5\n",
    "\n",
    "# PV-Parameter\n",
    "η_0 = 0.18      # Nominale PV-Wirkungsgrad\n",
    "β = 0.004       # Temperaturkoeffizient pro °C\n",
    "T_ref = 25      # Referenztemperatur in °C\n",
    "A = 1           # Fläche der PV-Anlage (Einheitlich)"
   ]
  },
  {
   "cell_type": "markdown",
   "id": "c1ac3d0c",
   "metadata": {},
   "source": [
    "## Definition der Effizienzfunktion\n",
    "\n",
    "Die Funktion `efficiency` berechnet den temperaturabhängigen PV-Wirkungsgrad."
   ]
  },
  {
   "cell_type": "code",
   "execution_count": 5,
   "id": "a92ae456",
   "metadata": {},
   "outputs": [
    {
     "data": {
      "text/plain": [
       "efficiency (generic function with 1 method)"
      ]
     },
     "metadata": {},
     "output_type": "display_data"
    }
   ],
   "source": [
    "function efficiency(T_t)\n",
    "    return η_0 * (1 - β * (T_t - T_ref))\n",
    "end"
   ]
  },
  {
   "cell_type": "markdown",
   "id": "4c847af6",
   "metadata": {},
   "source": [
    "## Erzeugung der stochastischen Verteilungen\n",
    "\n",
    "In diesem Abschnitt wird für jeden Zeitschritt ein Vektor von Verteilungen erstellt, der Solarstrahlung, Temperatur und Verbrauch abbildet. Dabei werden saisonale und tageszeitliche Effekte berücksichtigt."
   ]
  },
  {
   "cell_type": "code",
   "execution_count": 6,
   "id": "2b6b60bd",
   "metadata": {},
   "outputs": [],
   "source": [
    "using Distributions, Random\n",
    "\n",
    "# Funktion zur Erzeugung eines Verteilungsvektors für einen Zeitschritt\n",
    "function generate_distributions(si::Float64, consumption_mean::Float64, temp_mean::Float64, hour::Int)\n",
    "    if hour < 6 || hour > 22\n",
    "        # Nachtstunden: nahezu keine Sonneneinstrahlung\n",
    "        solar = Beta(1, 1000)  \n",
    "        temperature = Normal(temp_mean - 4, 9)\n",
    "        consumption = Normal(consumption_mean/(consumption_mean - 1), consumption_mean / 11)\n",
    "    else\n",
    "        # Tagesstunden: solare Einstrahlung mit Beta-Verteilung\n",
    "        β_param = ((si * (1 + si) / (si / 10)) - 1) * (1 - si)\n",
    "        α_param = si * β_param / (1 - si)\n",
    "        solar = Beta(α_param, β_param)\n",
    "        temperature = Normal(temp_mean, 9)\n",
    "        consumption = Normal(consumption_mean, consumption_mean / 11)\n",
    "    end\n",
    "    return [solar, consumption, temperature]\n",
    "end\n",
    "\n",
    "# Initialisierung des Verteilungsvektors für jeden Zeitschritt\n",
    "dist_vec = Vector{Vector{Distribution}}(undef, 12 * 24)\n",
    "\n",
    "for month in 1:12\n",
    "    for hour in 1:24\n",
    "        # Saisonale und tageszeitabhängige Parameter\n",
    "        si = 0.25 + 0.1 * sin(2π * month / 12)  \n",
    "        si = hour < 6 || hour > 22 ? 0.0 : si  \n",
    "        consumption_mean = 90.0 + 10 * sin(2π * hour / 24)\n",
    "        temp_mean = 13.0 + 5 * cos(2π * month / 12)\n",
    "        \n",
    "        # Speichern des Verteilungsvektors\n",
    "        dist_vec[(month - 1) * 24 + hour] = generate_distributions(si, consumption_mean, temp_mean, hour)\n",
    "    end\n",
    "end"
   ]
  },
  {
   "cell_type": "markdown",
   "id": "71ab2ec2",
   "metadata": {},
   "source": [
    "## Erzeugung der Dummy-Szenarien\n",
    "\n",
    "Für jeden Zeitschritt werden 5 Szenarien für Solarstrahlung, Verbrauch und Temperatur erzeugt. Außerdem werden die Szenario-Wahrscheinlichkeiten (gleichverteilt) festgelegt."
   ]
  },
  {
   "cell_type": "code",
   "execution_count": 7,
   "id": "c8dd2eb2",
   "metadata": {},
   "outputs": [
    {
     "data": {
      "text/plain": [
       "288-element Vector{Vector{Float64}}:\n",
       " [0.2, 0.2, 0.2, 0.2, 0.2]\n",
       " [0.2, 0.2, 0.2, 0.2, 0.2]\n",
       " [0.2, 0.2, 0.2, 0.2, 0.2]\n",
       " [0.2, 0.2, 0.2, 0.2, 0.2]\n",
       " [0.2, 0.2, 0.2, 0.2, 0.2]\n",
       " [0.2, 0.2, 0.2, 0.2, 0.2]\n",
       " [0.2, 0.2, 0.2, 0.2, 0.2]\n",
       " [0.2, 0.2, 0.2, 0.2, 0.2]\n",
       " [0.2, 0.2, 0.2, 0.2, 0.2]\n",
       " [0.2, 0.2, 0.2, 0.2, 0.2]\n",
       " ⋮\n",
       " [0.2, 0.2, 0.2, 0.2, 0.2]\n",
       " [0.2, 0.2, 0.2, 0.2, 0.2]\n",
       " [0.2, 0.2, 0.2, 0.2, 0.2]\n",
       " [0.2, 0.2, 0.2, 0.2, 0.2]\n",
       " [0.2, 0.2, 0.2, 0.2, 0.2]\n",
       " [0.2, 0.2, 0.2, 0.2, 0.2]\n",
       " [0.2, 0.2, 0.2, 0.2, 0.2]\n",
       " [0.2, 0.2, 0.2, 0.2, 0.2]\n",
       " [0.2, 0.2, 0.2, 0.2, 0.2]"
      ]
     },
     "metadata": {},
     "output_type": "display_data"
    }
   ],
   "source": [
    "# Gesamtzahl der Zeitschritte\n",
    "T_total = 12 * 24\n",
    "\n",
    "# Erzeugen der Dummy-Szenarien für Solar (Index 1 im Verteilungsvektor)\n",
    "S_t_omega = [ [rand(dist_vec[t][1]) for ω in 1:num_scenarios] for t in 1:T_total ]\n",
    "\n",
    "# Erzeugen der Dummy-Szenarien für Verbrauch (Index 2 im Verteilungsvektor)\n",
    "L_t_omega = [ [rand(dist_vec[t][2]) for ω in 1:num_scenarios] for t in 1:T_total ]\n",
    "\n",
    "# Erzeugen der Dummy-Szenarien für Temperatur (Index 3 im Verteilungsvektor)\n",
    "T_t_omega = [ [rand(dist_vec[t][3]) for ω in 1:num_scenarios] for t in 1:T_total ]\n",
    "\n",
    "# Szenario-Wahrscheinlichkeiten (uniform verteilt)\n",
    "Φ_t_omega = [ [1/num_scenarios for ω in 1:num_scenarios] for t in 1:T_total ]"
   ]
  },
  {
   "cell_type": "markdown",
   "id": "ce89d5d2",
   "metadata": {},
   "source": [
    "## Testausgabe für den ersten Zeitschritt\n",
    "\n",
    "Wir geben die für den ersten Zeitschritt (erste Stunde im Januar) generierten Werte aus."
   ]
  },
  {
   "cell_type": "code",
   "execution_count": 8,
   "id": "af5b9c48",
   "metadata": {},
   "outputs": [
    {
     "name": "stdout",
     "output_type": "stream",
     "text": [
      "Erste Stunde im Januar:\n",
      "Solar: [0.0018371241305232757, 0.0019222050116626012, 0.0006121049730113572, 0.0015509414833692428, 0.0011960235735226493]\n",
      "Verbrauch: [-4.555051351793297, 6.906169033407017, -3.0787691417663856, 5.44960305014942, -4.623582590774209]\n",
      "Temperatur: [5.090044311020174, 10.465320724925686, 10.20987277504655, 36.258766571859034, 20.76415193462609]\n",
      "Szenario-Wahrscheinlichkeiten: [0.2, 0.2, 0.2, 0.2, 0.2]\n"
     ]
    }
   ],
   "source": [
    "println(\"Erste Stunde im Januar:\")\n",
    "println(\"Solar: \", S_t_omega[1])\n",
    "println(\"Verbrauch: \", L_t_omega[1])\n",
    "println(\"Temperatur: \", T_t_omega[1])\n",
    "println(\"Szenario-Wahrscheinlichkeiten: \", Φ_t_omega[1])"
   ]
  },
  {
   "cell_type": "markdown",
   "id": "a3d136b7",
   "metadata": {},
   "source": [
    "## Erstellung und Lösung des Optimierungsmodells\n",
    "\n",
    "Das Optimierungsmodell wird in zwei Ebenen aufgeteilt:\n",
    "\n",
    "- **Obere Ebene:** Investitionsentscheidung (Variable y_PV) unter Berücksichtigung der jährlichen Investitionskosten.\n",
    "- **Untere Ebene:** Operative Entscheidungen (Netzbezug G_in und Einspeisung G_out) für jeden Zeitschritt und jedes Szenario. Die KKT-Bedingungen der unteren Ebene werden verwendet, um das bilevel-Problem in ein Single-Level-Problem zu transformieren.\n",
    "\n",
    "Anhand der Energiebilanz wird sichergestellt, dass der Verbrauch durch PV-Erzeugung, Netzbezug und Einspeisung gedeckt wird."
   ]
  },
  {
   "cell_type": "code",
   "execution_count": 9,
   "id": "d61c082a",
   "metadata": {},
   "outputs": [
    {
     "name": "stdout",
     "output_type": "stream",
     "text": [
      "\n",
      "******************************************************************************\n",
      "This program contains Ipopt, a library for large-scale nonlinear optimization.\n",
      " Ipopt is released as open source code under the Eclipse Public License (EPL).\n",
      "         For more information visit https://github.com/coin-or/Ipopt\n",
      "******************************************************************************\n",
      "\n",
      "This is Ipopt version 3.14.17, running with linear solver MUMPS 5.7.3.\n",
      "\n",
      "Number of nonzeros in equality constraint Jacobian...:    15840\n",
      "Number of nonzeros in inequality constraint Jacobian.:        0\n",
      "Number of nonzeros in Lagrangian Hessian.............:     8640\n",
      "\n",
      "Total number of variables............................:     7201\n",
      "                     variables with only lower bounds:     5760\n",
      "                variables with lower and upper bounds:        1\n",
      "                     variables with only upper bounds:        0\n",
      "Total number of equality constraints.................:     7200\n",
      "Total number of inequality constraints...............:        0\n",
      "        inequality constraints with only lower bounds:        0\n",
      "   inequality constraints with lower and upper bounds:        0\n",
      "        inequality constraints with only upper bounds:        0\n",
      "\n",
      "iter    objective    inf_pr   inf_du lg(mu)  ||d||  lg(rg) alpha_du alpha_pr  ls\n",
      "   0  7.3631926e+01 1.25e+02 9.04e-01  -1.0 0.00e+00    -  0.00e+00 0.00e+00   0\n",
      "   1  1.1389978e+02 1.25e+02 2.18e+01  -1.0 1.21e+03    -  8.17e-06 1.80e-04h  1\n",
      "   2  1.5912908e+02 1.25e+02 2.18e+01  -1.0 1.35e+03    -  1.55e-04 1.55e-04h  1\n",
      "   3  2.5426088e+02 1.25e+02 2.18e+01  -1.0 1.35e+03    -  3.20e-04 3.10e-04h  1\n",
      "   4  4.5193546e+02 1.25e+02 1.02e+03  -1.0 1.35e+03    -  6.73e-04 6.25e-04h  1\n",
      "   5  8.5907568e+02 1.25e+02 1.16e+04  -1.0 1.34e+03    -  1.45e-03 1.27e-03h  1\n",
      "   6  1.6891519e+03 1.25e+02 2.09e+04  -1.0 1.33e+03    -  3.16e-03 2.57e-03h  1\n",
      "   7  3.3519366e+03 1.24e+02 3.83e+04  -1.0 1.33e+03    -  6.71e-03 5.16e-03h  1\n",
      "   8  6.1187613e+03 1.23e+02 5.23e+04  -1.0 1.31e+03    -  1.04e-02 8.61e-03h  1\n",
      "   9  6.9329828e+03 1.23e+02 5.18e+04  -1.0 1.20e+03    -  2.60e-03 2.54e-03h  1\n",
      "iter    objective    inf_pr   inf_du lg(mu)  ||d||  lg(rg) alpha_du alpha_pr  ls\n",
      "  10  7.1888822e+03 1.22e+02 5.16e+04  -1.0 1.13e+03    -  8.11e-04 7.95e-04h  1\n",
      "  11  7.2784573e+03 1.22e+02 5.15e+04  -1.0 7.13e+02    -  2.71e-04 2.69e-04h  1\n",
      "  12  7.3255611e+03 1.22e+02 5.15e+04  -1.0 6.31e+02    -  1.41e-04 1.40e-04h  1\n",
      "  13  7.3597419e+03 1.22e+02 5.13e+04  -1.0 6.30e+02    -  1.22e-04 1.02e-04h  1\n",
      "  14  7.4011358e+03 1.22e+02 5.13e+04  -1.0 3.80e+02    -  1.21e-04 1.21e-04h  1\n",
      "  15  7.4225095e+03 1.22e+02 5.12e+04  -1.0 6.26e+02    -  6.83e-05 6.34e-05h  1\n",
      "  16  7.4553972e+03 1.22e+02 5.12e+04  -1.0 4.21e+02    -  9.63e-05 9.59e-05h  1\n",
      "  17  7.4676219e+03 1.22e+02 5.12e+04  -1.0 6.11e+02    -  3.76e-05 3.62e-05h  1\n",
      "  18  7.4921922e+03 1.22e+02 5.12e+04  -1.0 5.16e+02    -  7.28e-05 7.20e-05h  1\n",
      "  19  7.5189019e+03 1.22e+02 5.12e+04  -1.0 2.81e+02    -  7.69e-05 7.66e-05h  1\n",
      "iter    objective    inf_pr   inf_du lg(mu)  ||d||  lg(rg) alpha_du alpha_pr  ls\n",
      "  20  7.5353968e+03 1.22e+02 5.11e+04  -1.0 3.67e+02    -  5.42e-05 4.76e-05h  1\n",
      "  21  7.5661496e+03 1.22e+02 5.11e+04  -1.0 2.80e+02    -  8.84e-05 8.80e-05h  1\n",
      "  22  7.5856787e+03 1.22e+02 5.11e+04  -1.0 2.68e+02    -  5.60e-05 5.57e-05h  1\n",
      "  23  7.6068868e+03 1.22e+02 5.09e+04  -1.0 2.57e+02    -  8.09e-05 6.04e-05h  1\n",
      "  24  7.6518041e+03 1.22e+02 5.09e+04  -1.0 1.41e+02    -  1.27e-04 1.27e-04h  1\n",
      "  25  7.6568618e+03 1.22e+02 5.09e+04  -1.0 2.17e+02    -  1.44e-05 1.43e-05h  1\n",
      "  26  7.6613117e+03 1.22e+02 5.08e+04  -1.0 4.31e+02    -  1.76e-05 1.28e-05h  1\n",
      "  27  7.6698979e+03 1.22e+02 5.08e+04  -1.0 4.36e+02    -  2.76e-05 2.48e-05h  1\n",
      "  28  7.6827658e+03 1.22e+02 5.07e+04  -1.0 3.69e+02    -  4.85e-05 3.69e-05h  1\n",
      "  29  7.6950281e+03 1.22e+02 5.05e+04  -1.0 2.82e+02    -  4.82e-05 3.48e-05h  1\n",
      "iter    objective    inf_pr   inf_du lg(mu)  ||d||  lg(rg) alpha_du alpha_pr  ls\n",
      "  30  7.7243451e+03 1.22e+02 5.04e+04  -1.0 1.63e+02    -  8.96e-05 8.22e-05h  1\n",
      "  31  7.7291246e+03 1.22e+02 5.04e+04  -1.0 1.19e+02    -  1.43e-05 1.33e-05h  1\n",
      "  32  7.7356023e+03 1.22e+02 5.04e+04  -1.0 1.63e+02    -  2.37e-05 1.81e-05h  1\n",
      "  33  7.7405711e+03 1.22e+02 5.03e+04  -1.0 1.55e+02    -  1.89e-05 1.39e-05h  1\n",
      "  34  7.7499004e+03 1.22e+02 5.01e+04  -1.0 2.12e+02    -  5.27e-05 2.62e-05h  1\n",
      "  35  7.7610810e+03 1.22e+02 4.99e+04  -1.0 1.17e+02    -  4.57e-05 3.11e-05h  1\n",
      "  36  7.7712942e+03 1.22e+02 4.93e+04  -1.0 1.53e+02    -  8.85e-05 2.85e-05h  1\n",
      "  37  7.7922513e+03 1.22e+02 4.90e+04  -1.0 1.19e+02    -  9.44e-05 5.80e-05h  1\n",
      "  38  7.7978112e+03 1.22e+02 4.89e+04  -1.0 1.48e+02    -  1.96e-05 1.55e-05h  1\n",
      "  39  7.8070290e+03 1.22e+02 4.89e+04  -1.0 1.20e+02    -  2.93e-05 2.54e-05h  1\n",
      "iter    objective    inf_pr   inf_du lg(mu)  ||d||  lg(rg) alpha_du alpha_pr  ls\n",
      "  40r 7.8070290e+03 1.22e+02 1.00e+03   2.1 0.00e+00    -  0.00e+00 4.84e-07R  5\n",
      "  41r 7.8240542e+03 1.22e+02 1.01e+03   2.1 1.00e+03    -  8.82e-04 1.57e-05f  1\n",
      "  42r 8.7092595e+03 1.22e+02 1.01e+03   0.7 6.37e+02    -  1.49e-03 1.32e-03f  1\n",
      "  43r 1.0763960e+04 1.21e+02 1.01e+03   0.7 2.90e+03    -  1.49e-04 6.94e-04f  1\n",
      "  44r 1.1103678e+04 1.21e+02 1.01e+03   0.7 2.93e+03    -  3.49e-04 1.08e-04f  1\n",
      "  45r 1.2089583e+04 1.21e+02 1.01e+03   0.7 2.94e+03    -  2.45e-04 2.97e-04f  1\n",
      "  46r 1.3574833e+04 1.20e+02 1.01e+03   0.7 2.94e+03    -  5.95e-04 4.36e-04f  1\n",
      "  47r 1.5597889e+04 1.20e+02 1.00e+03   0.7 2.95e+03    -  6.82e-04 5.74e-04f  1\n",
      "  48r 1.8578683e+04 1.19e+02 1.00e+03   0.7 2.95e+03    -  6.37e-04 8.22e-04f  1\n",
      "  49r 2.2916958e+04 1.18e+02 1.01e+03   0.7 2.94e+03    -  3.93e-04 1.20e-03f  1\n",
      "iter    objective    inf_pr   inf_du lg(mu)  ||d||  lg(rg) alpha_du alpha_pr  ls\n",
      "  50r 3.2480025e+04 1.15e+02 1.01e+03   0.7 2.94e+03    -  1.47e-03 2.66e-03f  1\n",
      "  51r 3.5271217e+04 1.14e+02 1.01e+03   0.7 2.92e+03    -  1.09e-03 7.81e-04f  1\n",
      "  52r 4.7411795e+04 1.11e+02 1.04e+03   0.7 2.91e+03    -  6.62e-03 3.40e-03f  1\n",
      "  53r 9.4809599e+04 1.05e+02 9.90e+02   0.7 2.85e+03    -  6.29e-03 1.34e-02f  1\n",
      "  54  9.5121292e+04 1.05e+02 9.99e+01  -1.0 1.05e+02    -  8.57e-04 8.43e-04h  1\n",
      "  55r 9.5121292e+04 1.05e+02 9.99e+02   2.0 0.00e+00    -  0.00e+00 2.65e-07R  6\n",
      "  56r 1.3243192e+05 9.94e+01 9.98e+02   2.0 1.95e+04    -  1.67e-03 9.57e-04f  1\n",
      "  57r 2.0460901e+05 8.66e+01 9.97e+02   0.6 3.21e+04    -  1.27e-03 1.33e-03f  1\n",
      "  58  2.0688056e+05 8.58e+01 3.02e+03  -1.0 8.66e+01    -  1.20e-01 8.69e-03h  1\n",
      "  59  2.3236036e+05 7.74e+01 5.27e+03  -1.0 8.62e+01    -  1.91e-01 9.78e-02h  1\n",
      "iter    objective    inf_pr   inf_du lg(mu)  ||d||  lg(rg) alpha_du alpha_pr  ls\n",
      "  60  2.3385629e+05 7.71e+01 5.25e+03  -1.0 8.45e+01    -  4.95e-03 4.87e-03h  1\n",
      "  61  2.3413364e+05 7.70e+01 5.25e+03  -1.0 5.71e+02    -  7.66e-04 6.82e-04h  1\n",
      "  62  2.3460946e+05 7.69e+01 5.24e+03  -1.0 6.67e+02    -  1.09e-03 1.05e-03h  1\n",
      "  63  2.3527032e+05 7.68e+01 5.24e+03  -1.0 7.87e+02    -  1.26e-03 1.23e-03h  1\n",
      "  64  2.3611667e+05 7.67e+01 6.54e+03  -1.0 9.55e+02    -  1.29e-03 1.25e-03h  1\n",
      "  65  2.3717568e+05 7.66e+01 6.48e+03  -1.0 1.20e+03    -  1.22e-03 1.19e-03h  1\n",
      "  66  2.3844837e+05 7.66e+01 5.55e+03  -1.0 1.54e+03    -  1.11e-03 1.08e-03h  1\n",
      "  67  2.3995729e+05 7.65e+01 5.22e+03  -1.0 2.03e+03    -  1.00e-03 9.68e-04h  1\n",
      "  68  2.4037831e+05 7.65e+01 5.22e+03  -1.0 7.65e+03    -  2.02e-04 1.99e-04h  1\n",
      "  69  2.4068869e+05 7.65e+01 5.22e+03  -1.0 2.40e+04    -  1.91e-04 1.32e-04h  1\n",
      "iter    objective    inf_pr   inf_du lg(mu)  ||d||  lg(rg) alpha_du alpha_pr  ls\n",
      "  70  2.4223658e+05 7.64e+01 6.12e+04  -1.0 2.90e+04    -  6.30e-04 6.24e-04h  1\n",
      "  71  2.4263185e+05 7.64e+01 4.73e+04  -1.0 7.97e+04    -  1.22e-04 1.14e-04h  1\n",
      "  72  2.4490323e+05 7.64e+01 3.47e+05  -1.0 1.10e+05    -  3.50e-04 5.95e-04h  1\n",
      "  73r 2.4490323e+05 7.64e+01 1.00e+03   1.9 0.00e+00    -  0.00e+00 3.67e-07R  5\n",
      "  74r 3.6356799e+05 2.51e+01 1.12e+04   1.9 4.52e+04    -  8.32e-04 1.24e-03f  1\n",
      "  75  3.6515744e+05 2.51e+01 2.01e+05  -1.0 6.06e+04    -  7.59e-04 7.59e-04h  1\n",
      "  76  3.6585069e+05 2.51e+01 2.90e+05  -1.0 1.66e+05    -  1.87e-04 1.89e-04h  1\n",
      "  77  3.6766639e+05 2.51e+01 2.19e+06  -1.0 3.42e+05    -  1.82e-04 3.65e-04h  1\n",
      "  78r 3.6766639e+05 2.51e+01 1.00e+03   1.4 0.00e+00    -  0.00e+00 4.57e-07R  4\n",
      "  79r 4.5933789e+05 5.12e+00 8.92e+04   1.4 1.72e+04    -  3.39e-03 1.40e-03f  1\n",
      "iter    objective    inf_pr   inf_du lg(mu)  ||d||  lg(rg) alpha_du alpha_pr  ls\n",
      "  80  4.6211292e+05 5.12e+00 4.20e+06  -1.0 4.25e+05    -  4.63e-04 4.63e-04h  1\n",
      "  81  4.6517643e+05 5.12e+00 1.51e+07  -1.0 4.02e+06    -  8.67e-05 8.92e-05h  1\n",
      "  82  4.6963668e+05 5.12e+00 7.03e+07  -1.0 4.68e+07    -  1.50e-05 1.67e-05h  1\n",
      "  83r 4.6963668e+05 5.12e+00 9.99e+02   0.7 0.00e+00    -  0.00e+00 8.75e-08R  2\n",
      "  84r 4.7722600e+05 1.30e+00 1.02e+06   0.7 4.58e+03    -  3.61e-03 1.11e-03f  1\n",
      "  85  4.8549803e+05 1.30e+00 9.66e+08  -1.0 7.51e+07    -  1.97e-05 1.98e-05h  1\n",
      "  86r 4.8549803e+05 1.30e+00 9.99e+02   0.1 0.00e+00    -  0.00e+00 2.46e-07R  2\n",
      "  87r 4.8987511e+05 4.88e-01 2.22e+05   0.1 1.17e+03    -  4.66e-03 1.09e-03f  1\n",
      "  88r 4.8987511e+05 4.88e-01 9.99e+02  -0.3 0.00e+00    -  0.00e+00 3.47e-07R  2\n",
      "  89r 4.9055001e+05 2.12e-01 3.65e+04  -0.3 3.53e+02    -  4.37e-03 1.30e-03f  1\n",
      "iter    objective    inf_pr   inf_du lg(mu)  ||d||  lg(rg) alpha_du alpha_pr  ls\n",
      "  90r 4.9055001e+05 2.12e-01 9.99e+02  -0.7 0.00e+00    -  0.00e+00 3.56e-07R  2\n",
      "  91r 4.9085739e+05 1.80e-01 4.41e+04  -0.7 6.62e+01    -  1.08e-02 1.91e-03f  1\n",
      "  92r 4.9085739e+05 1.80e-01 9.99e+02  -0.7 0.00e+00    -  0.00e+00 3.59e-07R  2\n",
      "  93r 4.9110273e+05 1.61e-01 2.65e+04  -0.7 1.55e+01    -  1.25e-02 6.17e-03f  1\n",
      "  94r 4.9110273e+05 1.61e-01 9.99e+02  -0.8 0.00e+00    -  0.00e+00 3.65e-07R  2\n",
      "  95r 4.9136956e+05 1.53e-01 1.77e+05  -0.8 3.76e+00    -  6.85e-02 1.99e-02f  1\n",
      "  96r 4.9160808e+05 1.51e-01 3.86e+05  -0.8 1.08e+00    -  1.42e-01 5.89e-02f  1\n",
      "  97r 4.9193258e+05 1.51e-01 8.81e+05  -0.8 9.27e-01    -  5.82e-01 2.18e-01f  1\n",
      "  98r 4.9294964e+05 1.50e-01 1.53e+05  -0.8 4.80e-01    -  9.90e-01 8.64e-01f  1\n",
      "  99r 4.9393363e+05 1.29e-01 1.69e+02  -0.8 3.60e+00    -  1.00e+00 1.00e+00f  1\n",
      "iter    objective    inf_pr   inf_du lg(mu)  ||d||  lg(rg) alpha_du alpha_pr  ls\n",
      " 100r 4.9393363e+05 1.29e-01 9.99e+02  -0.9 0.00e+00    -  0.00e+00 3.12e-07R  3\n",
      " 101r 4.9422517e+05 1.20e-01 6.70e+05  -0.9 1.07e-01    -  9.90e-01 4.97e-01f  1\n",
      " 102r 4.9650085e+05 9.46e-02 3.06e+03  -0.9 1.97e+00    -  9.94e-01 1.00e+00f  1\n",
      " 103r 4.9650085e+05 9.46e-02 9.99e+02  -1.0 0.00e+00    -  0.00e+00 2.53e-07R  3\n",
      " 104r 4.9667795e+05 8.87e-02 8.34e+05  -1.0 1.11e-01    -  9.90e-01 3.49e-01f  1\n",
      " 105r 4.9879562e+05 7.57e-02 3.27e+03  -1.0 1.47e+00    -  9.93e-01 1.00e+00f  1\n",
      " 106r 4.9879562e+05 7.57e-02 9.99e+02  -1.0 0.00e+00    -  0.00e+00 3.96e-07R  2\n",
      " 107r 4.9891920e+05 7.55e-02 1.09e+06  -1.0 9.37e-02    -  9.90e-01 3.32e-01f  1\n",
      " 108r 5.0063970e+05 7.51e-02 1.53e+05  -1.0 1.37e+00    -  7.95e-01 8.59e-01f  1\n",
      " 109r 5.0133898e+05 7.51e-02 3.21e+02  -1.0 6.27e+00    -  1.00e+00 1.00e+00f  1\n",
      "iter    objective    inf_pr   inf_du lg(mu)  ||d||  lg(rg) alpha_du alpha_pr  ls\n",
      " 110r 5.0217559e+05 7.51e-02 1.88e+02  -1.0 1.25e+02    -  1.00e+00 1.00e+00f  1\n",
      " 111r 5.0214432e+05 7.51e-02 2.90e-01  -1.0 4.98e+00    -  1.00e+00 1.00e+00h  1\n",
      " 112r 5.0043979e+05 7.50e-02 3.14e+03  -3.8 1.77e+01    -  9.02e-01 9.26e-01f  1\n",
      " 113r 4.9997754e+05 7.50e-02 3.01e+05  -3.8 3.56e+02    -  8.12e-01 7.01e-01f  1\n",
      " 114r 4.9920185e+05 7.50e-02 5.44e+03  -3.8 2.27e+02    -  7.84e-01 9.35e-01f  1\n",
      " 115r 4.9954805e+05 7.51e-02 4.23e+03  -3.8 1.25e+02    -  9.37e-01 1.00e+00f  1\n",
      " 116r 4.9958906e+05 7.51e-02 6.26e+00  -3.8 6.07e+00    -  1.00e+00 1.00e+00f  1\n",
      " 117r 4.9959071e+05 7.51e-02 3.28e-02  -3.8 1.13e-02    -  1.00e+00 1.00e+00h  1\n",
      " 118r 4.9959072e+05 7.51e-02 1.40e-06  -3.8 4.28e-05    -  1.00e+00 1.00e+00h  1\n",
      " 119r 4.9905811e+05 7.52e-02 1.74e+03  -8.6 3.51e+01    -  8.85e-01 7.76e-01f  1\n",
      "iter    objective    inf_pr   inf_du lg(mu)  ||d||  lg(rg) alpha_du alpha_pr  ls\n",
      " 120r 4.9967289e+05 7.52e-02 1.77e+03  -8.6 6.01e+00    -  8.19e-01 6.11e-01f  1\n",
      " 121r 4.9915775e+05 7.52e-02 8.49e+02  -8.6 4.23e+00    -  8.62e-01 6.28e-01f  1\n",
      " 122r 4.9840820e+05 7.53e-02 3.53e+02  -8.6 1.83e+00    -  8.13e-01 6.11e-01f  1\n",
      " 123r 4.9840365e+05 7.55e-02 3.78e+01  -8.6 7.29e-01    -  7.60e-01 9.22e-01f  1\n",
      " 124r 4.9879702e+05 7.57e-02 8.09e+00  -8.6 1.57e-01    -  6.80e-01 9.43e-01f  1\n",
      " 125r 4.9879895e+05 7.57e-02 3.55e-02  -8.6 8.26e-03    -  1.00e+00 1.00e+00f  1\n",
      " 126r 4.9879891e+05 7.57e-02 4.30e-06  -8.6 6.04e-05    -  1.00e+00 1.00e+00h  1\n",
      "\n",
      "Number of Iterations....: 126\n",
      "\n",
      "                                   (scaled)                 (unscaled)\n",
      "Objective...............:   4.1566575789618073e+05    4.9879890947541688e+05\n",
      "Dual infeasibility......:   1.0000000000136382e+02    1.2000000000163658e+02\n",
      "Constraint violation....:   7.5697458615852559e-02    7.5697458615852559e-02\n",
      "Variable bound violation:   8.9477734216027534e-12    8.9477734216027534e-12\n",
      "Complementarity.........:   2.5059035596801552e-09    3.0070842716161861e-09\n",
      "Overall NLP error.......:   3.4589885596156797e+01    1.2000000000163658e+02\n",
      "\n",
      "\n",
      "Number of objective function evaluations             = 168\n",
      "Number of objective gradient evaluations             = 89\n",
      "Number of equality constraint evaluations            = 168\n",
      "Number of inequality constraint evaluations          = 0\n",
      "Number of equality constraint Jacobian evaluations   = 141\n",
      "Number of inequality constraint Jacobian evaluations = 0\n",
      "Number of Lagrangian Hessian evaluations             = 127\n",
      "Total seconds in IPOPT                               = 5.122\n",
      "\n",
      "EXIT: Converged to a point of local infeasibility. Problem may be infeasible.\n"
     ]
    }
   ],
   "source": [
    "model = Model(Ipopt.Optimizer)\n",
    "\n",
    "# Obere Ebene: Investitionsentscheidung (Leader)\n",
    "@variable(model, 0 <= y_PV <= 30)\n",
    "\n",
    "# Untere Ebene: Operationelle Variablen (Follower)\n",
    "@variable(model, G_in[1:T, 1:num_scenarios] >= 0)   # Netzimport\n",
    "@variable(model, G_out[1:T, 1:num_scenarios] >= 0)   # Netzexport\n",
    "\n",
    "# Dualvariablen für KKT-Bedingungen\n",
    "@variable(model, λ[1:T, 1:num_scenarios])\n",
    "@variable(model, nu_in[1:T, 1:num_scenarios] >= 0)\n",
    "@variable(model, nu_out[1:T, 1:num_scenarios] >= 0)\n",
    "\n",
    "for t in 1:T, ω in 1:num_scenarios\n",
    "    # Berechnung der PV-Erzeugung als fester Wert unter Nutzung der Effizienzfunktion\n",
    "    P_PV_val = efficiency(T_t_omega[t][ω]) * A * S_t_omega[t][ω]\n",
    "    \n",
    "    # Primal-Nebenbedingung: Energiebilanz\n",
    "    @constraint(model, L_t_omega[t][ω] == y_PV * P_PV_val + G_in[t, ω] - G_out[t, ω])\n",
    "    \n",
    "    # Stationaritätsbedingungen (Gradienten der Lagrangefunktion)\n",
    "    @constraint(model, c_grid_buy - λ[t, ω] + nu_in[t, ω] == 0)\n",
    "    @constraint(model, -c_grid_feed + λ[t, ω] + nu_out[t, ω] == 0)\n",
    "    \n",
    "    # Komplementaritätsbedingungen (als nichtlineare Nebenbedingungen)\n",
    "    @NLconstraint(model, nu_in[t, ω] * G_in[t, ω] == 0)\n",
    "    @NLconstraint(model, nu_out[t, ω] * G_out[t, ω] == 0)\n",
    "end\n",
    "\n",
    "# Zielfunktion: Minimierung der Investitionskosten plus der gewichteten Betriebs- und Emissionskosten\n",
    "@objective(model, Min,\n",
    "    C_inv * y_PV +\n",
    "    sum(Φ_t_omega[t][ω] * (c_grid_buy * G_in[t, ω] - c_grid_feed * G_out[t, ω] + SCC * e_grid * G_in[t, ω])\n",
    "        for t in 1:T, ω in 1:num_scenarios)\n",
    ")\n",
    "\n",
    "optimize!(model)"
   ]
  },
  {
   "cell_type": "markdown",
   "id": "96adcd4f",
   "metadata": {},
   "source": [
    "## Ausgabe der optimalen PV-Kapazität\n",
    "\n",
    "Nach der Optimierung wird die optimale Investitionsentscheidung (PV-Kapazität) ausgegeben."
   ]
  },
  {
   "cell_type": "code",
   "execution_count": 10,
   "id": "7edc7fbb",
   "metadata": {},
   "outputs": [
    {
     "name": "stdout",
     "output_type": "stream",
     "text": [
      "Optimale PV-Kapazität: 22.992192988385213\n"
     ]
    }
   ],
   "source": [
    "println(\"Optimale PV-Kapazität: \", value(y_PV))"
   ]
  }
 ],
 "metadata": {
  "kernelspec": {
   "display_name": "Julia",
   "language": "julia",
   "name": "julia"
  },
  "language_info": {
   "file_extension": ".jl",
   "mimetype": "application/julia",
   "name": "julia"
  }
 },
 "nbformat": 4,
 "nbformat_minor": 5
}
