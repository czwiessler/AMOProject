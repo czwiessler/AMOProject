{
 "cells": [
  {
   "metadata": {
    "ExecuteTime": {
     "end_time": "2025-02-21T15:41:58.452412Z",
     "start_time": "2025-02-21T15:41:58.439402Z"
    }
   },
   "cell_type": "code",
   "source": [
    "import pandas as pd\n",
    "import glob"
   ],
   "id": "29fe984b5a4d3c09",
   "outputs": [],
   "execution_count": 3
  },
  {
   "metadata": {},
   "cell_type": "markdown",
   "source": "## 1. Setup the combined CDFs",
   "id": "5e8ebe4e8ca33e6c"
  },
  {
   "cell_type": "code",
   "id": "initial_id",
   "metadata": {
    "collapsed": true,
    "ExecuteTime": {
     "end_time": "2025-02-21T15:42:07.150436Z",
     "start_time": "2025-02-21T15:42:07.027441Z"
    }
   },
   "source": [
    "def merge_csv_files(file_paths):\n",
    "    \"\"\"\n",
    "    Diese Funktion lädt mehrere CSV-Dateien und kombiniert sie, indem sie die Werte für gleiche Spalten untereinander in neue Zeilen schreibt.\n",
    "\n",
    "    :param file_paths: Liste der Dateipfade zu den CSV-Dateien\n",
    "    :return: Zusammengeführter DataFrame\n",
    "    \"\"\"\n",
    "    dataframes = [pd.read_csv(file) for file in file_paths]\n",
    "    merged_df = pd.concat(dataframes, ignore_index=True)\n",
    "    return merged_df\n",
    "\n",
    "file_paths = [\"saved_csv/CDF_Functions_Radiation.csv\",\n",
    "              \"saved_csv/CDF_Functions_Temperature.csv\",]\n",
    "              #\"saved_csv/CDF_Functions_Usage.csv\"]\n",
    "merged_df = merge_csv_files(file_paths)\n",
    "\n",
    "merged_df.to_csv(\"saved_csv/CDF_Functions.csv\", index=False)\n"
   ],
   "outputs": [],
   "execution_count": 5
  }
 ],
 "metadata": {
  "kernelspec": {
   "display_name": "Python 3",
   "language": "python",
   "name": "python3"
  },
  "language_info": {
   "codemirror_mode": {
    "name": "ipython",
    "version": 2
   },
   "file_extension": ".py",
   "mimetype": "text/x-python",
   "name": "python",
   "nbconvert_exporter": "python",
   "pygments_lexer": "ipython2",
   "version": "2.7.6"
  }
 },
 "nbformat": 4,
 "nbformat_minor": 5
}
