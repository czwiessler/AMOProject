{
 "cells": [
  {
   "cell_type": "code",
   "execution_count": 5,
   "id": "29fe984b5a4d3c09",
   "metadata": {
    "ExecuteTime": {
     "end_time": "2025-02-21T17:51:57.524109Z",
     "start_time": "2025-02-21T17:51:57.511461Z"
    }
   },
   "outputs": [],
   "source": [
    "import pandas as pd\n",
    "import glob"
   ]
  },
  {
   "cell_type": "markdown",
   "id": "5e8ebe4e8ca33e6c",
   "metadata": {},
   "source": [
    "## 1. Setup the combined CDFs"
   ]
  },
  {
   "cell_type": "code",
   "execution_count": 22,
   "id": "initial_id",
   "metadata": {
    "ExecuteTime": {
     "end_time": "2025-02-21T18:22:23.880231Z",
     "start_time": "2025-02-21T18:22:23.561216Z"
    },
    "collapsed": true
   },
   "outputs": [],
   "source": [
    "def merge_csv_files(file_paths):\n",
    "    \"\"\"\n",
    "    Diese Funktion lädt mehrere CSV-Dateien und kombiniert sie, indem sie die Werte für gleiche Spalten untereinander in neue Zeilen schreibt.\n",
    "\n",
    "    :param file_paths: Liste der Dateipfade zu den CSV-Dateien\n",
    "    :return: Zusammengeführter DataFrame\n",
    "    \"\"\"\n",
    "    dataframes = [pd.read_csv(file) for file in file_paths]\n",
    "    merged_df = pd.concat(dataframes, ignore_index=True)\n",
    "    return merged_df\n",
    "\n",
    "file_paths = [\"saved_csv/CDF_Functions_Radiation.csv\",\n",
    "              \"saved_csv/CDF_Functions_Temperature.csv\",]\n",
    "              #\"saved_csv/CDF_Functions_Usage.csv\"]\n",
    "merged_df = merge_csv_files(file_paths)\n",
    "\n",
    "merged_df.to_csv(\"saved_csv/CDF_Functions.csv\", index=False)\n"
   ]
  },
  {
   "cell_type": "markdown",
   "id": "8f8b82d7c79dc05",
   "metadata": {},
   "source": [
    "## 2. Read the combined CDFs correctly\n",
    "\n",
    "``CDF: 589 float values in list``\n",
    "\n",
    "``Radiation_CDF: df[\"Month_X_Hour_Y\"][0]``\n",
    "\n",
    "``Temperature_CDF: df[\"Month_X_Hour_Y\"][1]``\n",
    "\n",
    "``X = 1, ..., 12; Y = 0, ..., 23``"
   ]
  },
  {
   "cell_type": "code",
   "execution_count": 35,
   "id": "5555fc0ebeb044c6",
   "metadata": {
    "ExecuteTime": {
     "end_time": "2025-02-21T18:29:29.572848Z",
     "start_time": "2025-02-21T18:29:29.351853Z"
    }
   },
   "outputs": [
    {
     "name": "stdout",
     "output_type": "stream",
     "text": [
      "589\n"
     ]
    }
   ],
   "source": [
    "file_path = \"saved_csv/CDF_Functions.csv\"\n",
    "\n",
    "# CSV einlesen\n",
    "df = pd.read_csv(file_path)\n",
    "\n",
    "# Umwandlung der CDF-Spalten von Strings zu Listen von Floats\n",
    "for column in df.columns[1:]:  # Erste Spalte ist \"CDFs\", daher erst ab Spalte 1\n",
    "    df[column] = df[column].apply(lambda x: list(map(float, x.split(\";\"))) if isinstance(x, str) else [])"
   ]
  },
  {
   "cell_type": "markdown",
   "id": "36aacd50ab197953",
   "metadata": {},
   "source": [
    "## Calculate Correlation"
   ]
  },
  {
   "cell_type": "code",
   "execution_count": null,
   "id": "f07f9bb213cb52c8",
   "metadata": {
    "ExecuteTime": {
     "end_time": "2025-02-21T17:51:58.449575Z",
     "start_time": "2025-02-21T17:51:57.696690Z"
    }
   },
   "outputs": [
    {
     "data": {
      "text/html": [
       "<div>\n",
       "<style scoped>\n",
       "    .dataframe tbody tr th:only-of-type {\n",
       "        vertical-align: middle;\n",
       "    }\n",
       "\n",
       "    .dataframe tbody tr th {\n",
       "        vertical-align: top;\n",
       "    }\n",
       "\n",
       "    .dataframe thead th {\n",
       "        text-align: right;\n",
       "    }\n",
       "</style>\n",
       "<table border=\"1\" class=\"dataframe\">\n",
       "  <thead>\n",
       "    <tr style=\"text-align: right;\">\n",
       "      <th></th>\n",
       "      <th>G(i) (Globalstrahlung)</th>\n",
       "      <th>T2m (Temperatur)</th>\n",
       "    </tr>\n",
       "  </thead>\n",
       "  <tbody>\n",
       "    <tr>\n",
       "      <th>G(i) (Globalstrahlung)</th>\n",
       "      <td>1.000000</td>\n",
       "      <td>0.378649</td>\n",
       "    </tr>\n",
       "    <tr>\n",
       "      <th>T2m (Temperatur)</th>\n",
       "      <td>0.378649</td>\n",
       "      <td>1.000000</td>\n",
       "    </tr>\n",
       "  </tbody>\n",
       "</table>\n",
       "</div>"
      ],
      "text/plain": [
       "                        G(i) (Globalstrahlung)  T2m (Temperatur)\n",
       "G(i) (Globalstrahlung)                1.000000          0.378649\n",
       "T2m (Temperatur)                      0.378649          1.000000"
      ]
     },
     "execution_count": 7,
     "metadata": {},
     "output_type": "execute_result"
    }
   ],
   "source": [
    "df = pd.read_csv(\"data/Solar_Timeseries_2005_2023.csv\")\n",
    "# Zeitstempel umwandeln\n",
    "df['time'] = pd.to_datetime(df['time'], format='%Y%m%d:%H%M', errors='coerce')\n",
    "\n",
    "# Relevante Spalten auswählen\n",
    "df_filtered = df[['time', 'G(i) (Globalstrahlung)', 'T2m (Temperatur)']].dropna()\n",
    "\n",
    "# Korrelation zwischen Globalstrahlung und Temperatur berechnen\n",
    "correlation = df_filtered[['G(i) (Globalstrahlung)', 'T2m (Temperatur)']].corr()\n",
    "correlation\n"
   ]
  },
  {
   "cell_type": "code",
   "execution_count": 36,
   "id": "674e69545c119953",
   "metadata": {
    "ExecuteTime": {
     "end_time": "2025-02-21T18:32:57.261628Z",
     "start_time": "2025-02-21T18:32:57.236261Z"
    }
   },
   "outputs": [
    {
     "name": "stdout",
     "output_type": "stream",
     "text": [
      "Radiation Samples: [121.09710185 211.55480841 107.08612446 474.64651504 561.56619769\n",
      " 485.29411037 891.05603966 660.36670471 959.16466731 297.00029994]\n",
      "Temperature Samples: [ 8.8809792  12.31000496 16.13       17.53597052 15.53       18.01458442\n",
      " 12.06685529 13.90889791 22.87131265 15.2563865 ]\n"
     ]
    }
   ],
   "source": [
    "import numpy as np\n",
    "import pandas as pd\n",
    "from scipy.stats import norm\n",
    "\n",
    "def generate_correlated_samples(n_samples, correlation, radiation_cdf, temperature_cdf):\n",
    "    \"\"\"\n",
    "    Generiert n_samples Samples, die mittels Gaussian Copula so korreliert werden,\n",
    "    dass die marginalen Verteilungen den vorgegebenen CDFs (als Quantile) entsprechen.\n",
    "\n",
    "    Parameter\n",
    "    ----------\n",
    "    n_samples : int\n",
    "        Anzahl der zu generierenden Samples.\n",
    "    correlation : float\n",
    "        Gewünschter Korrelationswert zwischen Globalstrahlung und Temperatur.\n",
    "    radiation_cdf : list oder np.array\n",
    "        Sortierte Liste von Werten der Strahlungsverteilung (589 Werte).\n",
    "    temperature_cdf : list oder np.array\n",
    "        Sortierte Liste von Werten der Temperaturverteilung (589 Werte).\n",
    "\n",
    "    Returns\n",
    "    -------\n",
    "    radiation_samples : np.array\n",
    "        Samples aus der Strahlungsverteilung.\n",
    "    temperature_samples : np.array\n",
    "        Samples aus der Temperaturverteilung.\n",
    "    \"\"\"\n",
    "    # Kovarianzmatrix für 2 Variablen\n",
    "    cov = np.array([[1, correlation],\n",
    "                    [correlation, 1]])\n",
    "\n",
    "    # Generiere Samples aus der multivariaten Normalverteilung\n",
    "    mv_samples = np.random.multivariate_normal(mean=[0, 0], cov=cov, size=n_samples)\n",
    "\n",
    "    # Transformation in Uniformvariablen über die Standard-Normal-CDF\n",
    "    u = norm.cdf(mv_samples)\n",
    "\n",
    "    # Erstelle äquidistante Wahrscheinlichkeiten, die den Quantilen der CDFs entsprechen\n",
    "    p_radiation = np.linspace(0, 1, len(radiation_cdf))\n",
    "    p_temperature = np.linspace(0, 1, len(temperature_cdf))\n",
    "\n",
    "    # Inverse Transform Sampling mittels Interpolation\n",
    "    radiation_samples = np.interp(u[:, 0], p_radiation, radiation_cdf)\n",
    "    temperature_samples = np.interp(u[:, 1], p_temperature, temperature_cdf)\n",
    "\n",
    "    return radiation_samples, temperature_samples\n",
    "\n",
    "def generate_samples_for_hour_from_df(df, column, n_samples=1000, correlation=0.3786):\n",
    "    \"\"\"\n",
    "    Generiert für die angegebene Stunde (Spalte) korrelierte Samples aus dem\n",
    "    bereits geladenen DataFrame.\n",
    "\n",
    "    Annahmen:\n",
    "      - Der DataFrame enthält Spalten mit Namen wie \"Month_X_Hour_Y\"\n",
    "        (X = 1, ..., 12; Y = 0, ..., 23).\n",
    "      - In jeder dieser Spalten:\n",
    "            Zeile 0 enthält die Radiation_CDF (Liste von 589 floats)\n",
    "            Zeile 1 enthält die Temperature_CDF (Liste von 589 floats)\n",
    "\n",
    "    Parameter\n",
    "    ----------\n",
    "    df : pd.DataFrame\n",
    "        DataFrame, der die CDFs enthält.\n",
    "    column : str\n",
    "        Name der Spalte, z.B. \"Month_4_Hour_13\".\n",
    "    n_samples : int, optional\n",
    "        Anzahl der zu generierenden Samples (Standard: 1000).\n",
    "    correlation : float, optional\n",
    "        Gewünschter Korrelationswert (Standard: 0.3786).\n",
    "\n",
    "    Returns\n",
    "    -------\n",
    "    radiation_samples, temperature_samples : tuple von np.array\n",
    "        Korrelierte Samples aus der Strahlungs- und Temperaturverteilung.\n",
    "    \"\"\"\n",
    "    radiation_cdf = df[column][0]\n",
    "    temperature_cdf = df[column][1]\n",
    "\n",
    "    return generate_correlated_samples(n_samples, correlation, radiation_cdf, temperature_cdf)\n",
    "\n",
    "\n",
    "# Beispielaufruf für \"Month_4_Hour_13\":\n",
    "samples_rad, samples_temp = generate_samples_for_hour_from_df(df, \"Month_4_Hour_13\", n_samples=1000, correlation=0.3786)\n",
    "\n",
    "# Optional: Ausgabe der ersten 10 Samples\n",
    "print(\"Radiation Samples:\", samples_rad[:10])\n",
    "print(\"Temperature Samples:\", samples_temp[:10])\n"
   ]
  }
 ],
 "metadata": {
  "kernelspec": {
   "display_name": "Python 3",
   "language": "python",
   "name": "python3"
  },
  "language_info": {
   "codemirror_mode": {
    "name": "ipython",
    "version": 2
   },
   "file_extension": ".py",
   "mimetype": "text/x-python",
   "name": "python",
   "nbconvert_exporter": "python",
   "pygments_lexer": "ipython2",
   "version": "2.7.6"
  }
 },
 "nbformat": 4,
 "nbformat_minor": 5
}
