{
 "cells": [
  {
   "cell_type": "markdown",
   "id": "a7b5fddb",
   "metadata": {},
   "source": [
    "# Stochastisches Bilevel-Modell für PV-Investitions- und Betriebsentscheidungen\n",
    "\n",
    "Dieses Notebook implementiert ein stochastisches Bilevel-Modell, das eine Investitionsentscheidung für eine Photovoltaik-(PV)-Anlage und dazugehörige operative Entscheidungen (Netzbezug und Einspeisung) integriert. Der Code nutzt Julia, JuMP und Ipopt und bildet das in der zugehörigen PDF beschriebene Modell ab."
   ]
  },
  {
   "cell_type": "code",
   "execution_count": 1,
   "id": "19c9e7f6",
   "metadata": {},
   "outputs": [
    {
     "name": "stderr",
     "output_type": "stream",
     "text": [
      "\u001b[32m\u001b[1m  Activating\u001b[22m\u001b[39m project at `c:\\Users\\Niklas\\git\\AMOProject`\n"
     ]
    }
   ],
   "source": [
    "using Pkg\n",
    "Pkg.activate(\".\")\n",
    "#Pkg.instantiate()"
   ]
  },
  {
   "cell_type": "code",
   "execution_count": null,
   "id": "bb2bae55",
   "metadata": {},
   "outputs": [],
   "source": [
    "# Pkg.add(\"MathOptInterface\")\n",
    "# Pkg.add(\"JuMP\")\n",
    "# Pkg.add(\"Distributions\")\n",
    "# Pkg.add(\"HiGHS\")\n",
    "# Pkg.add(\"Clustering\")\n",
    "# Pkg.add(\"Distances\")\n",
    "# Pkg.add(\"Plots\")\n",
    "# Pkg.add(\"Statistics\")\n",
    "# Pkg.add(\"StatsBase\")\n",
    "# Pkg.add(\"Ipopt\")\n",
    "# Pkg.add(\"BilevelJuMP\")\n",
    "# Pkg.add(\"Juniper\") #new\n",
    "# Pkg.add(\"JSON\")"
   ]
  },
  {
   "cell_type": "code",
   "execution_count": 2,
   "id": "336d8115",
   "metadata": {},
   "outputs": [],
   "source": [
    "using JuMP, Distributions, Clustering, Distances, Plots, Statistics, StatsBase, Ipopt, Juniper, JSON"
   ]
  },
  {
   "cell_type": "markdown",
   "id": "60b584d8",
   "metadata": {},
   "source": [
    "## Parameterdefinitionen\n",
    "\n",
    "Hier werden die grundlegenden Parameter definiert, wie etwa die Anzahl der Zeitschritte, Investitionskosten, Strompreise sowie Parameter zur Modellierung der PV-Leistung und Emissionen."
   ]
  },
  {
   "cell_type": "code",
   "execution_count": 13,
   "id": "9a0d0c03",
   "metadata": {},
   "outputs": [
    {
     "data": {
      "text/plain": [
       "25"
      ]
     },
     "metadata": {},
     "output_type": "display_data"
    }
   ],
   "source": [
    "# Anzahl der Zeitperioden (z.B. 12 Monate * 24 Stunden)\n",
    "T = 288\n",
    "\n",
    "# Anzahl der Szenarien pro Zeitschritt\n",
    "num_scenarios = 5\n",
    "\n",
    "# Investitionskosten (Beispielwert)\n",
    "C_inv = 10 * 12\n",
    "\n",
    "# Social Cost of Carbon ($/t CO2)\n",
    "SCC = 100\n",
    "\n",
    "# Kosten für Netzbezug und Erlös aus Einspeisung ($/kWh)\n",
    "c_grid_buy = 0.33\n",
    "c_grid_feed = 0.08\n",
    "\n",
    "# Emissionsintensität (tCO2/kWh)\n",
    "e_grid = 0.5\n",
    "\n",
    "# PV-Parameter\n",
    "η_0 = 0.18      # Nominale PV-Wirkungsgrad\n",
    "β = 0.004       # Temperaturkoeffizient pro °C\n",
    "T_ref = 25      # Referenztemperatur in °C"
   ]
  },
  {
   "cell_type": "markdown",
   "id": "c1ac3d0c",
   "metadata": {},
   "source": [
    "## Definition der Effizienzfunktion\n",
    "\n",
    "Die Funktion `efficiency` berechnet den temperaturabhängigen PV-Wirkungsgrad."
   ]
  },
  {
   "cell_type": "code",
   "execution_count": 4,
   "id": "a92ae456",
   "metadata": {},
   "outputs": [
    {
     "data": {
      "text/plain": [
       "efficiency (generic function with 1 method)"
      ]
     },
     "metadata": {},
     "output_type": "display_data"
    }
   ],
   "source": [
    "function efficiency(T_t)\n",
    "    return η_0 * (1 - β * (T_t - T_ref))\n",
    "end"
   ]
  },
  {
   "cell_type": "markdown",
   "id": "4c847af6",
   "metadata": {},
   "source": [
    "## Erzeugung der stochastischen Verteilungen\n",
    "\n",
    "In diesem Abschnitt wird für jeden Zeitschritt ein Vektor von Verteilungen erstellt, der Solarstrahlung, Temperatur und Verbrauch abbildet. Dabei werden saisonale und tageszeitliche Effekte berücksichtigt."
   ]
  },
  {
   "cell_type": "code",
   "execution_count": 5,
   "id": "2b6b60bd",
   "metadata": {},
   "outputs": [],
   "source": [
    "using Distributions, Random\n",
    "\n",
    "# Funktion zur Erzeugung eines Verteilungsvektors für einen Zeitschritt\n",
    "function generate_distributions(si::Float64, consumption_mean::Float64, temp_mean::Float64, hour::Int)\n",
    "    if hour < 6 || hour > 22\n",
    "        # Nachtstunden: nahezu keine Sonneneinstrahlung\n",
    "        solar = Beta(1, 1000)  \n",
    "        temperature = Normal(temp_mean - 4, 9)\n",
    "        consumption = Normal(consumption_mean/(consumption_mean - 1), consumption_mean / 11)\n",
    "    else\n",
    "        # Tagesstunden: solare Einstrahlung mit Beta-Verteilung\n",
    "        β_param = ((si * (1 + si) / (si / 10)) - 1) * (1 - si)\n",
    "        α_param = si * β_param / (1 - si)\n",
    "        solar = Beta(α_param, β_param)\n",
    "        temperature = Normal(temp_mean, 9)\n",
    "        consumption = Normal(consumption_mean, consumption_mean / 11)\n",
    "    end\n",
    "    return [solar, consumption, temperature]\n",
    "end\n",
    "\n",
    "# Initialisierung des Verteilungsvektors für jeden Zeitschritt\n",
    "dist_vec = Vector{Vector{Distribution}}(undef, 12 * 24)\n",
    "\n",
    "for month in 1:12\n",
    "    for hour in 1:24\n",
    "        # Saisonale und tageszeitabhängige Parameter\n",
    "        si = 0.25 + 0.1 * sin(2π * month / 12)  \n",
    "        si = hour < 6 || hour > 22 ? 0.0 : si  \n",
    "        consumption_mean = 90.0 + 10 * sin(2π * hour / 24)\n",
    "        temp_mean = 13.0 + 5 * cos(2π * month / 12)\n",
    "        \n",
    "        # Speichern des Verteilungsvektors\n",
    "        dist_vec[(month - 1) * 24 + hour] = generate_distributions(si, consumption_mean, temp_mean, hour)\n",
    "    end\n",
    "end"
   ]
  },
  {
   "cell_type": "markdown",
   "id": "71ab2ec2",
   "metadata": {},
   "source": [
    "## Erzeugung der Dummy-Szenarien\n",
    "\n",
    "Für jeden Zeitschritt werden 5 Szenarien für Solarstrahlung, Verbrauch und Temperatur erzeugt. Außerdem werden die Szenario-Wahrscheinlichkeiten (gleichverteilt) festgelegt."
   ]
  },
  {
   "cell_type": "code",
   "execution_count": 6,
   "id": "c8dd2eb2",
   "metadata": {},
   "outputs": [],
   "source": [
    "# Gesamtzahl der Zeitschritte\n",
    "T_total = 12 * 24\n",
    "\n",
    "# Erzeugen der Dummy-Szenarien für Solar (Index 1 im Verteilungsvektor)\n",
    "S_t_omega = [ [rand(dist_vec[t][1]) for ω in 1:num_scenarios] for t in 1:T_total ]\n",
    "\n",
    "# Erzeugen der Dummy-Szenarien für Verbrauch (Index 2 im Verteilungsvektor)\n",
    "L_t_omega = [ [rand(dist_vec[t][2]) for ω in 1:num_scenarios] for t in 1:T_total ]\n",
    "\n",
    "# Erzeugen der Dummy-Szenarien für Temperatur (Index 3 im Verteilungsvektor)\n",
    "T_t_omega = [ [rand(dist_vec[t][3]) for ω in 1:num_scenarios] for t in 1:T_total ]\n",
    "\n",
    "# Szenario-Wahrscheinlichkeiten (uniform verteilt)\n",
    "Φ_t_omega = [ [1/num_scenarios for ω in 1:num_scenarios] for t in 1:T_total ]\n",
    "nothing"
   ]
  },
  {
   "cell_type": "markdown",
   "id": "450c251b",
   "metadata": {},
   "source": [
    "## Lade Szenario Daten"
   ]
  },
  {
   "cell_type": "code",
   "execution_count": 7,
   "id": "ba24a3d2",
   "metadata": {},
   "outputs": [
    {
     "name": "stdout",
     "output_type": "stream",
     "text": [
      "[[0.0, 2.999525267344869, 22.254531157392194], [0.0, 1.9565797642148461, 92.90035278238122], [0.0, 0.3624653274997054, 171.66315867195937], [0.0, 1.9050833876175937, 52.263956033678724], [0.0, -0.25336772350649683, 253.59294825700488]]\n",
      "[0.561, 0.202, 0.068, 0.153, 0.016]\n"
     ]
    }
   ],
   "source": [
    "# Szenarien und wahrscheinlichkeiten aus JSON-Dateien laden\n",
    "all_scenarios = JSON.parsefile(\"data/results/all_scenarios.json\")\n",
    "all_probabilities = JSON.parsefile(\"data/results/all_probabilities.json\")\n",
    "\n",
    "# Konvertiere JSON-Arrays in Julia-Arrays\n",
    "#'G(i) (Globalstrahlung)', 'T2m (Temperatur)', 'Global_active_power'\n",
    "all_scenarios = [[convert(Array{Float64,1}, scenario) for scenario in scenarios] for scenarios in all_scenarios]\n",
    "all_probabilities = [convert(Vector{Float64}, probs) for probs in all_probabilities]\n",
    "println(all_scenarios[1])\n",
    "println(all_probabilities[1])\n",
    "nothing"
   ]
  },
  {
   "cell_type": "code",
   "execution_count": 18,
   "id": "f2bf8ee0",
   "metadata": {},
   "outputs": [],
   "source": [
    "T_total = length(all_scenarios)  # 288\n",
    "num_scenarios = length(all_scenarios[1])  # 5\n",
    "\n",
    "S_t_omega = [[all_scenarios[t][ω][1] for ω in 1:num_scenarios] for t in 1:T_total]  # Solar\n",
    "L_t_omega = [[all_scenarios[t][ω][3] for ω in 1:num_scenarios] for t in 1:T_total]  # Load\n",
    "T_t_omega = [[all_scenarios[t][ω][2] for ω in 1:num_scenarios] for t in 1:T_total]  # Temperature\n",
    "\n",
    "# Szenario wahrscheinlichkeiten\n",
    "Φ_t_omega = [all_probabilities[t] for t in 1:T_total]  \n",
    "nothing"
   ]
  },
  {
   "cell_type": "markdown",
   "id": "ce89d5d2",
   "metadata": {},
   "source": [
    "## Testausgabe für den ersten Zeitschritt\n",
    "\n",
    "Wir geben die für den ersten Zeitschritt (erste Stunde im Januar) generierten Werte aus."
   ]
  },
  {
   "cell_type": "code",
   "execution_count": 9,
   "id": "af5b9c48",
   "metadata": {},
   "outputs": [
    {
     "name": "stdout",
     "output_type": "stream",
     "text": [
      "Erste Stunde im Januar:\n",
      "Solar: [0.0, 0.0, 0.0, 0.0, 0.0]\n",
      "Verbrauch: [22.254531157392194, 92.90035278238122, 171.66315867195937, 52.263956033678724, 253.59294825700488]\n",
      "Temperatur: [2.999525267344869, 1.9565797642148461, 0.3624653274997054, 1.9050833876175937, -0.25336772350649683]\n",
      "Szenario-Wahrscheinlichkeiten: [0.561, 0.202, 0.068, 0.153, 0.016]\n"
     ]
    }
   ],
   "source": [
    "println(\"Erste Stunde im Januar:\")\n",
    "println(\"Solar: \", S_t_omega[1])\n",
    "println(\"Verbrauch: \", L_t_omega[1])\n",
    "println(\"Temperatur: \", T_t_omega[1])\n",
    "println(\"Szenario-Wahrscheinlichkeiten: \", Φ_t_omega[1])"
   ]
  },
  {
   "cell_type": "markdown",
   "id": "a3d136b7",
   "metadata": {},
   "source": [
    "## Erstellung und Lösung des Optimierungsmodells\n",
    "\n",
    "Das Optimierungsmodell wird in zwei Ebenen aufgeteilt:\n",
    "\n",
    "- **Obere Ebene:** Investitionsentscheidung (Variable y_PV) unter Berücksichtigung der jährlichen Investitionskosten.\n",
    "- **Untere Ebene:** Operative Entscheidungen (Netzbezug G_in und Einspeisung G_out) für jeden Zeitschritt und jedes Szenario. Die KKT-Bedingungen der unteren Ebene werden verwendet, um das bilevel-Problem in ein Single-Level-Problem zu transformieren.\n",
    "\n",
    "Anhand der Energiebilanz wird sichergestellt, dass der Verbrauch durch PV-Erzeugung, Netzbezug und Einspeisung gedeckt wird."
   ]
  },
  {
   "cell_type": "code",
   "execution_count": 15,
   "id": "d61c082a",
   "metadata": {},
   "outputs": [
    {
     "name": "stdout",
     "output_type": "stream",
     "text": [
      "This is Ipopt version 3.14.17, running with linear solver MUMPS 5.7.3.\n",
      "\n",
      "Number of nonzeros in equality constraint Jacobian...:    15148\n",
      "Number of nonzeros in inequality constraint Jacobian.:        0\n",
      "Number of nonzeros in Lagrangian Hessian.............:     8640\n",
      "\n",
      "Total number of variables............................:     7201\n",
      "                     variables with only lower bounds:     5760\n",
      "                variables with lower and upper bounds:        1\n",
      "                     variables with only upper bounds:        0\n",
      "Total number of equality constraints.................:     7200\n",
      "Total number of inequality constraints...............:        0\n",
      "        inequality constraints with only lower bounds:        0\n",
      "   inequality constraints with lower and upper bounds:        0\n",
      "        inequality constraints with only upper bounds:        0\n",
      "\n",
      "iter    objective    inf_pr   inf_du lg(mu)  ||d||  lg(rg) alpha_du alpha_pr  ls\n",
      "   0  1.4591985e+02 3.37e+02 1.00e+02  -1.0 0.00e+00    -  0.00e+00 0.00e+00   0\n",
      "   1  1.6520426e+02 3.37e+02 1.00e+02  -1.0 1.69e+02    -  5.87e-05 5.87e-05h  1\n",
      "   2  1.9559381e+02 3.37e+02 1.00e+02  -1.0 3.37e+02    -  6.00e-05 5.84e-05h  1\n",
      "   3  2.6621199e+02 3.37e+02 1.00e+02  -1.0 3.37e+02    -  1.25e-04 1.17e-04h  1\n",
      "   4  4.2328713e+02 3.37e+02 1.88e+03  -1.0 3.37e+02    -  2.59e-04 2.37e-04h  1\n",
      "   5  7.5850525e+02 3.37e+02 4.11e+03  -1.0 3.37e+02    -  5.38e-04 4.79e-04h  1\n",
      "   6  1.4528812e+03 3.36e+02 8.78e+03  -1.0 3.37e+02    -  1.13e-03 9.71e-04h  1\n",
      "   7  2.8649285e+03 3.36e+02 1.61e+04  -1.0 3.36e+02    -  2.42e-03 1.96e-03h  1\n",
      "   8  5.6376248e+03 3.34e+02 2.97e+04  -1.0 3.36e+02    -  4.77e-03 3.86e-03h  1\n",
      "   9  9.3791618e+03 3.33e+02 3.04e+04  -1.0 3.34e+02    -  5.60e-03 5.24e-03h  1\n",
      "iter    objective    inf_pr   inf_du lg(mu)  ||d||  lg(rg) alpha_du alpha_pr  ls\n",
      "  10  1.2602037e+04 3.31e+02 3.24e+04  -1.0 3.33e+02    -  4.80e-03 4.55e-03h  1\n",
      "  11  1.3286434e+04 3.31e+02 3.22e+04  -1.0 3.31e+02    -  1.02e-03 9.88e-04h  1\n",
      "  12  1.6364130e+04 3.29e+02 3.04e+04  -1.0 3.31e+02    -  4.72e-03 4.38e-03h  1\n",
      "  13  1.9181159e+04 3.28e+02 2.95e+04  -1.0 3.29e+02    -  4.19e-03 4.02e-03h  1\n",
      "  14  1.9907684e+04 3.28e+02 2.93e+04  -1.0 3.28e+02    -  1.07e-03 1.05e-03h  1\n",
      "  15  2.1879609e+04 3.27e+02 4.65e+04  -1.0 3.28e+02    -  5.09e-03 2.83e-03h  1\n",
      "  16  2.3105043e+04 3.26e+02 5.06e+04  -1.0 3.27e+02    -  2.21e-03 1.77e-03h  1\n",
      "  17  2.3295168e+04 3.26e+02 5.06e+04  -1.0 3.26e+02    -  2.96e-04 2.93e-04h  1\n",
      "  18  2.3276727e+04 3.26e+02 5.06e+04  -1.0 3.84e+03    -  7.76e-06 7.76e-06f  1\n",
      "  19  2.4003009e+04 3.26e+02 7.07e+04  -1.0 3.26e+02    -  3.14e-03 1.05e-03h  1\n",
      "iter    objective    inf_pr   inf_du lg(mu)  ||d||  lg(rg) alpha_du alpha_pr  ls\n",
      "  20  2.4367617e+04 3.26e+02 7.11e+04  -1.0 3.26e+02    -  5.87e-04 5.34e-04h  1\n",
      "  21  2.5389183e+04 3.25e+02 1.01e+05  -1.0 3.26e+02    -  4.62e-03 1.48e-03h  1\n",
      "  22  2.6885981e+04 3.24e+02 1.08e+05  -1.0 3.25e+02    -  2.89e-03 2.18e-03h  1\n",
      "  23  2.7457134e+04 3.24e+02 1.08e+05  -1.0 3.24e+02    -  9.03e-04 8.48e-04h  1\n",
      "  24  2.8381601e+04 3.24e+02 1.09e+05  -1.0 3.24e+02    -  1.41e-03 1.36e-03h  1\n",
      "  25  2.8676790e+04 3.24e+02 1.14e+05  -1.0 3.24e+02    -  1.03e-03 4.30e-04h  1\n",
      "  26  2.9248254e+04 3.23e+02 1.42e+05  -1.0 3.24e+02    -  3.74e-03 8.33e-04h  1\n",
      "  27  3.0403488e+04 3.23e+02 1.36e+05  -1.0 3.23e+02    -  1.17e-03 1.69e-03h  1\n",
      "  28  3.0488302e+04 3.23e+02 1.37e+05  -1.0 3.23e+02    -  1.44e-04 1.38e-04h  1\n",
      "  29  3.0869976e+04 3.23e+02 1.37e+05  -1.0 3.23e+02    -  5.78e-04 5.69e-04h  1\n",
      "iter    objective    inf_pr   inf_du lg(mu)  ||d||  lg(rg) alpha_du alpha_pr  ls\n",
      "  30  3.1369998e+04 3.22e+02 1.77e+05  -1.0 3.23e+02    -  4.99e-03 7.32e-04h  1\n",
      "  31  3.1734350e+04 3.22e+02 1.78e+05  -1.0 3.22e+02    -  7.12e-04 5.35e-04h  1\n",
      "  32  3.4117292e+04 3.21e+02 4.00e+05  -1.0 3.22e+02   0.0 2.72e-02 3.50e-03h  1\n",
      "  33  3.4626680e+04 3.21e+02 4.00e+05  -1.0 3.21e+02    -  7.92e-04 7.66e-04h  1\n",
      "  34  3.5169346e+04 3.20e+02 4.03e+05  -1.0 3.21e+02    -  1.28e-03 8.34e-04h  1\n",
      "  35  3.5590536e+04 3.20e+02 4.03e+05  -1.0 3.20e+02    -  6.82e-04 6.74e-04h  1\n",
      "  36  3.6209640e+04 3.20e+02 4.45e+05  -1.0 3.20e+02    -  5.53e-03 9.14e-04h  1\n",
      "  37  3.6414766e+04 3.20e+02 4.87e+05  -1.0 3.20e+02    -  5.00e-03 3.03e-04h  1\n",
      "  38  3.8514420e+04 3.19e+02 4.80e+05  -1.0 3.20e+02    -  2.46e-03 3.10e-03h  1\n",
      "  39  3.8575256e+04 3.19e+02 2.67e+06  -1.0 3.19e+02  -0.5 1.21e-06 9.70e-05h  1\n",
      "iter    objective    inf_pr   inf_du lg(mu)  ||d||  lg(rg) alpha_du alpha_pr  ls\n",
      "  40  3.8875068e+04 3.19e+02 2.67e+06  -1.0 3.19e+02    -  4.80e-04 4.58e-04h  1\n",
      "  41  4.0279961e+04 3.18e+02 2.66e+06  -1.0 3.19e+02    -  2.19e-03 2.10e-03h  1\n",
      "  42  4.2914006e+04 3.17e+02 3.67e+06  -1.0 3.18e+02    -  2.28e-01 3.92e-03h  1\n",
      "  43  8.2768528e+04 2.98e+02 3.07e+06  -1.0 3.17e+02    -  9.19e-02 5.95e-02h  1\n",
      "  44  1.5544288e+05 2.64e+02 5.08e+06  -1.0 2.98e+02    -  4.26e-01 1.15e-01h  1\n",
      "  45  2.7661681e+05 2.06e+02 4.30e+06  -1.0 2.64e+02    -  3.00e-01 2.17e-01h  1\n",
      "  46  4.4522873e+05 1.27e+02 3.76e+06  -1.0 2.06e+02    -  1.00e+00 3.86e-01h  1\n",
      "  47  6.1745696e+05 4.53e+01 1.34e+06  -1.0 1.27e+02    -  1.00e+00 6.43e-01h  1\n",
      "  48  7.0396072e+05 4.39e+00 2.32e+05  -1.0 4.53e+01    -  1.00e+00 9.03e-01h  1\n",
      "  49  7.1326191e+05 2.26e-11 4.55e+05  -1.0 4.39e+00    -  1.00e+00 1.00e+00h  1\n",
      "iter    objective    inf_pr   inf_du lg(mu)  ||d||  lg(rg) alpha_du alpha_pr  ls\n",
      "  50  7.1326191e+05 2.26e-11 1.74e+07  -1.0 1.83e-03    -  7.27e-01 1.00e+00h  1\n",
      "  51  7.1326191e+05 1.53e-11 1.38e+07  -1.0 1.47e-03   4.5 1.00e+00 1.00e+00h  1\n",
      "  52  7.1326191e+05 2.21e-11 2.75e+06  -1.0 3.70e-03    -  8.93e-01 1.00e+00f  1\n",
      "  53  7.1326191e+05 1.07e-12 6.47e+04  -1.0 3.85e-04   4.0 1.00e+00 1.00e+00h  1\n",
      "  54  7.1326191e+05 2.16e-13 1.48e+06  -1.7 1.50e-03    -  1.00e+00 1.00e+00f  1\n",
      "  55  7.1326191e+05 1.61e-11 1.45e+07  -1.7 8.34e-02    -  1.00e+00 1.00e+00f  1\n",
      "  56  7.1326191e+05 2.88e-11 1.28e+07  -1.7 8.44e-02    -  1.00e+00 1.00e+00F  1\n",
      "  57  7.1326191e+05 4.27e-12 1.84e+06  -1.7 2.70e-02    -  1.00e+00 1.00e+00f  1\n",
      "  58  7.1326191e+05 1.14e-13 5.05e+04  -1.7 3.15e-03    -  1.00e+00 1.00e+00f  1\n",
      "  59  7.1326191e+05 2.84e-14 7.09e+01  -1.7 1.85e-04    -  1.00e+00 1.00e+00h  1\n",
      "iter    objective    inf_pr   inf_du lg(mu)  ||d||  lg(rg) alpha_du alpha_pr  ls\n",
      "  60  7.1326191e+05 2.84e-14 1.33e-01  -3.8 8.40e-09    -  1.00e+00 1.00e+00h  1\n",
      "  61  7.1326191e+05 2.84e-14 6.43e-06  -5.7 5.41e-11    -  1.00e+00 1.00e+00h  1\n",
      "  62  7.1326191e+05 2.84e-14 8.73e-09  -8.6 5.92e-12    -  1.00e+00 1.00e+00h  1\n",
      "\n",
      "Number of Iterations....: 62\n",
      "\n",
      "                                   (scaled)                 (unscaled)\n",
      "Objective...............:   5.9438492680973851e+05    7.1326191217168618e+05\n",
      "Dual infeasibility......:   8.7261176062725099e-09    1.0471341127527012e-08\n",
      "Constraint violation....:   2.8421709430404007e-14    2.8421709430404007e-14\n",
      "Variable bound violation:   5.4072740067760302e-37    5.4072740067760302e-37\n",
      "Complementarity.........:   2.5059036469424163e-09    3.0070843763308993e-09\n",
      "Overall NLP error.......:   8.7261176062725099e-09    1.0471341127527012e-08\n",
      "\n",
      "\n",
      "Number of objective function evaluations             = 64\n",
      "Number of objective gradient evaluations             = 63\n",
      "Number of equality constraint evaluations            = 64\n",
      "Number of inequality constraint evaluations          = 0\n",
      "Number of equality constraint Jacobian evaluations   = 63\n",
      "Number of inequality constraint Jacobian evaluations = 0\n",
      "Number of Lagrangian Hessian evaluations             = 62\n",
      "Total seconds in IPOPT                               = 1.547\n",
      "\n",
      "EXIT: Optimal Solution Found.\n"
     ]
    }
   ],
   "source": [
    "model = Model(Ipopt.Optimizer)\n",
    "\n",
    "# Obere Ebene: Investitionsentscheidung (Leader)\n",
    "@variable(model, 0 <= y_PV <= 30)\n",
    "\n",
    "# Untere Ebene: Operationelle Variablen (Follower)\n",
    "@variable(model, G_in[1:T, 1:num_scenarios] >= 0)   # Netzimport\n",
    "@variable(model, G_out[1:T, 1:num_scenarios] >= 0)   # Netzexport\n",
    "\n",
    "# Dualvariablen für KKT-Bedingungen\n",
    "@variable(model, λ[1:T, 1:num_scenarios])\n",
    "@variable(model, nu_in[1:T, 1:num_scenarios] >= 0)\n",
    "@variable(model, nu_out[1:T, 1:num_scenarios] >= 0)\n",
    "\n",
    "for t in 1:T, ω in 1:num_scenarios\n",
    "    # Berechnung der PV-Erzeugung als fester Wert unter Nutzung der Effizienzfunktion\n",
    "    P_PV_val = efficiency(T_t_omega[t][ω]) * S_t_omega[t][ω]\n",
    "    \n",
    "    # Primal-Nebenbedingung: Energiebilanz\n",
    "    @constraint(model, L_t_omega[t][ω] == y_PV * P_PV_val + G_in[t, ω] - G_out[t, ω])\n",
    "    \n",
    "    # Stationaritätsbedingungen (Gradienten der Lagrangefunktion)\n",
    "    @constraint(model, c_grid_buy - λ[t, ω] - nu_in[t, ω] == 0)\n",
    "    @constraint(model, -c_grid_feed + λ[t, ω] - nu_out[t, ω] == 0)\n",
    "    \n",
    "    # Komplementaritätsbedingungen (als nichtlineare Nebenbedingungen)\n",
    "    @NLconstraint(model, nu_in[t, ω] * G_in[t, ω] == 0)\n",
    "    @NLconstraint(model, nu_out[t, ω] * G_out[t, ω] == 0)\n",
    "end\n",
    "\n",
    "# Zielfunktion: Minimierung der Investitionskosten plus der gewichteten Betriebs- und Emissionskosten\n",
    "@objective(model, Min,\n",
    "    C_inv * y_PV +\n",
    "    sum(Φ_t_omega[t][ω] * (c_grid_buy * G_in[t, ω] - c_grid_feed * G_out[t, ω] + SCC * e_grid * G_in[t, ω])\n",
    "        for t in 1:T, ω in 1:num_scenarios)\n",
    ")\n",
    "\n",
    "optimize!(model)"
   ]
  },
  {
   "cell_type": "markdown",
   "id": "96adcd4f",
   "metadata": {},
   "source": [
    "## Ausgabe der optimalen PV-Kapazität\n",
    "\n",
    "Nach der Optimierung wird die optimale Investitionsentscheidung (PV-Kapazität) ausgegeben."
   ]
  },
  {
   "cell_type": "code",
   "execution_count": 16,
   "id": "7edc7fbb",
   "metadata": {},
   "outputs": [
    {
     "name": "stdout",
     "output_type": "stream",
     "text": [
      "Optimale Fläche: 0.7308059564203273\n"
     ]
    }
   ],
   "source": [
    "println(\"Optimale Fläche: \", value(y_PV))"
   ]
  },
  {
   "cell_type": "markdown",
   "id": "fad2183a",
   "metadata": {},
   "source": [
    "## Big M"
   ]
  },
  {
   "cell_type": "code",
   "execution_count": null,
   "id": "faec84d8",
   "metadata": {},
   "outputs": [
    {
     "name": "stdout",
     "output_type": "stream",
     "text": [
      "nl_solver   : MathOptInterface.OptimizerWithAttributes(Ipopt.Optimizer, Pair{MathOptInterface.AbstractOptimizerAttribute, Any}[MathOptInterface.RawOptimizerAttribute(\"print_level\") => 0])\n",
      "mip_solver  : MathOptInterface.OptimizerWithAttributes(HiGHS.Optimizer, Pair{MathOptInterface.AbstractOptimizerAttribute, Any}[MathOptInterface.RawOptimizerAttribute(\"output_flag\") => false])\n",
      "log_levels  : [:Options, :Table, :Info]\n",
      "\n",
      "#Variables: 10081\n",
      "#IntBinVar: 2880\n",
      "Obj Sense: Min\n",
      "\n",
      "Start values are not feasible.\n",
      "Status of relaxation: LOCALLY_SOLVED\n",
      "Time for relaxation: 32.73399996757507\n",
      "Relaxation Obj: 529925.1982301945\n",
      "\n",
      "       MIPobj              NLPobj       Time \n",
      "=============================================\n",
      "      1345.546             9.0e-6       19.3 \n",
      "\n",
      "FP: 27.60199999809265 s\n",
      "FP: 1 round\n",
      "FP: Obj: 529925.1988082626\n",
      "Obj: 529925.1988082626\n",
      "Optimale Fläche: 5.585074148198794\n"
     ]
    }
   ],
   "source": [
    "using JuMP, Juniper, Ipopt, HiGHS\n",
    "ipopt = optimizer_with_attributes(Ipopt.Optimizer, \"print_level\" => 0)\n",
    "highs = optimizer_with_attributes(HiGHS.Optimizer, \"output_flag\" => false)\n",
    "model = Model(\n",
    "    optimizer_with_attributes(\n",
    "        Juniper.Optimizer,\n",
    "        \"nl_solver\" => ipopt,\n",
    "        \"mip_solver\" => highs,\n",
    "    ),\n",
    ")\n",
    "\n",
    "# Obere Ebene: Investitionsentscheidung (Leader)\n",
    "@variable(model, 0 <= y_PV <= 30)\n",
    "\n",
    "# Untere Ebene: Operationelle Variablen (Follower)\n",
    "@variable(model, G_in[1:T, 1:num_scenarios] >= 0)   # Netzimport\n",
    "@variable(model, G_out[1:T, 1:num_scenarios] >= 0)   # Netzexport\n",
    "\n",
    "# Dualvariablen für KKT-Bedingungen\n",
    "@variable(model, λ[1:T, 1:num_scenarios])\n",
    "@variable(model, nu_in[1:T, 1:num_scenarios] >= 0)\n",
    "@variable(model, nu_out[1:T, 1:num_scenarios] >= 0)\n",
    "@variable(model, z_in[1:T, 1:num_scenarios], Bin)\n",
    "@variable(model, z_out[1:T, 1:num_scenarios], Bin)\n",
    "\n",
    "M = 1_000  # Big-M Wert\n",
    "\n",
    "for t in 1:T, ω in 1:num_scenarios\n",
    "    # Berechnung der PV-Erzeugung als fester Wert unter Nutzung der Effizienzfunktion\n",
    "    P_PV_val = efficiency(T_t_omega[t][ω]) * S_t_omega[t][ω]\n",
    "    \n",
    "    # Primal-Nebenbedingung: Energiebilanz\n",
    "    @constraint(model, L_t_omega[t][ω] == y_PV * P_PV_val + G_in[t, ω] - G_out[t, ω])\n",
    "    \n",
    "    # Stationaritätsbedingungen (Gradienten der Lagrangefunktion)\n",
    "    @constraint(model, c_grid_buy - λ[t, ω] - nu_in[t, ω] == 0)\n",
    "    @constraint(model, -c_grid_feed + λ[t, ω] - nu_out[t, ω] == 0)\n",
    "    \n",
    "    # Big-M Formulierung für Komplementaritätsbedingungen\n",
    "    @constraint(model, G_in[t, ω] <= M * z_in[t, ω])\n",
    "    @constraint(model, nu_in[t, ω] <= M * (1 - z_in[t, ω]))\n",
    "    @constraint(model, G_out[t, ω] <= M * z_out[t, ω])\n",
    "    @constraint(model, nu_out[t, ω] <= M * (1 - z_out[t, ω]))\n",
    "end\n",
    "\n",
    "# Zielfunktion: Minimierung der Investitionskosten plus der gewichteten Betriebs- und Emissionskosten\n",
    "@objective(model, Min,\n",
    "    C_inv * y_PV +\n",
    "    sum(Φ_t_omega[t][ω] * (c_grid_buy * G_in[t, ω] - c_grid_feed * G_out[t, ω] + SCC * e_grid * G_in[t, ω])\n",
    "        for t in 1:T, ω in 1:num_scenarios)\n",
    ")\n",
    "\n",
    "optimize!(model)\n",
    "println(\"Optimale Fläche: \", value(y_PV))"
   ]
  },
  {
   "cell_type": "code",
   "execution_count": null,
   "id": "7a0c4b18",
   "metadata": {},
   "outputs": [],
   "source": []
  }
 ],
 "metadata": {
  "kernelspec": {
   "display_name": "Julia 1.11.0",
   "language": "julia",
   "name": "julia-1.11"
  },
  "language_info": {
   "file_extension": ".jl",
   "mimetype": "application/julia",
   "name": "julia",
   "version": "1.11.0"
  }
 },
 "nbformat": 4,
 "nbformat_minor": 5
}
