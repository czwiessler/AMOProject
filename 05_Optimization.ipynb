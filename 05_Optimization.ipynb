{
 "cells": [
  {
   "cell_type": "markdown",
   "id": "a7b5fddb",
   "metadata": {},
   "source": [
    "# Stochastisches Bilevel-Modell für PV-Investitions- und Betriebsentscheidungen\n",
    "\n",
    "Dieses Notebook implementiert ein stochastisches Bilevel-Modell, das eine Investitionsentscheidung für eine Photovoltaik-(PV)-Anlage und dazugehörige operative Entscheidungen (Netzbezug und Einspeisung) integriert. Der Code nutzt Julia, JuMP und Ipopt und bildet das in der zugehörigen PDF beschriebene Modell ab."
   ]
  },
  {
   "cell_type": "code",
   "execution_count": 1,
   "id": "19c9e7f6",
   "metadata": {},
   "outputs": [
    {
     "name": "stderr",
     "output_type": "stream",
     "text": [
      "\u001b[32m\u001b[1m  Activating\u001b[22m\u001b[39m project at `c:\\Users\\Reintjes\\Documents\\aD\\UoC\\Semester1\\AMO\\Projekt\\AMOProject`\n",
      "┌ Warning: The project dependencies or compat requirements have changed since the manifest was last resolved.\n",
      "│ It is recommended to `Pkg.resolve()` or consider `Pkg.update()` if necessary.\n",
      "└ @ Pkg.API C:\\Users\\Reintjes\\.julia\\juliaup\\julia-1.11.2+0.x64.w64.mingw32\\share\\julia\\stdlib\\v1.11\\Pkg\\src\\API.jl:1200\n"
     ]
    }
   ],
   "source": [
    "using Pkg\n",
    "Pkg.activate(\".\")\n",
    "Pkg.instantiate()"
   ]
  },
  {
   "cell_type": "code",
   "execution_count": 2,
   "id": "bb2bae55",
   "metadata": {},
   "outputs": [
    {
     "name": "stderr",
     "output_type": "stream",
     "text": [
      "\u001b[32m\u001b[1m    Updating\u001b[22m\u001b[39m registry at `C:\\Users\\Reintjes\\.julia\\registries\\General.toml`\n",
      "\u001b[32m\u001b[1m   Resolving\u001b[22m\u001b[39m package versions...\n",
      "\u001b[32m\u001b[1m  No Changes\u001b[22m\u001b[39m to `C:\\Users\\Reintjes\\Documents\\aD\\UoC\\Semester1\\AMO\\Projekt\\AMOProject\\Project.toml`\n",
      "\u001b[32m\u001b[1m  No Changes\u001b[22m\u001b[39m to `C:\\Users\\Reintjes\\Documents\\aD\\UoC\\Semester1\\AMO\\Projekt\\AMOProject\\Manifest.toml`\n",
      "\u001b[32m\u001b[1m   Resolving\u001b[22m\u001b[39m package versions...\n",
      "\u001b[32m\u001b[1m  No Changes\u001b[22m\u001b[39m to `C:\\Users\\Reintjes\\Documents\\aD\\UoC\\Semester1\\AMO\\Projekt\\AMOProject\\Project.toml`\n",
      "\u001b[32m\u001b[1m  No Changes\u001b[22m\u001b[39m to `C:\\Users\\Reintjes\\Documents\\aD\\UoC\\Semester1\\AMO\\Projekt\\AMOProject\\Manifest.toml`\n",
      "\u001b[32m\u001b[1m   Resolving\u001b[22m\u001b[39m package versions...\n",
      "\u001b[32m\u001b[1m  No Changes\u001b[22m\u001b[39m to `C:\\Users\\Reintjes\\Documents\\aD\\UoC\\Semester1\\AMO\\Projekt\\AMOProject\\Project.toml`\n",
      "\u001b[32m\u001b[1m  No Changes\u001b[22m\u001b[39m to `C:\\Users\\Reintjes\\Documents\\aD\\UoC\\Semester1\\AMO\\Projekt\\AMOProject\\Manifest.toml`\n",
      "\u001b[32m\u001b[1m   Resolving\u001b[22m\u001b[39m package versions...\n",
      "\u001b[32m\u001b[1m  No Changes\u001b[22m\u001b[39m to `C:\\Users\\Reintjes\\Documents\\aD\\UoC\\Semester1\\AMO\\Projekt\\AMOProject\\Project.toml`\n",
      "\u001b[32m\u001b[1m  No Changes\u001b[22m\u001b[39m to `C:\\Users\\Reintjes\\Documents\\aD\\UoC\\Semester1\\AMO\\Projekt\\AMOProject\\Manifest.toml`\n",
      "\u001b[32m\u001b[1m   Resolving\u001b[22m\u001b[39m package versions...\n",
      "\u001b[32m\u001b[1m  No Changes\u001b[22m\u001b[39m to `C:\\Users\\Reintjes\\Documents\\aD\\UoC\\Semester1\\AMO\\Projekt\\AMOProject\\Project.toml`\n",
      "\u001b[32m\u001b[1m  No Changes\u001b[22m\u001b[39m to `C:\\Users\\Reintjes\\Documents\\aD\\UoC\\Semester1\\AMO\\Projekt\\AMOProject\\Manifest.toml`\n",
      "\u001b[32m\u001b[1m   Resolving\u001b[22m\u001b[39m package versions...\n",
      "\u001b[32m\u001b[1m  No Changes\u001b[22m\u001b[39m to `C:\\Users\\Reintjes\\Documents\\aD\\UoC\\Semester1\\AMO\\Projekt\\AMOProject\\Project.toml`\n",
      "\u001b[32m\u001b[1m  No Changes\u001b[22m\u001b[39m to `C:\\Users\\Reintjes\\Documents\\aD\\UoC\\Semester1\\AMO\\Projekt\\AMOProject\\Manifest.toml`\n",
      "\u001b[32m\u001b[1m   Resolving\u001b[22m\u001b[39m package versions...\n",
      "\u001b[32m\u001b[1m  No Changes\u001b[22m\u001b[39m to `C:\\Users\\Reintjes\\Documents\\aD\\UoC\\Semester1\\AMO\\Projekt\\AMOProject\\Project.toml`\n",
      "\u001b[32m\u001b[1m  No Changes\u001b[22m\u001b[39m to `C:\\Users\\Reintjes\\Documents\\aD\\UoC\\Semester1\\AMO\\Projekt\\AMOProject\\Manifest.toml`\n",
      "\u001b[32m\u001b[1m   Resolving\u001b[22m\u001b[39m package versions...\n",
      "\u001b[32m\u001b[1m  No Changes\u001b[22m\u001b[39m to `C:\\Users\\Reintjes\\Documents\\aD\\UoC\\Semester1\\AMO\\Projekt\\AMOProject\\Project.toml`\n",
      "\u001b[32m\u001b[1m  No Changes\u001b[22m\u001b[39m to `C:\\Users\\Reintjes\\Documents\\aD\\UoC\\Semester1\\AMO\\Projekt\\AMOProject\\Manifest.toml`\n",
      "\u001b[32m\u001b[1m   Resolving\u001b[22m\u001b[39m package versions...\n",
      "\u001b[32m\u001b[1m  No Changes\u001b[22m\u001b[39m to `C:\\Users\\Reintjes\\Documents\\aD\\UoC\\Semester1\\AMO\\Projekt\\AMOProject\\Project.toml`\n",
      "\u001b[32m\u001b[1m  No Changes\u001b[22m\u001b[39m to `C:\\Users\\Reintjes\\Documents\\aD\\UoC\\Semester1\\AMO\\Projekt\\AMOProject\\Manifest.toml`\n",
      "\u001b[32m\u001b[1m   Resolving\u001b[22m\u001b[39m package versions...\n",
      "\u001b[32m\u001b[1m  No Changes\u001b[22m\u001b[39m to `C:\\Users\\Reintjes\\Documents\\aD\\UoC\\Semester1\\AMO\\Projekt\\AMOProject\\Project.toml`\n",
      "\u001b[32m\u001b[1m  No Changes\u001b[22m\u001b[39m to `C:\\Users\\Reintjes\\Documents\\aD\\UoC\\Semester1\\AMO\\Projekt\\AMOProject\\Manifest.toml`\n",
      "\u001b[32m\u001b[1m   Resolving\u001b[22m\u001b[39m package versions...\n",
      "\u001b[32m\u001b[1m  No Changes\u001b[22m\u001b[39m to `C:\\Users\\Reintjes\\Documents\\aD\\UoC\\Semester1\\AMO\\Projekt\\AMOProject\\Project.toml`\n",
      "\u001b[32m\u001b[1m  No Changes\u001b[22m\u001b[39m to `C:\\Users\\Reintjes\\Documents\\aD\\UoC\\Semester1\\AMO\\Projekt\\AMOProject\\Manifest.toml`\n",
      "\u001b[32m\u001b[1m   Resolving\u001b[22m\u001b[39m package versions...\n",
      "\u001b[32m\u001b[1m    Updating\u001b[22m\u001b[39m `C:\\Users\\Reintjes\\Documents\\aD\\UoC\\Semester1\\AMO\\Projekt\\AMOProject\\Project.toml`\n",
      "  \u001b[90m[2ddba703] \u001b[39m\u001b[92m+ Juniper v0.9.2\u001b[39m\n",
      "\u001b[32m\u001b[1m    Updating\u001b[22m\u001b[39m `C:\\Users\\Reintjes\\Documents\\aD\\UoC\\Semester1\\AMO\\Projekt\\AMOProject\\Manifest.toml`\n",
      "  \u001b[90m[2ddba703] \u001b[39m\u001b[92m+ Juniper v0.9.2\u001b[39m\n",
      "  \u001b[90m[8ba89e20] \u001b[39m\u001b[92m+ Distributed v1.11.0\u001b[39m\n",
      "\u001b[92m\u001b[1mPrecompiling\u001b[22m\u001b[39m project...\n",
      "  13484.4 ms\u001b[32m  ✓ \u001b[39mJuniper\n",
      "  1 dependency successfully precompiled in 18 seconds. 236 already precompiled.\n"
     ]
    }
   ],
   "source": [
    "Pkg.add(\"MathOptInterface\")\n",
    "Pkg.add(\"JuMP\")\n",
    "Pkg.add(\"Distributions\")\n",
    "Pkg.add(\"HiGHS\")\n",
    "Pkg.add(\"Clustering\")\n",
    "Pkg.add(\"Distances\")\n",
    "Pkg.add(\"Plots\")\n",
    "Pkg.add(\"Statistics\")\n",
    "Pkg.add(\"StatsBase\")\n",
    "Pkg.add(\"Ipopt\")\n",
    "Pkg.add(\"BilevelJuMP\")\n",
    "Pkg.add(\"Juniper\") #new"
   ]
  },
  {
   "cell_type": "code",
   "execution_count": 3,
   "id": "336d8115",
   "metadata": {},
   "outputs": [],
   "source": [
    "using JuMP, Distributions, Clustering, Distances, Plots, Statistics, StatsBase, Ipopt, Juniper"
   ]
  },
  {
   "cell_type": "markdown",
   "id": "60b584d8",
   "metadata": {},
   "source": [
    "## Parameterdefinitionen\n",
    "\n",
    "Hier werden die grundlegenden Parameter definiert, wie etwa die Anzahl der Zeitschritte, Investitionskosten, Strompreise sowie Parameter zur Modellierung der PV-Leistung und Emissionen."
   ]
  },
  {
   "cell_type": "code",
   "execution_count": 4,
   "id": "9a0d0c03",
   "metadata": {},
   "outputs": [
    {
     "data": {
      "text/plain": [
       "0.055839973499395165"
      ]
     },
     "metadata": {},
     "output_type": "display_data"
    }
   ],
   "source": [
    "# Anzahl der Zeitperioden (z.B. 12 Monate * 24 Stunden)\n",
    "T = 288\n",
    "\n",
    "# Anzahl der Szenarien pro Zeitschritt\n",
    "num_scenarios = 5\n",
    "\n",
    "# Investitionskosten (Beispielwert)\n",
    "#C_inv = 10 * 12\n",
    "\n",
    "# Social Cost of Carbon (€/t CO2)\n",
    "SCC = 100\n",
    "\n",
    "# Kosten für Netzbezug und Erlös aus Einspeisung (€/kWh)\n",
    "c_grid_buy = 0.47\n",
    "c_grid_feed = 0.083\n",
    "\n",
    "# Emissionsintensität (tCO2/kWh)\n",
    "e_grid = 0.00038\n",
    "\n",
    "# PV-Parameter\n",
    "η_0 = 0.18      # Nominale PV-Wirkungsgrad\n",
    "β = 0.004       # Temperaturkoeffizient pro °C\n",
    "T_ref = 25      # Referenztemperatur in °C\n",
    "\n",
    "# -- Parameter für Investitionskosten-Formel nach Bergner (2019)\n",
    "I0   = 1.923    # €/kW\n",
    "p    = 0.16     # Skalierungsparameter\n",
    "MwSt = 0.19     # 19% Mehrwertsteuer\n",
    "r    = 0.0275   # Zinssatz pro Jahr (2,75%)\n",
    "n    = 25       # Nutzungsdauer in Jahren\n",
    "\n",
    "# -- Aus der Annuitätenformel: a = r * (1+r)^n / ((1+r)^n - 1)\n",
    "#    Diesen Faktor brauchen wir, um die einmaligen Investitionskosten\n",
    "#    auf jährliche Kosten A umzurechnen.\n",
    "function annuity_factor(r, n)\n",
    "    return r * (1+r)^n / ((1+r)^n - 1)\n",
    "end\n",
    "a = annuity_factor(r, n)"
   ]
  },
  {
   "cell_type": "markdown",
   "id": "c1ac3d0c",
   "metadata": {},
   "source": [
    "## Definition der Effizienzfunktion\n",
    "\n",
    "Die Funktion `efficiency` berechnet den temperaturabhängigen PV-Wirkungsgrad."
   ]
  },
  {
   "cell_type": "code",
   "execution_count": 5,
   "id": "a92ae456",
   "metadata": {},
   "outputs": [
    {
     "data": {
      "text/plain": [
       "efficiency (generic function with 1 method)"
      ]
     },
     "metadata": {},
     "output_type": "display_data"
    }
   ],
   "source": [
    "function efficiency(T_t)\n",
    "    return η_0 * (1 - β * (T_t - T_ref))\n",
    "end"
   ]
  },
  {
   "cell_type": "markdown",
   "id": "4c847af6",
   "metadata": {},
   "source": [
    "## Erzeugung der stochastischen Verteilungen\n",
    "\n",
    "In diesem Abschnitt wird für jeden Zeitschritt ein Vektor von Verteilungen erstellt, der Solarstrahlung, Temperatur und Verbrauch abbildet. Dabei werden saisonale und tageszeitliche Effekte berücksichtigt."
   ]
  },
  {
   "cell_type": "code",
   "execution_count": 6,
   "id": "2b6b60bd",
   "metadata": {},
   "outputs": [],
   "source": [
    "using Distributions, Random\n",
    "\n",
    "# Funktion zur Erzeugung eines Verteilungsvektors für einen Zeitschritt\n",
    "function generate_distributions(si::Float64, consumption_mean::Float64, temp_mean::Float64, hour::Int)\n",
    "    if hour < 6 || hour > 22\n",
    "        # Nachtstunden: nahezu keine Sonneneinstrahlung\n",
    "        solar = Beta(1, 1000)  \n",
    "        temperature = Normal(temp_mean - 4, 9)\n",
    "        consumption = Normal(consumption_mean/(consumption_mean - 1), consumption_mean / 11)\n",
    "    else\n",
    "        # Tagesstunden: solare Einstrahlung mit Beta-Verteilung\n",
    "        β_param = ((si * (1 + si) / (si / 10)) - 1) * (1 - si)\n",
    "        α_param = si * β_param / (1 - si)\n",
    "        solar = Beta(α_param, β_param)\n",
    "        temperature = Normal(temp_mean, 9)\n",
    "        consumption = Normal(consumption_mean, consumption_mean / 11)\n",
    "    end\n",
    "    return [solar, consumption, temperature]\n",
    "end\n",
    "\n",
    "# Initialisierung des Verteilungsvektors für jeden Zeitschritt\n",
    "dist_vec = Vector{Vector{Distribution}}(undef, 12 * 24)\n",
    "\n",
    "for month in 1:12\n",
    "    for hour in 1:24\n",
    "        # Saisonale und tageszeitabhängige Parameter\n",
    "        si = 0.25 + 0.1 * sin(2π * month / 12)  \n",
    "        si = hour < 6 || hour > 22 ? 0.0 : si  \n",
    "        consumption_mean = 90.0 + 10 * sin(2π * hour / 24)\n",
    "        temp_mean = 13.0 + 5 * cos(2π * month / 12)\n",
    "        \n",
    "        # Speichern des Verteilungsvektors\n",
    "        dist_vec[(month - 1) * 24 + hour] = generate_distributions(si, consumption_mean, temp_mean, hour)\n",
    "    end\n",
    "end"
   ]
  },
  {
   "cell_type": "markdown",
   "id": "71ab2ec2",
   "metadata": {},
   "source": [
    "## Erzeugung der Dummy-Szenarien\n",
    "\n",
    "Für jeden Zeitschritt werden 5 Szenarien für Solarstrahlung, Verbrauch und Temperatur erzeugt. Außerdem werden die Szenario-Wahrscheinlichkeiten (gleichverteilt) festgelegt."
   ]
  },
  {
   "cell_type": "code",
   "execution_count": 7,
   "id": "c8dd2eb2",
   "metadata": {},
   "outputs": [
    {
     "data": {
      "text/plain": [
       "288-element Vector{Vector{Float64}}:\n",
       " [0.2, 0.2, 0.2, 0.2, 0.2]\n",
       " [0.2, 0.2, 0.2, 0.2, 0.2]\n",
       " [0.2, 0.2, 0.2, 0.2, 0.2]\n",
       " [0.2, 0.2, 0.2, 0.2, 0.2]\n",
       " [0.2, 0.2, 0.2, 0.2, 0.2]\n",
       " [0.2, 0.2, 0.2, 0.2, 0.2]\n",
       " [0.2, 0.2, 0.2, 0.2, 0.2]\n",
       " [0.2, 0.2, 0.2, 0.2, 0.2]\n",
       " [0.2, 0.2, 0.2, 0.2, 0.2]\n",
       " [0.2, 0.2, 0.2, 0.2, 0.2]\n",
       " ⋮\n",
       " [0.2, 0.2, 0.2, 0.2, 0.2]\n",
       " [0.2, 0.2, 0.2, 0.2, 0.2]\n",
       " [0.2, 0.2, 0.2, 0.2, 0.2]\n",
       " [0.2, 0.2, 0.2, 0.2, 0.2]\n",
       " [0.2, 0.2, 0.2, 0.2, 0.2]\n",
       " [0.2, 0.2, 0.2, 0.2, 0.2]\n",
       " [0.2, 0.2, 0.2, 0.2, 0.2]\n",
       " [0.2, 0.2, 0.2, 0.2, 0.2]\n",
       " [0.2, 0.2, 0.2, 0.2, 0.2]"
      ]
     },
     "metadata": {},
     "output_type": "display_data"
    }
   ],
   "source": [
    "# Gesamtzahl der Zeitschritte\n",
    "T_total = 12 * 24\n",
    "\n",
    "# Erzeugen der Dummy-Szenarien für Solar (Index 1 im Verteilungsvektor)\n",
    "S_t_omega = [ [rand(dist_vec[t][1]) for ω in 1:num_scenarios] for t in 1:T_total ]\n",
    "\n",
    "# Erzeugen der Dummy-Szenarien für Verbrauch (Index 2 im Verteilungsvektor)\n",
    "L_t_omega = [ [rand(dist_vec[t][2]) for ω in 1:num_scenarios] for t in 1:T_total ]\n",
    "\n",
    "# Erzeugen der Dummy-Szenarien für Temperatur (Index 3 im Verteilungsvektor)\n",
    "T_t_omega = [ [rand(dist_vec[t][3]) for ω in 1:num_scenarios] for t in 1:T_total ]\n",
    "\n",
    "# Szenario-Wahrscheinlichkeiten (uniform verteilt)\n",
    "Φ_t_omega = [ [1/num_scenarios for ω in 1:num_scenarios] for t in 1:T_total ]"
   ]
  },
  {
   "cell_type": "markdown",
   "id": "ce89d5d2",
   "metadata": {},
   "source": [
    "## Testausgabe für den ersten Zeitschritt\n",
    "\n",
    "Wir geben die für den ersten Zeitschritt (erste Stunde im Januar) generierten Werte aus."
   ]
  },
  {
   "cell_type": "code",
   "execution_count": 8,
   "id": "af5b9c48",
   "metadata": {},
   "outputs": [
    {
     "name": "stdout",
     "output_type": "stream",
     "text": [
      "Erste Stunde im Januar:\n",
      "Solar: [0.0006041084494892507, 0.0010541562166015768, 0.0066311315184416795, 0.00011371794046073516, 0.0003081510212139357]\n",
      "Verbrauch: [0.18371635445886603, 5.824140975682989, 5.03092715148676, -9.565328812707097, -5.769054228035606]\n",
      "Temperatur: [6.272086806266157, 15.600603907534838, 18.17846550051094, 8.763638107363413, 14.580206950550508]\n",
      "Szenario-Wahrscheinlichkeiten: [0.2, 0.2, 0.2, 0.2, 0.2]\n"
     ]
    }
   ],
   "source": [
    "println(\"Erste Stunde im Januar:\")\n",
    "println(\"Solar: \", S_t_omega[1])\n",
    "println(\"Verbrauch: \", L_t_omega[1])\n",
    "println(\"Temperatur: \", T_t_omega[1])\n",
    "println(\"Szenario-Wahrscheinlichkeiten: \", Φ_t_omega[1])"
   ]
  },
  {
   "cell_type": "markdown",
   "id": "a3d136b7",
   "metadata": {},
   "source": [
    "## Erstellung und Lösung des Optimierungsmodells\n",
    "\n",
    "Das Optimierungsmodell wird in zwei Ebenen aufgeteilt:\n",
    "\n",
    "- **Obere Ebene:** Investitionsentscheidung (Variable y_PV) unter Berücksichtigung der jährlichen Investitionskosten.\n",
    "- **Untere Ebene:** Operative Entscheidungen (Netzbezug G_in und Einspeisung G_out) für jeden Zeitschritt und jedes Szenario. Die KKT-Bedingungen der unteren Ebene werden verwendet, um das bilevel-Problem in ein Single-Level-Problem zu transformieren.\n",
    "\n",
    "Anhand der Energiebilanz wird sichergestellt, dass der Verbrauch durch PV-Erzeugung, Netzbezug und Einspeisung gedeckt wird."
   ]
  },
  {
   "cell_type": "code",
   "execution_count": 16,
   "id": "d61c082a",
   "metadata": {},
   "outputs": [
    {
     "name": "stdout",
     "output_type": "stream",
     "text": [
      "This is Ipopt version 3.14.17, running with linear solver MUMPS 5.7.3.\n",
      "\n",
      "Number of nonzeros in equality constraint Jacobian...:    15840\n",
      "Number of nonzeros in inequality constraint Jacobian.:        0\n",
      "Number of nonzeros in Lagrangian Hessian.............:     8641\n",
      "\n",
      "Total number of variables............................:     7201\n",
      "                     variables with only lower bounds:     5760\n",
      "                variables with lower and upper bounds:        1\n",
      "                     variables with only upper bounds:        0\n",
      "Total number of equality constraints.................:     7200\n",
      "Total number of inequality constraints...............:        0\n",
      "        inequality constraints with only lower bounds:        0\n",
      "   inequality constraints with lower and upper bounds:        0\n",
      "        inequality constraints with only upper bounds:        0\n",
      "\n",
      "iter    objective    inf_pr   inf_du lg(mu)  ||d||  lg(rg) alpha_du alpha_pr  ls\n",
      "   0  1.2240215e+00 1.29e+02 5.99e-09  -1.0 0.00e+00    -  0.00e+00 0.00e+00   0\n",
      "   1  2.0393112e+00 1.29e+02 2.10e-05  -1.0 6.46e+01    -  1.54e-04 1.54e-04h  1\n",
      "   2  3.3944602e+00 1.29e+02 4.83e-02  -1.0 1.29e+02    -  1.58e-04 1.53e-04h  1\n",
      "   3  6.1816801e+00 1.29e+02 1.70e+01  -1.0 1.29e+02    -  3.31e-04 3.03e-04h  1\n",
      "   4  1.1843504e+01 1.28e+02 2.68e+03  -1.0 1.29e+02    -  7.01e-04 6.15e-04h  1\n",
      "   5  2.3324501e+01 1.28e+02 9.45e+03  -1.0 1.28e+02    -  1.49e-03 1.24e-03h  1\n",
      "   6  4.6591491e+01 1.28e+02 1.95e+04  -1.0 1.28e+02    -  3.23e-03 2.52e-03h  1\n",
      "   7  9.3564303e+01 1.27e+02 3.09e+04  -1.0 1.28e+02    -  7.32e-03 5.10e-03f  1\n",
      "   8  1.8783866e+02 1.26e+02 9.61e+04  -1.0 1.27e+02    -  1.77e-02 1.03e-02h  1\n",
      "   9  3.7518854e+02 1.23e+02 3.34e+05  -1.0 1.26e+02    -  4.53e-02 2.06e-02h  1\n",
      "iter    objective    inf_pr   inf_du lg(mu)  ||d||  lg(rg) alpha_du alpha_pr  ls\n",
      "  10  7.4015965e+02 1.18e+02 7.04e+05  -1.0 1.23e+02    -  8.24e-02 4.10e-02h  1\n",
      "  11  1.3621395e+03 1.10e+02 1.39e+06  -1.0 1.18e+02    -  1.60e-01 7.29e-02h  1\n",
      "  12  2.1420311e+03 9.89e+01 2.67e+06  -1.0 1.10e+02    -  2.96e-01 9.86e-02h  1\n",
      "  13  3.5508585e+03 7.94e+01 3.46e+06  -1.0 9.89e+01    -  4.60e-01 1.98e-01h  1\n",
      "  14  5.7172095e+03 4.93e+01 3.21e+06  -1.0 7.93e+01    -  7.69e-01 3.79e-01h  1\n",
      "  15  7.8805815e+03 1.93e+01 1.55e+06  -1.0 4.93e+01    -  1.00e+00 6.09e-01h  1\n",
      "  16  9.0870585e+03 2.50e+00 1.95e+05  -1.0 1.92e+01    -  1.00e+00 8.70e-01h  1\n",
      "  17  9.2660676e+03 2.66e-11 7.94e+05  -1.0 2.48e+00    -  1.00e+00 1.00e+00f  1\n",
      "  18  9.2662512e+03 1.42e-14 5.99e+03  -1.0 3.71e-02    -  1.00e+00 1.00e+00h  1\n",
      "  19  9.2662512e+03 2.84e-14 9.21e-01  -2.5 9.27e-06    -  1.00e+00 1.00e+00h  1\n",
      "iter    objective    inf_pr   inf_du lg(mu)  ||d||  lg(rg) alpha_du alpha_pr  ls\n",
      "  20  9.2662509e+03 1.42e-14 1.46e-01  -5.7 5.04e-05    -  1.00e+00 1.00e+00h  1\n",
      "  21  9.2658514e+03 1.42e-14 5.57e-06  -5.7 8.08e-02    -  1.00e+00 1.00e+00h  1\n",
      "  22  9.2654347e+03 2.84e-14 8.26e+00  -8.6 8.43e-02    -  9.56e-01 1.00e+00h  1\n",
      "  23  9.1262933e+03 2.84e-14 6.26e+00  -8.6 3.04e+02    -  2.46e-01 9.26e-02f  1\n",
      "  24  9.1274470e+03 1.42e-14 2.73e-04  -8.6 2.33e-01    -  1.00e+00 1.00e+00f  1\n",
      "  25  9.1265511e+03 1.42e-14 2.72e-07  -8.6 1.81e-01    -  1.00e+00 1.00e+00h  1\n",
      "  26  9.1265509e+03 1.42e-14 8.98e-14  -8.6 3.97e-05    -  1.00e+00 1.00e+00h  1\n",
      "  27  9.1262933e+03 1.42e-14 6.43e-03 -12.9 5.35e-02    -  9.98e-01 9.73e-01h  1\n",
      "  28  9.1262934e+03 1.42e-14 1.35e-10 -12.9 2.54e-06    -  1.00e+00 1.00e+00f  1\n",
      "\n",
      "Number of Iterations....: 28\n",
      "\n",
      "                                   (scaled)                 (unscaled)\n",
      "Objective...............:   9.1262933582988390e-05    9.1262933582988389e+03\n",
      "Dual infeasibility......:   1.3481455555417420e-10    1.3481455555417420e-02\n",
      "Constraint violation....:   1.4210854715202004e-14    1.4210854715202004e-14\n",
      "Variable bound violation:   2.3509887104026904e-38    2.3509887104026904e-38\n",
      "Complementarity.........:   1.2544952810407132e-13    1.2544952810407132e-05\n",
      "Overall NLP error.......:   1.3481455555417420e-10    1.3481455555417420e-02\n",
      "\n",
      "\n",
      "Number of objective function evaluations             = 29\n",
      "Number of objective gradient evaluations             = 29\n",
      "Number of equality constraint evaluations            = 29\n",
      "Number of inequality constraint evaluations          = 0\n",
      "Number of equality constraint Jacobian evaluations   = 29\n",
      "Number of inequality constraint Jacobian evaluations = 0\n",
      "Number of Lagrangian Hessian evaluations             = 28\n",
      "Total seconds in IPOPT                               = 1.121\n",
      "\n",
      "EXIT: Optimal Solution Found.\n"
     ]
    }
   ],
   "source": [
    "model = Model(Ipopt.Optimizer)\n",
    "\n",
    "# Obere Ebene: Investitionsentscheidung (Leader)\n",
    "@variable(model, 0 <= y_PV <= 30)\n",
    "\n",
    "# Untere Ebene: Operationelle Variablen (Follower)\n",
    "@variable(model, G_in[1:T, 1:num_scenarios] >= 0)   # Netzimport\n",
    "@variable(model, G_out[1:T, 1:num_scenarios] >= 0)   # Netzexport\n",
    "\n",
    "# Dualvariablen für KKT-Bedingungen\n",
    "@variable(model, λ[1:T, 1:num_scenarios])\n",
    "@variable(model, nu_in[1:T, 1:num_scenarios] >= 0)\n",
    "@variable(model, nu_out[1:T, 1:num_scenarios] >= 0)\n",
    "\n",
    "# ----------------------------\n",
    "# NICHTLINEARE AUSDRÜCKE FÜR INVESTITIONSKOSTEN\n",
    "# ----------------------------\n",
    "# I_pv = (I0 * y_PV^(-p)) * y_PV * (1 + MwSt)\n",
    "#      = I0 * y_PV^(1-p) * (1 + MwSt)\n",
    "# A = I_pv * a  (jährliche Investitionskosten)\n",
    "@NLexpression(model, I_pv, I0 * (0.2*y_PV)^(1 - p) * (1 + MwSt))\n",
    "@NLexpression(model, A, I_pv * a)\n",
    "\n",
    "for t in 1:T, ω in 1:num_scenarios\n",
    "    # Berechnung der PV-Erzeugung als fester Wert unter Nutzung der Effizienzfunktion\n",
    "    P_PV_val = efficiency(T_t_omega[t][ω]) * S_t_omega[t][ω]\n",
    "    \n",
    "    # Primal-Nebenbedingung: Energiebilanz\n",
    "    @constraint(model, L_t_omega[t][ω] == y_PV * P_PV_val + G_in[t, ω] - G_out[t, ω])\n",
    "    \n",
    "    # Stationaritätsbedingungen (Gradienten der Lagrangefunktion)\n",
    "    @constraint(model, c_grid_buy - λ[t, ω] - nu_in[t, ω] == 0)\n",
    "    @constraint(model, -c_grid_feed + λ[t, ω] - nu_out[t, ω] == 0)\n",
    "    \n",
    "    # Komplementaritätsbedingungen (als nichtlineare Nebenbedingungen)\n",
    "    @NLconstraint(model, nu_in[t, ω] * G_in[t, ω] == 0)\n",
    "    @NLconstraint(model, nu_out[t, ω] * G_out[t, ω] == 0)\n",
    "end\n",
    "\n",
    "# Zielfunktion: Minimierung der Investitionskosten plus der gewichteten Betriebs- und Emissionskosten\n",
    "@NLobjective(model, Min,\n",
    "(A/365)*12 +\n",
    "    sum(Φ_t_omega[t][ω] * (c_grid_buy * G_in[t, ω] - c_grid_feed * G_out[t, ω] + SCC * e_grid * G_in[t, ω])\n",
    "        for t in 1:T, ω in 1:num_scenarios)\n",
    ")\n",
    "\n",
    "optimize!(model)"
   ]
  },
  {
   "cell_type": "markdown",
   "id": "96adcd4f",
   "metadata": {},
   "source": [
    "## Ausgabe der optimalen PV-Kapazität\n",
    "\n",
    "Nach der Optimierung wird die optimale Investitionsentscheidung (PV-Kapazität) ausgegeben."
   ]
  },
  {
   "cell_type": "code",
   "execution_count": 17,
   "id": "7edc7fbb",
   "metadata": {},
   "outputs": [
    {
     "name": "stdout",
     "output_type": "stream",
     "text": [
      "Optimale PV-Kapazität: 29.999997763285837\n"
     ]
    }
   ],
   "source": [
    "println(\"Optimale PV-Kapazität: \", value(y_PV))"
   ]
  },
  {
   "cell_type": "markdown",
   "id": "fad2183a",
   "metadata": {},
   "source": [
    "## Big M"
   ]
  },
  {
   "cell_type": "code",
   "execution_count": 18,
   "id": "faec84d8",
   "metadata": {},
   "outputs": [
    {
     "name": "stdout",
     "output_type": "stream",
     "text": [
      "nl_solver   : MathOptInterface.OptimizerWithAttributes(Ipopt.Optimizer, Pair{MathOptInterface.AbstractOptimizerAttribute, Any}[MathOptInterface.RawOptimizerAttribute(\"print_level\") => 0])\n",
      "mip_solver  : MathOptInterface.OptimizerWithAttributes(HiGHS.Optimizer, Pair{MathOptInterface.AbstractOptimizerAttribute, Any}[MathOptInterface.RawOptimizerAttribute(\"output_flag\") => false])\n",
      "log_levels  : [:Options, :Table, :Info]\n",
      "\n",
      "#Variables: 10081\n",
      "#IntBinVar: 2880\n",
      "Obj Sense: Min\n",
      "\n",
      "Start values are not feasible.\n",
      "Status of relaxation: LOCALLY_SOLVED\n",
      "Time for relaxation: 2.367000102996826\n",
      "Relaxation Obj: 9126.311408940957\n",
      "\n",
      "       MIPobj              NLPobj       Time \n",
      "=============================================\n",
      "     1415.1574             3.0e-6        4.4 \n",
      "\n",
      "FP: 5.325999975204468 s\n",
      "FP: 1 round\n",
      "FP: Obj: 9126.29335829878\n",
      "Obj: 9126.29335829878\n",
      "Optimale PV-Kapazität: 29.999997763297465\n"
     ]
    }
   ],
   "source": [
    "using JuMP, Juniper, Ipopt, HiGHS\n",
    "ipopt = optimizer_with_attributes(Ipopt.Optimizer, \"print_level\" => 0)\n",
    "highs = optimizer_with_attributes(HiGHS.Optimizer, \"output_flag\" => false)\n",
    "model = Model(\n",
    "    optimizer_with_attributes(\n",
    "        Juniper.Optimizer,\n",
    "        \"nl_solver\" => ipopt,\n",
    "        \"mip_solver\" => highs,\n",
    "    ),\n",
    ")\n",
    "\n",
    "# Obere Ebene: Investitionsentscheidung (Leader)\n",
    "@variable(model, 0 <= y_PV <= 30)\n",
    "\n",
    "# Untere Ebene: Operationelle Variablen (Follower)\n",
    "@variable(model, G_in[1:T, 1:num_scenarios] >= 0)   # Netzimport\n",
    "@variable(model, G_out[1:T, 1:num_scenarios] >= 0)   # Netzexport\n",
    "\n",
    "# Dualvariablen für KKT-Bedingungen\n",
    "@variable(model, λ[1:T, 1:num_scenarios])\n",
    "@variable(model, nu_in[1:T, 1:num_scenarios] >= 0)\n",
    "@variable(model, nu_out[1:T, 1:num_scenarios] >= 0)\n",
    "@variable(model, z_in[1:T, 1:num_scenarios], Bin)\n",
    "@variable(model, z_out[1:T, 1:num_scenarios], Bin)\n",
    "\n",
    "# I_pv = (I0 * y_PV^(-p)) * y_PV * (1 + MwSt)\n",
    "#      = I0 * y_PV^(1-p) * (1 + MwSt)\n",
    "@NLexpression(model, I_pv, I0 * (0.2*y_PV)^(1 - p) * (1 + MwSt))\n",
    "\n",
    "# Jährliche Investitionskosten via Annuitätenformel\n",
    "@NLexpression(model, A, I_pv * a)\n",
    "\n",
    "\n",
    "M = 1_000  # Big-M Wert\n",
    "\n",
    "for t in 1:T, ω in 1:num_scenarios\n",
    "    # Berechnung der PV-Erzeugung als fester Wert unter Nutzung der Effizienzfunktion\n",
    "    P_PV_val = efficiency(T_t_omega[t][ω]) * S_t_omega[t][ω]\n",
    "    \n",
    "    # Primal-Nebenbedingung: Energiebilanz\n",
    "    @constraint(model, L_t_omega[t][ω] == y_PV * P_PV_val + G_in[t, ω] - G_out[t, ω])\n",
    "    \n",
    "    # Stationaritätsbedingungen (Gradienten der Lagrangefunktion)\n",
    "    @constraint(model, c_grid_buy - λ[t, ω] - nu_in[t, ω] == 0)     #TODO: Chatgpt hat einfach ehrenlosen fehler gemacht hier\n",
    "    @constraint(model, -c_grid_feed + λ[t, ω] - nu_out[t, ω] == 0)\n",
    "    \n",
    "    # Big-M Formulierung für Komplementaritätsbedingungen\n",
    "    @constraint(model, G_in[t, ω] <= M * z_in[t, ω])\n",
    "    @constraint(model, nu_in[t, ω] <= M * (1 - z_in[t, ω]))\n",
    "    @constraint(model, G_out[t, ω] <= M * z_out[t, ω])\n",
    "    @constraint(model, nu_out[t, ω] <= M * (1 - z_out[t, ω]))\n",
    "end\n",
    "\n",
    "# Zielfunktion: Minimierung der Investitionskosten plus der gewichteten Betriebs- und Emissionskosten\n",
    "@NLobjective(model, Min,\n",
    "    (A/365)*12 +\n",
    "    sum(Φ_t_omega[t][ω] * (c_grid_buy * G_in[t, ω] - c_grid_feed * G_out[t, ω] + SCC * e_grid * G_in[t, ω])\n",
    "        for t in 1:T, ω in 1:num_scenarios)\n",
    ")\n",
    "\n",
    "optimize!(model)\n",
    "println(\"Optimale PV-Kapazität: \", value(y_PV))"
   ]
  }
 ],
 "metadata": {
  "kernelspec": {
   "display_name": "Julia 1.11.2",
   "language": "julia",
   "name": "julia-1.11"
  },
  "language_info": {
   "file_extension": ".jl",
   "mimetype": "application/julia",
   "name": "julia",
   "version": "1.11.2"
  }
 },
 "nbformat": 4,
 "nbformat_minor": 5
}
