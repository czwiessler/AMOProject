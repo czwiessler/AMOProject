{
 "cells": [
  {
   "cell_type": "markdown",
   "id": "a7b5fddb",
   "metadata": {},
   "source": [
    "# Stochastisches Bilevel-Modell für PV-Investitions- und Betriebsentscheidungen\n",
    "\n",
    "Dieses Notebook implementiert ein stochastisches Bilevel-Modell, das eine Investitionsentscheidung für eine Photovoltaik-(PV)-Anlage und dazugehörige operative Entscheidungen (Netzbezug und Einspeisung) integriert. Der Code nutzt Julia, JuMP und Ipopt und bildet das in der zugehörigen PDF beschriebene Modell ab."
   ]
  },
  {
   "cell_type": "code",
   "execution_count": 1,
   "id": "19c9e7f6",
   "metadata": {},
   "outputs": [
    {
     "name": "stderr",
     "output_type": "stream",
     "text": [
      "\u001b[32m\u001b[1m  Activating\u001b[22m\u001b[39m project at `c:\\Users\\Reintjes\\Documents\\aD\\UoC\\Semester1\\AMO\\Projekt\\AMOProject`\n"
     ]
    }
   ],
   "source": [
    "using Pkg\n",
    "Pkg.activate(\".\")\n",
    "Pkg.instantiate()"
   ]
  },
  {
   "cell_type": "code",
   "execution_count": 2,
   "id": "bb2bae55",
   "metadata": {},
   "outputs": [
    {
     "name": "stderr",
     "output_type": "stream",
     "text": [
      "\u001b[32m\u001b[1m   Resolving\u001b[22m\u001b[39m package versions...\n",
      "\u001b[32m\u001b[1m  No Changes\u001b[22m\u001b[39m to `C:\\Users\\Reintjes\\Documents\\aD\\UoC\\Semester1\\AMO\\Projekt\\AMOProject\\Project.toml`\n",
      "\u001b[32m\u001b[1m  No Changes\u001b[22m\u001b[39m to `C:\\Users\\Reintjes\\Documents\\aD\\UoC\\Semester1\\AMO\\Projekt\\AMOProject\\Manifest.toml`\n",
      "\u001b[32m\u001b[1m   Resolving\u001b[22m\u001b[39m package versions...\n",
      "\u001b[32m\u001b[1m  No Changes\u001b[22m\u001b[39m to `C:\\Users\\Reintjes\\Documents\\aD\\UoC\\Semester1\\AMO\\Projekt\\AMOProject\\Project.toml`\n",
      "\u001b[32m\u001b[1m  No Changes\u001b[22m\u001b[39m to `C:\\Users\\Reintjes\\Documents\\aD\\UoC\\Semester1\\AMO\\Projekt\\AMOProject\\Manifest.toml`\n",
      "\u001b[32m\u001b[1m   Resolving\u001b[22m\u001b[39m package versions...\n",
      "\u001b[32m\u001b[1m  No Changes\u001b[22m\u001b[39m to `C:\\Users\\Reintjes\\Documents\\aD\\UoC\\Semester1\\AMO\\Projekt\\AMOProject\\Project.toml`\n",
      "\u001b[32m\u001b[1m  No Changes\u001b[22m\u001b[39m to `C:\\Users\\Reintjes\\Documents\\aD\\UoC\\Semester1\\AMO\\Projekt\\AMOProject\\Manifest.toml`\n",
      "\u001b[32m\u001b[1m   Resolving\u001b[22m\u001b[39m package versions...\n",
      "\u001b[32m\u001b[1m  No Changes\u001b[22m\u001b[39m to `C:\\Users\\Reintjes\\Documents\\aD\\UoC\\Semester1\\AMO\\Projekt\\AMOProject\\Project.toml`\n",
      "\u001b[32m\u001b[1m  No Changes\u001b[22m\u001b[39m to `C:\\Users\\Reintjes\\Documents\\aD\\UoC\\Semester1\\AMO\\Projekt\\AMOProject\\Manifest.toml`\n",
      "\u001b[32m\u001b[1m   Resolving\u001b[22m\u001b[39m package versions...\n",
      "\u001b[32m\u001b[1m  No Changes\u001b[22m\u001b[39m to `C:\\Users\\Reintjes\\Documents\\aD\\UoC\\Semester1\\AMO\\Projekt\\AMOProject\\Project.toml`\n",
      "\u001b[32m\u001b[1m  No Changes\u001b[22m\u001b[39m to `C:\\Users\\Reintjes\\Documents\\aD\\UoC\\Semester1\\AMO\\Projekt\\AMOProject\\Manifest.toml`\n",
      "\u001b[32m\u001b[1m   Resolving\u001b[22m\u001b[39m package versions...\n",
      "\u001b[32m\u001b[1m  No Changes\u001b[22m\u001b[39m to `C:\\Users\\Reintjes\\Documents\\aD\\UoC\\Semester1\\AMO\\Projekt\\AMOProject\\Project.toml`\n",
      "\u001b[32m\u001b[1m  No Changes\u001b[22m\u001b[39m to `C:\\Users\\Reintjes\\Documents\\aD\\UoC\\Semester1\\AMO\\Projekt\\AMOProject\\Manifest.toml`\n",
      "\u001b[32m\u001b[1m   Resolving\u001b[22m\u001b[39m package versions...\n",
      "\u001b[32m\u001b[1m  No Changes\u001b[22m\u001b[39m to `C:\\Users\\Reintjes\\Documents\\aD\\UoC\\Semester1\\AMO\\Projekt\\AMOProject\\Project.toml`\n",
      "\u001b[32m\u001b[1m  No Changes\u001b[22m\u001b[39m to `C:\\Users\\Reintjes\\Documents\\aD\\UoC\\Semester1\\AMO\\Projekt\\AMOProject\\Manifest.toml`\n",
      "\u001b[32m\u001b[1m   Resolving\u001b[22m\u001b[39m package versions...\n",
      "\u001b[32m\u001b[1m  No Changes\u001b[22m\u001b[39m to `C:\\Users\\Reintjes\\Documents\\aD\\UoC\\Semester1\\AMO\\Projekt\\AMOProject\\Project.toml`\n",
      "\u001b[32m\u001b[1m  No Changes\u001b[22m\u001b[39m to `C:\\Users\\Reintjes\\Documents\\aD\\UoC\\Semester1\\AMO\\Projekt\\AMOProject\\Manifest.toml`\n",
      "\u001b[32m\u001b[1m   Resolving\u001b[22m\u001b[39m package versions...\n",
      "\u001b[32m\u001b[1m  No Changes\u001b[22m\u001b[39m to `C:\\Users\\Reintjes\\Documents\\aD\\UoC\\Semester1\\AMO\\Projekt\\AMOProject\\Project.toml`\n",
      "\u001b[32m\u001b[1m  No Changes\u001b[22m\u001b[39m to `C:\\Users\\Reintjes\\Documents\\aD\\UoC\\Semester1\\AMO\\Projekt\\AMOProject\\Manifest.toml`\n",
      "\u001b[32m\u001b[1m   Resolving\u001b[22m\u001b[39m package versions...\n",
      "\u001b[32m\u001b[1m  No Changes\u001b[22m\u001b[39m to `C:\\Users\\Reintjes\\Documents\\aD\\UoC\\Semester1\\AMO\\Projekt\\AMOProject\\Project.toml`\n",
      "\u001b[32m\u001b[1m  No Changes\u001b[22m\u001b[39m to `C:\\Users\\Reintjes\\Documents\\aD\\UoC\\Semester1\\AMO\\Projekt\\AMOProject\\Manifest.toml`\n",
      "\u001b[32m\u001b[1m   Resolving\u001b[22m\u001b[39m package versions...\n",
      "\u001b[32m\u001b[1m  No Changes\u001b[22m\u001b[39m to `C:\\Users\\Reintjes\\Documents\\aD\\UoC\\Semester1\\AMO\\Projekt\\AMOProject\\Project.toml`\n",
      "\u001b[32m\u001b[1m  No Changes\u001b[22m\u001b[39m to `C:\\Users\\Reintjes\\Documents\\aD\\UoC\\Semester1\\AMO\\Projekt\\AMOProject\\Manifest.toml`\n",
      "\u001b[32m\u001b[1m   Resolving\u001b[22m\u001b[39m package versions...\n",
      "\u001b[32m\u001b[1m  No Changes\u001b[22m\u001b[39m to `C:\\Users\\Reintjes\\Documents\\aD\\UoC\\Semester1\\AMO\\Projekt\\AMOProject\\Project.toml`\n",
      "\u001b[32m\u001b[1m  No Changes\u001b[22m\u001b[39m to `C:\\Users\\Reintjes\\Documents\\aD\\UoC\\Semester1\\AMO\\Projekt\\AMOProject\\Manifest.toml`\n"
     ]
    }
   ],
   "source": [
    "Pkg.add(\"MathOptInterface\")\n",
    "Pkg.add(\"JuMP\")\n",
    "Pkg.add(\"Distributions\")\n",
    "Pkg.add(\"HiGHS\")\n",
    "Pkg.add(\"Clustering\")\n",
    "Pkg.add(\"Distances\")\n",
    "Pkg.add(\"Plots\")\n",
    "Pkg.add(\"Statistics\")\n",
    "Pkg.add(\"StatsBase\")\n",
    "Pkg.add(\"Ipopt\")\n",
    "Pkg.add(\"BilevelJuMP\")\n",
    "Pkg.add(\"Juniper\") #new"
   ]
  },
  {
   "cell_type": "code",
   "execution_count": 3,
   "id": "336d8115",
   "metadata": {},
   "outputs": [],
   "source": [
    "using JuMP, Distributions, Clustering, Distances, Plots, Statistics, StatsBase, Ipopt, Juniper"
   ]
  },
  {
   "cell_type": "markdown",
   "id": "60b584d8",
   "metadata": {},
   "source": [
    "## Parameterdefinitionen\n",
    "\n",
    "Hier werden die grundlegenden Parameter definiert, wie etwa die Anzahl der Zeitschritte, Investitionskosten, Strompreise sowie Parameter zur Modellierung der PV-Leistung und Emissionen."
   ]
  },
  {
   "cell_type": "code",
   "execution_count": 4,
   "id": "9a0d0c03",
   "metadata": {},
   "outputs": [
    {
     "data": {
      "text/plain": [
       "0.055839973499395165"
      ]
     },
     "metadata": {},
     "output_type": "display_data"
    }
   ],
   "source": [
    "# Anzahl der Zeitperioden (z.B. 12 Monate * 24 Stunden)\n",
    "T = 288\n",
    "\n",
    "# Anzahl der Szenarien pro Zeitschritt\n",
    "num_scenarios = 5\n",
    "\n",
    "# Investitionskosten (Beispielwert)\n",
    "#C_inv = 10 * 12\n",
    "\n",
    "# Social Cost of Carbon (€/t CO2)\n",
    "SCC = 100\n",
    "\n",
    "# Kosten für Netzbezug und Erlös aus Einspeisung (€/kWh)\n",
    "c_grid_buy = 0.47\n",
    "c_grid_feed = 0.083\n",
    "\n",
    "# Emissionsintensität (tCO2/kWh)\n",
    "e_grid = 0.00038\n",
    "\n",
    "# PV-Parameter\n",
    "η_0 = 0.18      # Nominale PV-Wirkungsgrad\n",
    "β = 0.004       # Temperaturkoeffizient pro °C\n",
    "T_ref = 25      # Referenztemperatur in °C\n",
    "\n",
    "# -- Parameter für Investitionskosten-Formel nach Bergner (2019)\n",
    "I0   = 1.923    # €/kW\n",
    "p    = 0.16     # Skalierungsparameter\n",
    "MwSt = 0.19     # 19% Mehrwertsteuer\n",
    "r    = 0.0275   # Zinssatz pro Jahr (2,75%)\n",
    "n    = 25       # Nutzungsdauer in Jahren\n",
    "\n",
    "# -- Aus der Annuitätenformel: a = r * (1+r)^n / ((1+r)^n - 1)\n",
    "#    Diesen Faktor brauchen wir, um die einmaligen Investitionskosten\n",
    "#    auf jährliche Kosten A umzurechnen.\n",
    "function annuity_factor(r, n)\n",
    "    return r * (1+r)^n / ((1+r)^n - 1)\n",
    "end\n",
    "a = annuity_factor(r, n)"
   ]
  },
  {
   "cell_type": "markdown",
   "id": "c1ac3d0c",
   "metadata": {},
   "source": [
    "## Definition der Effizienzfunktion\n",
    "\n",
    "Die Funktion `efficiency` berechnet den temperaturabhängigen PV-Wirkungsgrad."
   ]
  },
  {
   "cell_type": "code",
   "execution_count": null,
   "id": "a92ae456",
   "metadata": {},
   "outputs": [
    {
     "data": {
      "text/plain": [
       "efficiency (generic function with 1 method)"
      ]
     },
     "metadata": {},
     "output_type": "display_data"
    }
   ],
   "source": [
    "function efficiency(T_t)\n",
    "    return η_0 * (1 - β * (T_t - T_ref)) / 1000\n",
    "end"
   ]
  },
  {
   "cell_type": "markdown",
   "id": "4c847af6",
   "metadata": {},
   "source": [
    "## Erzeugung der stochastischen Verteilungen\n",
    "\n",
    "In diesem Abschnitt wird für jeden Zeitschritt ein Vektor von Verteilungen erstellt, der Solarstrahlung, Temperatur und Verbrauch abbildet. Dabei werden saisonale und tageszeitliche Effekte berücksichtigt."
   ]
  },
  {
   "cell_type": "code",
   "execution_count": 6,
   "id": "2b6b60bd",
   "metadata": {},
   "outputs": [],
   "source": [
    "using Distributions, Random\n",
    "\n",
    "# Funktion zur Erzeugung eines Verteilungsvektors für einen Zeitschritt\n",
    "function generate_distributions(si::Float64, consumption_mean::Float64, temp_mean::Float64, hour::Int)\n",
    "    if hour < 6 || hour > 22\n",
    "        # Nachtstunden: nahezu keine Sonneneinstrahlung\n",
    "        solar = Beta(1, 1000)  \n",
    "        temperature = Normal(temp_mean - 4, 9)\n",
    "        consumption = Normal(consumption_mean/(consumption_mean - 1), consumption_mean / 11)\n",
    "    else\n",
    "        # Tagesstunden: solare Einstrahlung mit Beta-Verteilung\n",
    "        β_param = ((si * (1 + si) / (si / 10)) - 1) * (1 - si)\n",
    "        α_param = si * β_param / (1 - si)\n",
    "        solar = Beta(α_param, β_param)\n",
    "        temperature = Normal(temp_mean, 9)\n",
    "        consumption = Normal(consumption_mean, consumption_mean / 11)\n",
    "    end\n",
    "    return [solar, consumption, temperature]\n",
    "end\n",
    "\n",
    "# Initialisierung des Verteilungsvektors für jeden Zeitschritt\n",
    "dist_vec = Vector{Vector{Distribution}}(undef, 12 * 24)\n",
    "\n",
    "for month in 1:12\n",
    "    for hour in 1:24\n",
    "        # Saisonale und tageszeitabhängige Parameter\n",
    "        si = 0.25 + 0.1 * sin(2π * month / 12)  \n",
    "        si = hour < 6 || hour > 22 ? 0.0 : si  \n",
    "        consumption_mean = 90.0 + 10 * sin(2π * hour / 24)\n",
    "        temp_mean = 13.0 + 5 * cos(2π * month / 12)\n",
    "        \n",
    "        # Speichern des Verteilungsvektors\n",
    "        dist_vec[(month - 1) * 24 + hour] = generate_distributions(si, consumption_mean, temp_mean, hour)\n",
    "    end\n",
    "end"
   ]
  },
  {
   "cell_type": "markdown",
   "id": "71ab2ec2",
   "metadata": {},
   "source": [
    "## Erzeugung der Dummy-Szenarien\n",
    "\n",
    "Für jeden Zeitschritt werden 5 Szenarien für Solarstrahlung, Verbrauch und Temperatur erzeugt. Außerdem werden die Szenario-Wahrscheinlichkeiten (gleichverteilt) festgelegt."
   ]
  },
  {
   "cell_type": "code",
   "execution_count": 7,
   "id": "c8dd2eb2",
   "metadata": {},
   "outputs": [
    {
     "data": {
      "text/plain": [
       "288-element Vector{Vector{Float64}}:\n",
       " [0.2, 0.2, 0.2, 0.2, 0.2]\n",
       " [0.2, 0.2, 0.2, 0.2, 0.2]\n",
       " [0.2, 0.2, 0.2, 0.2, 0.2]\n",
       " [0.2, 0.2, 0.2, 0.2, 0.2]\n",
       " [0.2, 0.2, 0.2, 0.2, 0.2]\n",
       " [0.2, 0.2, 0.2, 0.2, 0.2]\n",
       " [0.2, 0.2, 0.2, 0.2, 0.2]\n",
       " [0.2, 0.2, 0.2, 0.2, 0.2]\n",
       " [0.2, 0.2, 0.2, 0.2, 0.2]\n",
       " [0.2, 0.2, 0.2, 0.2, 0.2]\n",
       " ⋮\n",
       " [0.2, 0.2, 0.2, 0.2, 0.2]\n",
       " [0.2, 0.2, 0.2, 0.2, 0.2]\n",
       " [0.2, 0.2, 0.2, 0.2, 0.2]\n",
       " [0.2, 0.2, 0.2, 0.2, 0.2]\n",
       " [0.2, 0.2, 0.2, 0.2, 0.2]\n",
       " [0.2, 0.2, 0.2, 0.2, 0.2]\n",
       " [0.2, 0.2, 0.2, 0.2, 0.2]\n",
       " [0.2, 0.2, 0.2, 0.2, 0.2]\n",
       " [0.2, 0.2, 0.2, 0.2, 0.2]"
      ]
     },
     "metadata": {},
     "output_type": "display_data"
    }
   ],
   "source": [
    "# Gesamtzahl der Zeitschritte\n",
    "T_total = 12 * 24\n",
    "\n",
    "# Erzeugen der Dummy-Szenarien für Solar (Index 1 im Verteilungsvektor)\n",
    "S_t_omega = [ [rand(dist_vec[t][1]) for ω in 1:num_scenarios] for t in 1:T_total ]\n",
    "\n",
    "# Erzeugen der Dummy-Szenarien für Verbrauch (Index 2 im Verteilungsvektor)\n",
    "L_t_omega = [ [rand(dist_vec[t][2]) for ω in 1:num_scenarios] for t in 1:T_total ]\n",
    "\n",
    "# Erzeugen der Dummy-Szenarien für Temperatur (Index 3 im Verteilungsvektor)\n",
    "T_t_omega = [ [rand(dist_vec[t][3]) for ω in 1:num_scenarios] for t in 1:T_total ]\n",
    "\n",
    "# Szenario-Wahrscheinlichkeiten (uniform verteilt)\n",
    "Φ_t_omega = [ [1/num_scenarios for ω in 1:num_scenarios] for t in 1:T_total ]"
   ]
  },
  {
   "cell_type": "markdown",
   "id": "ce89d5d2",
   "metadata": {},
   "source": [
    "## Testausgabe für den ersten Zeitschritt\n",
    "\n",
    "Wir geben die für den ersten Zeitschritt (erste Stunde im Januar) generierten Werte aus."
   ]
  },
  {
   "cell_type": "code",
   "execution_count": 8,
   "id": "af5b9c48",
   "metadata": {},
   "outputs": [
    {
     "name": "stdout",
     "output_type": "stream",
     "text": [
      "Erste Stunde im Januar:\n",
      "Solar: [0.0001425203674435158, 0.00022210069763998452, 0.0025949823892871724, 0.00018007237322443295, 0.0016406734241154529]\n",
      "Verbrauch: [7.650149791385976, -16.69019858793306, 1.9411161896983224, 6.888425225519704, 6.765365330309192]\n",
      "Temperatur: [0.3743842471958305, 15.579381602725515, 16.217841347951467, 30.889614864384484, 17.52788135955766]\n",
      "Szenario-Wahrscheinlichkeiten: [0.2, 0.2, 0.2, 0.2, 0.2]\n"
     ]
    }
   ],
   "source": [
    "println(\"Erste Stunde im Januar:\")\n",
    "println(\"Solar: \", S_t_omega[1])\n",
    "println(\"Verbrauch: \", L_t_omega[1])\n",
    "println(\"Temperatur: \", T_t_omega[1])\n",
    "println(\"Szenario-Wahrscheinlichkeiten: \", Φ_t_omega[1])"
   ]
  },
  {
   "cell_type": "markdown",
   "id": "a3d136b7",
   "metadata": {},
   "source": [
    "## Erstellung und Lösung des Optimierungsmodells\n",
    "\n",
    "Das Optimierungsmodell wird in zwei Ebenen aufgeteilt:\n",
    "\n",
    "- **Obere Ebene:** Investitionsentscheidung (Variable y_PV) unter Berücksichtigung der jährlichen Investitionskosten.\n",
    "- **Untere Ebene:** Operative Entscheidungen (Netzbezug G_in und Einspeisung G_out) für jeden Zeitschritt und jedes Szenario. Die KKT-Bedingungen der unteren Ebene werden verwendet, um das bilevel-Problem in ein Single-Level-Problem zu transformieren.\n",
    "\n",
    "Anhand der Energiebilanz wird sichergestellt, dass der Verbrauch durch PV-Erzeugung, Netzbezug und Einspeisung gedeckt wird."
   ]
  },
  {
   "cell_type": "code",
   "execution_count": 9,
   "id": "d61c082a",
   "metadata": {},
   "outputs": [
    {
     "name": "stdout",
     "output_type": "stream",
     "text": [
      "\n",
      "******************************************************************************\n",
      "This program contains Ipopt, a library for large-scale nonlinear optimization.\n",
      " Ipopt is released as open source code under the Eclipse Public License (EPL).\n",
      "         For more information visit https://github.com/coin-or/Ipopt\n",
      "******************************************************************************\n",
      "\n",
      "This is Ipopt version 3.14.17, running with linear solver MUMPS 5.7.3.\n",
      "\n",
      "Number of nonzeros in equality constraint Jacobian...:    15840\n",
      "Number of nonzeros in inequality constraint Jacobian.:        0\n",
      "Number of nonzeros in Lagrangian Hessian.............:     8641\n",
      "\n",
      "Total number of variables............................:     7201\n",
      "                     variables with only lower bounds:     5760\n",
      "                variables with lower and upper bounds:        1\n",
      "                     variables with only upper bounds:        0\n",
      "Total number of equality constraints.................:     7200\n",
      "Total number of inequality constraints...............:        0\n",
      "        inequality constraints with only lower bounds:        0\n",
      "   inequality constraints with lower and upper bounds:        0\n",
      "        inequality constraints with only upper bounds:        0\n",
      "\n",
      "iter    objective    inf_pr   inf_du lg(mu)  ||d||  lg(rg) alpha_du alpha_pr  ls\n",
      "   0  1.2240215e+00 1.20e+02 6.04e-09  -1.0 0.00e+00    -  0.00e+00 0.00e+00   0\n",
      "   1  2.1015004e+00 1.20e+02 2.28e-05  -1.0 6.01e+01    -  1.65e-04 1.65e-04h  1\n",
      "   2  3.5722577e+00 1.20e+02 4.96e-02  -1.0 1.20e+02    -  1.70e-04 1.64e-04h  1\n",
      "   3  6.5916786e+00 1.20e+02 1.80e+01  -1.0 1.20e+02    -  3.57e-04 3.28e-04h  1\n",
      "   4  1.2698922e+01 1.19e+02 3.47e+03  -1.0 1.20e+02    -  7.65e-04 6.63e-04h  1\n",
      "   5  2.5087976e+01 1.19e+02 1.11e+04  -1.0 1.19e+02    -  1.62e-03 1.34e-03h  1\n",
      "   6  5.0223264e+01 1.19e+02 2.08e+04  -1.0 1.19e+02    -  3.52e-03 2.72e-03h  1\n",
      "   7  1.0089635e+02 1.18e+02 3.36e+04  -1.0 1.19e+02    -  8.02e-03 5.50e-03f  1\n",
      "   8  2.0253407e+02 1.17e+02 1.11e+05  -1.0 1.18e+02    -  1.96e-02 1.11e-02h  1\n",
      "   9  4.0419755e+02 1.14e+02 3.79e+05  -1.0 1.17e+02    -  5.03e-02 2.22e-02h  1\n",
      "iter    objective    inf_pr   inf_du lg(mu)  ||d||  lg(rg) alpha_du alpha_pr  ls\n",
      "  10  7.9584638e+02 1.09e+02 7.49e+05  -1.0 1.14e+02    -  8.62e-02 4.42e-02h  1\n",
      "  11  1.4093942e+03 1.01e+02 1.45e+06  -1.0 1.09e+02    -  1.63e-01 7.24e-02f  1\n",
      "  12  2.2227821e+03 9.10e+01 2.52e+06  -1.0 1.01e+02    -  2.77e-01 1.03e-01h  1\n",
      "  13  3.6724648e+03 7.23e+01 3.69e+06  -1.0 9.10e+01    -  5.37e-01 2.06e-01h  1\n",
      "  14  4.8671739e+03 5.69e+01 4.08e+06  -1.0 7.23e+01    -  7.14e-01 2.13e-01h  1\n",
      "  15  7.1417584e+03 2.75e+01 2.46e+06  -1.0 5.69e+01    -  1.00e+00 5.16e-01h  1\n",
      "  16  8.7416564e+03 6.82e+00 1.57e+06  -1.0 2.75e+01    -  1.00e+00 7.52e-01h  1\n",
      "  17  9.2335237e+03 4.56e-01 1.24e+05  -1.0 6.81e+00    -  1.00e+00 9.33e-01h  1\n",
      "  18  9.2685166e+03 1.33e-12 3.57e+04  -1.0 4.55e-01    -  1.00e+00 1.00e+00h  1\n",
      "  19  9.2684869e+03 1.42e-14 3.33e+02  -1.7 6.14e-03    -  1.00e+00 1.00e+00f  1\n",
      "iter    objective    inf_pr   inf_du lg(mu)  ||d||  lg(rg) alpha_du alpha_pr  ls\n",
      "  20  9.2684859e+03 1.42e-14 4.93e+00  -3.8 1.98e-04    -  1.00e+00 1.00e+00h  1\n",
      "  21  9.2683590e+03 1.42e-14 4.85e-04  -3.8 2.62e-02    -  1.00e+00 1.00e+00h  1\n",
      "  22  9.2683541e+03 1.42e-14 8.52e+00  -8.6 1.02e-03    -  9.99e-01 1.00e+00h  1\n",
      "  23  9.1315949e+03 1.42e-14 6.69e+00  -8.6 2.87e+02    -  2.18e-01 9.85e-02f  1\n",
      "  24  9.1328454e+03 1.42e-14 4.19e-04  -8.6 2.58e-01    -  1.00e+00 1.00e+00f  1\n",
      "  25  9.1318525e+03 1.42e-14 1.81e-07  -8.6 2.05e-01    -  1.00e+00 1.00e+00h  1\n",
      "  26  9.1318523e+03 1.42e-14 3.08e-14  -8.6 4.68e-05    -  1.00e+00 1.00e+00h  1\n",
      "  27  9.1315949e+03 1.42e-14 6.17e-03 -12.9 5.45e-02    -  9.98e-01 9.74e-01h  1\n",
      "  28  9.1315949e+03 1.42e-14 1.56e-10 -12.9 2.59e-06    -  1.00e+00 1.00e+00f  1\n",
      "\n",
      "Number of Iterations....: 28\n",
      "\n",
      "                                   (scaled)                 (unscaled)\n",
      "Objective...............:   9.1315949284483813e-05    9.1315949284483813e+03\n",
      "Dual infeasibility......:   1.5563981362864683e-10    1.5563981362864684e-02\n",
      "Constraint violation....:   1.4210854715202004e-14    1.4210854715202004e-14\n",
      "Variable bound violation:   2.3515475756897117e-38    2.3515475756897117e-38\n",
      "Complementarity.........:   1.2544946706666822e-13    1.2544946706666823e-05\n",
      "Overall NLP error.......:   1.5563981362864683e-10    1.5563981362864684e-02\n",
      "\n",
      "\n",
      "Number of objective function evaluations             = 29\n",
      "Number of objective gradient evaluations             = 29\n",
      "Number of equality constraint evaluations            = 29\n",
      "Number of inequality constraint evaluations          = 0\n",
      "Number of equality constraint Jacobian evaluations   = 29\n",
      "Number of inequality constraint Jacobian evaluations = 0\n",
      "Number of Lagrangian Hessian evaluations             = 28\n",
      "Total seconds in IPOPT                               = 2.845\n",
      "\n",
      "EXIT: Optimal Solution Found.\n"
     ]
    }
   ],
   "source": [
    "model = Model(Ipopt.Optimizer)\n",
    "\n",
    "# Obere Ebene: Investitionsentscheidung (Leader)\n",
    "@variable(model, 0 <= y_PV <= 30)\n",
    "\n",
    "# Untere Ebene: Operationelle Variablen (Follower)\n",
    "@variable(model, G_in[1:T, 1:num_scenarios] >= 0)   # Netzimport\n",
    "@variable(model, G_out[1:T, 1:num_scenarios] >= 0)   # Netzexport\n",
    "\n",
    "# Dualvariablen für KKT-Bedingungen\n",
    "@variable(model, λ[1:T, 1:num_scenarios])\n",
    "@variable(model, nu_in[1:T, 1:num_scenarios] >= 0)\n",
    "@variable(model, nu_out[1:T, 1:num_scenarios] >= 0)\n",
    "\n",
    "# ----------------------------\n",
    "# NICHTLINEARE AUSDRÜCKE FÜR INVESTITIONSKOSTEN\n",
    "# ----------------------------\n",
    "# I_pv = (I0 * y_PV^(-p)) * y_PV * (1 + MwSt)\n",
    "#      = I0 * y_PV^(1-p) * (1 + MwSt)\n",
    "# A = I_pv * a  (jährliche Investitionskosten)\n",
    "@NLexpression(model, I_pv, I0 * (0.2*y_PV)^(1 - p) * (1 + MwSt))\n",
    "@NLexpression(model, A, I_pv * a)\n",
    "\n",
    "for t in 1:T, ω in 1:num_scenarios\n",
    "    # Berechnung der PV-Erzeugung als fester Wert unter Nutzung der Effizienzfunktion\n",
    "    P_PV_val = efficiency(T_t_omega[t][ω]) * S_t_omega[t][ω]\n",
    "    \n",
    "    # Primal-Nebenbedingung: Energiebilanz\n",
    "    @constraint(model, L_t_omega[t][ω] == y_PV * P_PV_val + G_in[t, ω] - G_out[t, ω])\n",
    "    \n",
    "    # Stationaritätsbedingungen (Gradienten der Lagrangefunktion)\n",
    "    @constraint(model, c_grid_buy - λ[t, ω] - nu_in[t, ω] == 0)\n",
    "    @constraint(model, -c_grid_feed + λ[t, ω] - nu_out[t, ω] == 0)\n",
    "    \n",
    "    # Komplementaritätsbedingungen (als nichtlineare Nebenbedingungen)\n",
    "    @NLconstraint(model, nu_in[t, ω] * G_in[t, ω] == 0)\n",
    "    @NLconstraint(model, nu_out[t, ω] * G_out[t, ω] == 0)\n",
    "end\n",
    "\n",
    "# Zielfunktion: Minimierung der Investitionskosten plus der gewichteten Betriebs- und Emissionskosten\n",
    "@NLobjective(model, Min,\n",
    "(A/365)*12 +\n",
    "    sum(Φ_t_omega[t][ω] * (c_grid_buy * G_in[t, ω] - c_grid_feed * G_out[t, ω] + SCC * e_grid * G_in[t, ω])\n",
    "        for t in 1:T, ω in 1:num_scenarios)\n",
    ")\n",
    "\n",
    "optimize!(model)"
   ]
  },
  {
   "cell_type": "markdown",
   "id": "96adcd4f",
   "metadata": {},
   "source": [
    "## Ausgabe der optimalen PV-Kapazität\n",
    "\n",
    "Nach der Optimierung wird die optimale Investitionsentscheidung (PV-Kapazität) ausgegeben."
   ]
  },
  {
   "cell_type": "code",
   "execution_count": 10,
   "id": "7edc7fbb",
   "metadata": {},
   "outputs": [
    {
     "name": "stdout",
     "output_type": "stream",
     "text": [
      "Optimale PV-Kapazität: 29.99999771171232\n"
     ]
    }
   ],
   "source": [
    "println(\"Optimale PV-Kapazität: \", value(y_PV))"
   ]
  },
  {
   "cell_type": "markdown",
   "id": "fad2183a",
   "metadata": {},
   "source": [
    "## Big M"
   ]
  },
  {
   "cell_type": "code",
   "execution_count": 11,
   "id": "faec84d8",
   "metadata": {},
   "outputs": [
    {
     "name": "stdout",
     "output_type": "stream",
     "text": [
      "nl_solver   : MathOptInterface.OptimizerWithAttributes(Ipopt.Optimizer, Pair{MathOptInterface.AbstractOptimizerAttribute, Any}[MathOptInterface.RawOptimizerAttribute(\"print_level\") => 0])\n",
      "mip_solver  : MathOptInterface.OptimizerWithAttributes(HiGHS.Optimizer, Pair{MathOptInterface.AbstractOptimizerAttribute, Any}[MathOptInterface.RawOptimizerAttribute(\"output_flag\") => false])\n",
      "log_levels  : [:Options, :Table, :Info]\n",
      "\n",
      "#Variables: 10081\n",
      "#IntBinVar: 2880\n",
      "Obj Sense: Min\n",
      "\n",
      "Start values are not feasible.\n",
      "Status of relaxation: LOCALLY_SOLVED\n",
      "Time for relaxation: 7.187999963760376\n",
      "Relaxation Obj: 9131.612979580408\n",
      "\n",
      "       MIPobj              NLPobj       Time \n",
      "=============================================\n",
      "     1415.1943             9.0e-6       18.9 \n",
      "\n",
      "FP: 21.85099983215332 s\n",
      "FP: 1 round\n",
      "FP: Obj: 9131.594928448321\n",
      "Obj: 9131.594928448321\n",
      "Optimale PV-Kapazität: 29.999997711724475\n"
     ]
    }
   ],
   "source": [
    "using JuMP, Juniper, Ipopt, HiGHS\n",
    "ipopt = optimizer_with_attributes(Ipopt.Optimizer, \"print_level\" => 0)\n",
    "highs = optimizer_with_attributes(HiGHS.Optimizer, \"output_flag\" => false)\n",
    "model = Model(\n",
    "    optimizer_with_attributes(\n",
    "        Juniper.Optimizer,\n",
    "        \"nl_solver\" => ipopt,\n",
    "        \"mip_solver\" => highs,\n",
    "    ),\n",
    ")\n",
    "\n",
    "# Obere Ebene: Investitionsentscheidung (Leader)\n",
    "@variable(model, 0 <= y_PV <= 30)\n",
    "\n",
    "# Untere Ebene: Operationelle Variablen (Follower)\n",
    "@variable(model, G_in[1:T, 1:num_scenarios] >= 0)   # Netzimport\n",
    "@variable(model, G_out[1:T, 1:num_scenarios] >= 0)   # Netzexport\n",
    "\n",
    "# Dualvariablen für KKT-Bedingungen\n",
    "@variable(model, λ[1:T, 1:num_scenarios])\n",
    "@variable(model, nu_in[1:T, 1:num_scenarios] >= 0)\n",
    "@variable(model, nu_out[1:T, 1:num_scenarios] >= 0)\n",
    "@variable(model, z_in[1:T, 1:num_scenarios], Bin)\n",
    "@variable(model, z_out[1:T, 1:num_scenarios], Bin)\n",
    "\n",
    "# I_pv = (I0 * y_PV^(-p)) * y_PV * (1 + MwSt)\n",
    "#      = I0 * y_PV^(1-p) * (1 + MwSt)\n",
    "@NLexpression(model, I_pv, I0 * (0.2*y_PV)^(1 - p) * (1 + MwSt))\n",
    "\n",
    "# Jährliche Investitionskosten via Annuitätenformel\n",
    "@NLexpression(model, A, I_pv * a)\n",
    "\n",
    "\n",
    "M = 1_000  # Big-M Wert\n",
    "\n",
    "for t in 1:T, ω in 1:num_scenarios\n",
    "    # Berechnung der PV-Erzeugung als fester Wert unter Nutzung der Effizienzfunktion\n",
    "    P_PV_val = efficiency(T_t_omega[t][ω]) * S_t_omega[t][ω]\n",
    "    \n",
    "    # Primal-Nebenbedingung: Energiebilanz\n",
    "    @constraint(model, L_t_omega[t][ω] == y_PV * P_PV_val + G_in[t, ω] - G_out[t, ω])\n",
    "    \n",
    "    # Stationaritätsbedingungen (Gradienten der Lagrangefunktion)\n",
    "    @constraint(model, c_grid_buy - λ[t, ω] - nu_in[t, ω] == 0)     #TODO: Chatgpt hat einfach ehrenlosen fehler gemacht hier\n",
    "    @constraint(model, -c_grid_feed + λ[t, ω] - nu_out[t, ω] == 0)\n",
    "    \n",
    "    # Big-M Formulierung für Komplementaritätsbedingungen\n",
    "    @constraint(model, G_in[t, ω] <= M * z_in[t, ω])\n",
    "    @constraint(model, nu_in[t, ω] <= M * (1 - z_in[t, ω]))\n",
    "    @constraint(model, G_out[t, ω] <= M * z_out[t, ω])\n",
    "    @constraint(model, nu_out[t, ω] <= M * (1 - z_out[t, ω]))\n",
    "end\n",
    "\n",
    "# Zielfunktion: Minimierung der Investitionskosten plus der gewichteten Betriebs- und Emissionskosten\n",
    "@NLobjective(model, Min,\n",
    "    (A/365)*12 +\n",
    "    sum(Φ_t_omega[t][ω] * (c_grid_buy * G_in[t, ω] - c_grid_feed * G_out[t, ω] + SCC * e_grid * G_in[t, ω])\n",
    "        for t in 1:T, ω in 1:num_scenarios)\n",
    ")\n",
    "\n",
    "optimize!(model)\n",
    "println(\"Optimale PV-Kapazität: \", value(y_PV))"
   ]
  }
 ],
 "metadata": {
  "kernelspec": {
   "display_name": "Julia 1.11.2",
   "language": "julia",
   "name": "julia-1.11"
  },
  "language_info": {
   "file_extension": ".jl",
   "mimetype": "application/julia",
   "name": "julia",
   "version": "1.11.2"
  }
 },
 "nbformat": 4,
 "nbformat_minor": 5
}
