{
 "cells": [
  {
   "cell_type": "markdown",
   "id": "a7b5fddb",
   "metadata": {},
   "source": [
    "# Stochastisches Bilevel-Modell für PV-Investitions- und Betriebsentscheidungen\n",
    "\n",
    "Dieses Notebook implementiert ein stochastisches Bilevel-Modell, das eine Investitionsentscheidung für eine Photovoltaik-(PV)-Anlage und dazugehörige operative Entscheidungen (Netzbezug und Einspeisung) integriert. Der Code nutzt Julia, JuMP und Ipopt und bildet das in der zugehörigen PDF beschriebene Modell ab."
   ]
  },
  {
   "cell_type": "code",
   "execution_count": 1,
   "id": "19c9e7f6",
   "metadata": {},
   "outputs": [
    {
     "name": "stderr",
     "output_type": "stream",
     "text": [
      "\u001b[32m\u001b[1m  Activating\u001b[22m\u001b[39m project at `c:\\Users\\Niklas\\git\\AMOProject`\n"
     ]
    }
   ],
   "source": [
    "using Pkg\n",
    "Pkg.activate(\".\")\n",
    "Pkg.instantiate()"
   ]
  },
  {
   "cell_type": "code",
   "execution_count": 2,
   "id": "bb2bae55",
   "metadata": {},
   "outputs": [
    {
     "name": "stderr",
     "output_type": "stream",
     "text": [
      "\u001b[32m\u001b[1m   Resolving\u001b[22m\u001b[39m package versions...\n",
      "\u001b[32m\u001b[1m  No Changes\u001b[22m\u001b[39m to `C:\\Users\\Niklas\\git\\AMOProject\\Project.toml`\n",
      "\u001b[32m\u001b[1m  No Changes\u001b[22m\u001b[39m to `C:\\Users\\Niklas\\git\\AMOProject\\Manifest.toml`\n",
      "\u001b[32m\u001b[1m   Resolving\u001b[22m\u001b[39m package versions...\n",
      "\u001b[32m\u001b[1m  No Changes\u001b[22m\u001b[39m to `C:\\Users\\Niklas\\git\\AMOProject\\Project.toml`\n",
      "\u001b[32m\u001b[1m  No Changes\u001b[22m\u001b[39m to `C:\\Users\\Niklas\\git\\AMOProject\\Manifest.toml`\n",
      "\u001b[32m\u001b[1m   Resolving\u001b[22m\u001b[39m package versions...\n",
      "\u001b[32m\u001b[1m  No Changes\u001b[22m\u001b[39m to `C:\\Users\\Niklas\\git\\AMOProject\\Project.toml`\n",
      "\u001b[32m\u001b[1m  No Changes\u001b[22m\u001b[39m to `C:\\Users\\Niklas\\git\\AMOProject\\Manifest.toml`\n",
      "\u001b[32m\u001b[1m   Resolving\u001b[22m\u001b[39m package versions...\n",
      "\u001b[32m\u001b[1m  No Changes\u001b[22m\u001b[39m to `C:\\Users\\Niklas\\git\\AMOProject\\Project.toml`\n",
      "\u001b[32m\u001b[1m  No Changes\u001b[22m\u001b[39m to `C:\\Users\\Niklas\\git\\AMOProject\\Manifest.toml`\n",
      "\u001b[32m\u001b[1m   Resolving\u001b[22m\u001b[39m package versions...\n",
      "\u001b[32m\u001b[1m  No Changes\u001b[22m\u001b[39m to `C:\\Users\\Niklas\\git\\AMOProject\\Project.toml`\n",
      "\u001b[32m\u001b[1m  No Changes\u001b[22m\u001b[39m to `C:\\Users\\Niklas\\git\\AMOProject\\Manifest.toml`\n",
      "\u001b[32m\u001b[1m   Resolving\u001b[22m\u001b[39m package versions...\n",
      "\u001b[32m\u001b[1m  No Changes\u001b[22m\u001b[39m to `C:\\Users\\Niklas\\git\\AMOProject\\Project.toml`\n",
      "\u001b[32m\u001b[1m  No Changes\u001b[22m\u001b[39m to `C:\\Users\\Niklas\\git\\AMOProject\\Manifest.toml`\n",
      "\u001b[32m\u001b[1m   Resolving\u001b[22m\u001b[39m package versions...\n",
      "\u001b[32m\u001b[1m  No Changes\u001b[22m\u001b[39m to `C:\\Users\\Niklas\\git\\AMOProject\\Project.toml`\n",
      "\u001b[32m\u001b[1m  No Changes\u001b[22m\u001b[39m to `C:\\Users\\Niklas\\git\\AMOProject\\Manifest.toml`\n",
      "\u001b[32m\u001b[1m   Resolving\u001b[22m\u001b[39m package versions...\n",
      "\u001b[32m\u001b[1m  No Changes\u001b[22m\u001b[39m to `C:\\Users\\Niklas\\git\\AMOProject\\Project.toml`\n",
      "\u001b[32m\u001b[1m  No Changes\u001b[22m\u001b[39m to `C:\\Users\\Niklas\\git\\AMOProject\\Manifest.toml`\n",
      "\u001b[32m\u001b[1m   Resolving\u001b[22m\u001b[39m package versions...\n",
      "\u001b[32m\u001b[1m  No Changes\u001b[22m\u001b[39m to `C:\\Users\\Niklas\\git\\AMOProject\\Project.toml`\n",
      "\u001b[32m\u001b[1m  No Changes\u001b[22m\u001b[39m to `C:\\Users\\Niklas\\git\\AMOProject\\Manifest.toml`\n",
      "\u001b[32m\u001b[1m   Resolving\u001b[22m\u001b[39m package versions...\n",
      "\u001b[32m\u001b[1m  No Changes\u001b[22m\u001b[39m to `C:\\Users\\Niklas\\git\\AMOProject\\Project.toml`\n",
      "\u001b[32m\u001b[1m  No Changes\u001b[22m\u001b[39m to `C:\\Users\\Niklas\\git\\AMOProject\\Manifest.toml`\n",
      "\u001b[32m\u001b[1m   Resolving\u001b[22m\u001b[39m package versions...\n",
      "\u001b[32m\u001b[1m  No Changes\u001b[22m\u001b[39m to `C:\\Users\\Niklas\\git\\AMOProject\\Project.toml`\n",
      "\u001b[32m\u001b[1m  No Changes\u001b[22m\u001b[39m to `C:\\Users\\Niklas\\git\\AMOProject\\Manifest.toml`\n",
      "\u001b[32m\u001b[1m   Resolving\u001b[22m\u001b[39m package versions...\n",
      "\u001b[32m\u001b[1m  No Changes\u001b[22m\u001b[39m to `C:\\Users\\Niklas\\git\\AMOProject\\Project.toml`\n",
      "\u001b[32m\u001b[1m  No Changes\u001b[22m\u001b[39m to `C:\\Users\\Niklas\\git\\AMOProject\\Manifest.toml`\n",
      "\u001b[32m\u001b[1m   Resolving\u001b[22m\u001b[39m package versions...\n",
      "\u001b[32m\u001b[1m  No Changes\u001b[22m\u001b[39m to `C:\\Users\\Niklas\\git\\AMOProject\\Project.toml`\n",
      "\u001b[32m\u001b[1m  No Changes\u001b[22m\u001b[39m to `C:\\Users\\Niklas\\git\\AMOProject\\Manifest.toml`\n"
     ]
    }
   ],
   "source": [
    "Pkg.add(\"MathOptInterface\")\n",
    "Pkg.add(\"JuMP\")\n",
    "Pkg.add(\"Distributions\")\n",
    "Pkg.add(\"HiGHS\")\n",
    "Pkg.add(\"Clustering\")\n",
    "Pkg.add(\"Distances\")\n",
    "Pkg.add(\"Plots\")\n",
    "Pkg.add(\"Statistics\")\n",
    "Pkg.add(\"StatsBase\")\n",
    "Pkg.add(\"Ipopt\")\n",
    "Pkg.add(\"BilevelJuMP\")\n",
    "Pkg.add(\"Juniper\") #new\n",
    "Pkg.add(\"JSON\")"
   ]
  },
  {
   "cell_type": "code",
   "execution_count": 3,
   "id": "336d8115",
   "metadata": {},
   "outputs": [],
   "source": [
    "using JuMP, Distributions, Clustering, Distances, Plots, Statistics, StatsBase, Ipopt, Juniper, JSON"
   ]
  },
  {
   "cell_type": "markdown",
   "id": "60b584d8",
   "metadata": {},
   "source": [
    "## Parameterdefinitionen\n",
    "\n",
    "Hier werden die grundlegenden Parameter definiert, wie etwa die Anzahl der Zeitschritte, Investitionskosten, Strompreise sowie Parameter zur Modellierung der PV-Leistung und Emissionen."
   ]
  },
  {
   "cell_type": "code",
   "execution_count": 4,
   "id": "9a0d0c03",
   "metadata": {},
   "outputs": [
    {
     "data": {
      "text/plain": [
       "25"
      ]
     },
     "metadata": {},
     "output_type": "display_data"
    }
   ],
   "source": [
    "# Anzahl der Zeitperioden (z.B. 12 Monate * 24 Stunden)\n",
    "T = 288\n",
    "\n",
    "# Anzahl der Szenarien pro Zeitschritt\n",
    "num_scenarios = 5\n",
    "\n",
    "# Investitionskosten (Beispielwert)\n",
    "C_inv = 10 * 12\n",
    "\n",
    "# Social Cost of Carbon ($/t CO2)\n",
    "SCC = 50\n",
    "\n",
    "# Kosten für Netzbezug und Erlös aus Einspeisung ($/kWh)\n",
    "c_grid_buy = 0.25\n",
    "c_grid_feed = 0.10\n",
    "\n",
    "# Emissionsintensität (tCO2/kWh)\n",
    "e_grid = 0.5\n",
    "\n",
    "# PV-Parameter\n",
    "η_0 = 0.18      # Nominale PV-Wirkungsgrad\n",
    "β = 0.004       # Temperaturkoeffizient pro °C\n",
    "T_ref = 25      # Referenztemperatur in °C"
   ]
  },
  {
   "cell_type": "markdown",
   "id": "c1ac3d0c",
   "metadata": {},
   "source": [
    "## Definition der Effizienzfunktion\n",
    "\n",
    "Die Funktion `efficiency` berechnet den temperaturabhängigen PV-Wirkungsgrad."
   ]
  },
  {
   "cell_type": "code",
   "execution_count": 5,
   "id": "a92ae456",
   "metadata": {},
   "outputs": [
    {
     "data": {
      "text/plain": [
       "efficiency (generic function with 1 method)"
      ]
     },
     "metadata": {},
     "output_type": "display_data"
    }
   ],
   "source": [
    "function efficiency(T_t)\n",
    "    return η_0 * (1 - β * (T_t - T_ref))\n",
    "end"
   ]
  },
  {
   "cell_type": "markdown",
   "id": "4c847af6",
   "metadata": {},
   "source": [
    "## Erzeugung der stochastischen Verteilungen\n",
    "\n",
    "In diesem Abschnitt wird für jeden Zeitschritt ein Vektor von Verteilungen erstellt, der Solarstrahlung, Temperatur und Verbrauch abbildet. Dabei werden saisonale und tageszeitliche Effekte berücksichtigt."
   ]
  },
  {
   "cell_type": "code",
   "execution_count": 6,
   "id": "2b6b60bd",
   "metadata": {},
   "outputs": [],
   "source": [
    "using Distributions, Random\n",
    "\n",
    "# Funktion zur Erzeugung eines Verteilungsvektors für einen Zeitschritt\n",
    "function generate_distributions(si::Float64, consumption_mean::Float64, temp_mean::Float64, hour::Int)\n",
    "    if hour < 6 || hour > 22\n",
    "        # Nachtstunden: nahezu keine Sonneneinstrahlung\n",
    "        solar = Beta(1, 1000)  \n",
    "        temperature = Normal(temp_mean - 4, 9)\n",
    "        consumption = Normal(consumption_mean/(consumption_mean - 1), consumption_mean / 11)\n",
    "    else\n",
    "        # Tagesstunden: solare Einstrahlung mit Beta-Verteilung\n",
    "        β_param = ((si * (1 + si) / (si / 10)) - 1) * (1 - si)\n",
    "        α_param = si * β_param / (1 - si)\n",
    "        solar = Beta(α_param, β_param)\n",
    "        temperature = Normal(temp_mean, 9)\n",
    "        consumption = Normal(consumption_mean, consumption_mean / 11)\n",
    "    end\n",
    "    return [solar, consumption, temperature]\n",
    "end\n",
    "\n",
    "# Initialisierung des Verteilungsvektors für jeden Zeitschritt\n",
    "dist_vec = Vector{Vector{Distribution}}(undef, 12 * 24)\n",
    "\n",
    "for month in 1:12\n",
    "    for hour in 1:24\n",
    "        # Saisonale und tageszeitabhängige Parameter\n",
    "        si = 0.25 + 0.1 * sin(2π * month / 12)  \n",
    "        si = hour < 6 || hour > 22 ? 0.0 : si  \n",
    "        consumption_mean = 90.0 + 10 * sin(2π * hour / 24)\n",
    "        temp_mean = 13.0 + 5 * cos(2π * month / 12)\n",
    "        \n",
    "        # Speichern des Verteilungsvektors\n",
    "        dist_vec[(month - 1) * 24 + hour] = generate_distributions(si, consumption_mean, temp_mean, hour)\n",
    "    end\n",
    "end"
   ]
  },
  {
   "cell_type": "markdown",
   "id": "71ab2ec2",
   "metadata": {},
   "source": [
    "## Erzeugung der Dummy-Szenarien\n",
    "\n",
    "Für jeden Zeitschritt werden 5 Szenarien für Solarstrahlung, Verbrauch und Temperatur erzeugt. Außerdem werden die Szenario-Wahrscheinlichkeiten (gleichverteilt) festgelegt."
   ]
  },
  {
   "cell_type": "code",
   "execution_count": 12,
   "id": "c8dd2eb2",
   "metadata": {},
   "outputs": [],
   "source": [
    "# Gesamtzahl der Zeitschritte\n",
    "T_total = 12 * 24\n",
    "\n",
    "# Erzeugen der Dummy-Szenarien für Solar (Index 1 im Verteilungsvektor)\n",
    "S_t_omega = [ [rand(dist_vec[t][1]) for ω in 1:num_scenarios] for t in 1:T_total ]\n",
    "\n",
    "# Erzeugen der Dummy-Szenarien für Verbrauch (Index 2 im Verteilungsvektor)\n",
    "L_t_omega = [ [rand(dist_vec[t][2]) for ω in 1:num_scenarios] for t in 1:T_total ]\n",
    "\n",
    "# Erzeugen der Dummy-Szenarien für Temperatur (Index 3 im Verteilungsvektor)\n",
    "T_t_omega = [ [rand(dist_vec[t][3]) for ω in 1:num_scenarios] for t in 1:T_total ]\n",
    "\n",
    "# Szenario-Wahrscheinlichkeiten (uniform verteilt)\n",
    "Φ_t_omega = [ [1/num_scenarios for ω in 1:num_scenarios] for t in 1:T_total ]\n",
    "nothing"
   ]
  },
  {
   "cell_type": "markdown",
   "id": "450c251b",
   "metadata": {},
   "source": [
    "## Lade Szenarien Daten"
   ]
  },
  {
   "cell_type": "code",
   "execution_count": null,
   "id": "ba24a3d2",
   "metadata": {},
   "outputs": [
    {
     "name": "stdout",
     "output_type": "stream",
     "text": [
      "[[0.0, 2.999525267344869, 22.254531157392194], [0.0, 1.9565797642148461, 92.90035278238122], [0.0, 0.3624653274997054, 171.66315867195937], [0.0, 1.9050833876175937, 52.263956033678724], [0.0, -0.25336772350649683, 253.59294825700488]]\n",
      "[0.561, 0.202, 0.068, 0.153, 0.016]\n"
     ]
    }
   ],
   "source": [
    "# Szenarien und wahrscheinlichkeiten aus JSON-Dateien laden\n",
    "all_scenarios = JSON.parsefile(\"data/results/all_scenarios.json\")\n",
    "all_probabilities = JSON.parsefile(\"data/results/all_probabilities.json\")\n",
    "\n",
    "# Konvertiere JSON-Arrays in Julia-Arrays\n",
    "#'G(i) (Globalstrahlung)', 'T2m (Temperatur)', 'Global_active_power'\n",
    "all_scenarios = [[convert(Array{Float64,1}, scenario) for scenario in scenarios] for scenarios in all_scenarios]\n",
    "all_probabilities = [convert(Vector{Float64}, probs) for probs in all_probabilities]\n",
    "println(all_scenarios[1])\n",
    "println(all_probabilities[1])\n",
    "nothing"
   ]
  },
  {
   "cell_type": "code",
   "execution_count": 18,
   "id": "f2bf8ee0",
   "metadata": {},
   "outputs": [
    {
     "name": "stdout",
     "output_type": "stream",
     "text": [
      "S_t_omega[1]: [0.0, 0.0, 0.0, 0.0, 0.0]\n",
      "L_t_omega[1]: [2.999525267344869, 1.9565797642148461, 0.3624653274997054, 1.9050833876175937, -0.25336772350649683]\n",
      "T_t_omega[1]: [22.254531157392194, 92.90035278238122, 171.66315867195937, 52.263956033678724, 253.59294825700488]\n",
      "Φ_t_omega[1]: [0.561, 0.202, 0.068, 0.153, 0.016]\n"
     ]
    }
   ],
   "source": [
    "T_total = length(all_scenarios)  # 288\n",
    "num_scenarios = length(all_scenarios[1])  # 5\n",
    "\n",
    "S_t_omega = [[all_scenarios[t][ω][1] for ω in 1:num_scenarios] for t in 1:T_total]  # Solar\n",
    "L_t_omega = [[all_scenarios[t][ω][2] for ω in 1:num_scenarios] for t in 1:T_total]  # Load\n",
    "T_t_omega = [[all_scenarios[t][ω][3] for ω in 1:num_scenarios] for t in 1:T_total]  # Temperature\n",
    "\n",
    "# Szenario wahrscheinlichkeiten\n",
    "Φ_t_omega = [all_probabilities[t] for t in 1:T_total]  \n",
    "\n",
    "# Samples\n",
    "println(\"S_t_omega[1]: \", S_t_omega[1])\n",
    "println(\"L_t_omega[1]: \", L_t_omega[1])\n",
    "println(\"T_t_omega[1]: \", T_t_omega[1])\n",
    "println(\"Φ_t_omega[1]: \", Φ_t_omega[1])"
   ]
  },
  {
   "cell_type": "markdown",
   "id": "ce89d5d2",
   "metadata": {},
   "source": [
    "## Testausgabe für den ersten Zeitschritt\n",
    "\n",
    "Wir geben die für den ersten Zeitschritt (erste Stunde im Januar) generierten Werte aus."
   ]
  },
  {
   "cell_type": "code",
   "execution_count": 50,
   "id": "af5b9c48",
   "metadata": {},
   "outputs": [
    {
     "name": "stdout",
     "output_type": "stream",
     "text": [
      "Erste Stunde im Januar:\n",
      "Solar: [0.0010003621903537682, 0.00014067172256109771, 0.0011858183110122736, 0.0007402658844725419, 0.000809507363958185]\n",
      "Verbrauch: [0.21924998588175035, -23.51225807307952, -8.400875957781818, -17.001972575130743, 6.021872176035843]\n",
      "Temperatur: [-4.7953593686247995, 15.713104526292604, 13.294941496024139, 2.8450018830945965, 3.1678643759865377]\n",
      "Szenario-Wahrscheinlichkeiten: [0.2, 0.2, 0.2, 0.2, 0.2]\n"
     ]
    }
   ],
   "source": [
    "println(\"Erste Stunde im Januar:\")\n",
    "println(\"Solar: \", S_t_omega[1])\n",
    "println(\"Verbrauch: \", L_t_omega[1])\n",
    "println(\"Temperatur: \", T_t_omega[1])\n",
    "println(\"Szenario-Wahrscheinlichkeiten: \", Φ_t_omega[1])"
   ]
  },
  {
   "cell_type": "markdown",
   "id": "a3d136b7",
   "metadata": {},
   "source": [
    "## Erstellung und Lösung des Optimierungsmodells\n",
    "\n",
    "Das Optimierungsmodell wird in zwei Ebenen aufgeteilt:\n",
    "\n",
    "- **Obere Ebene:** Investitionsentscheidung (Variable y_PV) unter Berücksichtigung der jährlichen Investitionskosten.\n",
    "- **Untere Ebene:** Operative Entscheidungen (Netzbezug G_in und Einspeisung G_out) für jeden Zeitschritt und jedes Szenario. Die KKT-Bedingungen der unteren Ebene werden verwendet, um das bilevel-Problem in ein Single-Level-Problem zu transformieren.\n",
    "\n",
    "Anhand der Energiebilanz wird sichergestellt, dass der Verbrauch durch PV-Erzeugung, Netzbezug und Einspeisung gedeckt wird."
   ]
  },
  {
   "cell_type": "code",
   "execution_count": 51,
   "id": "d61c082a",
   "metadata": {},
   "outputs": [
    {
     "name": "stdout",
     "output_type": "stream",
     "text": [
      "This is Ipopt version 3.14.17, running with linear solver MUMPS 5.7.3.\n",
      "\n",
      "Number of nonzeros in equality constraint Jacobian...:    15840\n",
      "Number of nonzeros in inequality constraint Jacobian.:        0\n",
      "Number of nonzeros in Lagrangian Hessian.............:     8640\n",
      "\n",
      "Total number of variables............................:     7201\n",
      "                     variables with only lower bounds:     5760\n",
      "                variables with lower and upper bounds:        1\n",
      "                     variables with only upper bounds:        0\n",
      "Total number of equality constraints.................:     7200\n",
      "Total number of inequality constraints...............:        0\n",
      "        inequality constraints with only lower bounds:        0\n",
      "   inequality constraints with lower and upper bounds:        0\n",
      "        inequality constraints with only upper bounds:        0\n",
      "\n",
      "iter    objective    inf_pr   inf_du lg(mu)  ||d||  lg(rg) alpha_du alpha_pr  ls\n",
      "   0  7.3631926e+01 1.18e+02 3.03e-01  -1.0 0.00e+00    -  0.00e+00 0.00e+00   0\n",
      "   1  1.1528428e+02 1.18e+02 2.20e+01  -1.0 1.23e+03    -  8.05e-06 1.84e-04h  1\n",
      "   2  1.7044472e+02 1.18e+02 2.20e+01  -1.0 1.36e+03    -  1.73e-04 1.85e-04h  1\n",
      "   3  2.8614030e+02 1.18e+02 3.06e+01  -1.0 1.35e+03    -  3.72e-04 3.67e-04h  1\n",
      "   4  5.2524848e+02 1.18e+02 3.02e+03  -1.0 1.34e+03    -  7.98e-04 7.39e-04h  1\n",
      "   5  1.0135572e+03 1.18e+02 1.19e+04  -1.0 1.34e+03    -  1.71e-03 1.49e-03h  1\n",
      "   6  2.0036110e+03 1.18e+02 2.18e+04  -1.0 1.34e+03    -  3.77e-03 3.01e-03h  1\n",
      "   7  3.9922275e+03 1.17e+02 3.77e+04  -1.0 1.33e+03    -  8.31e-03 6.06e-03h  1\n",
      "   8  7.1014916e+03 1.16e+02 6.61e+04  -1.0 1.31e+03    -  1.06e-02 9.52e-03h  1\n",
      "   9  7.2825437e+03 1.16e+02 6.60e+04  -1.0 1.00e+03    -  5.52e-04 5.49e-04h  1\n",
      "iter    objective    inf_pr   inf_du lg(mu)  ||d||  lg(rg) alpha_du alpha_pr  ls\n",
      "  10  7.3557167e+03 1.16e+02 6.60e+04  -1.0 5.85e+02    -  2.17e-04 2.16e-04h  1\n",
      "  11  7.3881352e+03 1.16e+02 6.60e+04  -1.0 6.37e+02    -  9.63e-05 9.59e-05h  1\n",
      "  12  7.4300221e+03 1.16e+02 6.59e+04  -1.0 6.30e+02    -  1.24e-04 1.24e-04h  1\n",
      "  13  7.4790621e+03 1.16e+02 6.59e+04  -1.0 5.46e+02    -  1.44e-04 1.44e-04h  1\n",
      "  14  7.5016316e+03 1.16e+02 6.59e+04  -1.0 6.18e+02    -  7.01e-05 6.64e-05h  1\n",
      "  15  7.5248545e+03 1.16e+02 6.59e+04  -1.0 3.55e+02    -  6.73e-05 6.71e-05h  1\n",
      "  16  7.5452264e+03 1.16e+02 6.58e+04  -1.0 5.85e+02    -  6.42e-05 5.97e-05h  1\n",
      "  17  7.5603914e+03 1.16e+02 6.57e+04  -1.0 6.19e+02    -  5.15e-05 4.45e-05h  1\n",
      "  18  7.5926744e+03 1.16e+02 6.57e+04  -1.0 3.11e+02    -  9.27e-05 9.26e-05h  1\n",
      "  19  7.6053509e+03 1.16e+02 6.57e+04  -1.0 1.93e+02    -  3.61e-05 3.60e-05h  1\n",
      "iter    objective    inf_pr   inf_du lg(mu)  ||d||  lg(rg) alpha_du alpha_pr  ls\n",
      "  20  7.6110974e+03 1.16e+02 6.57e+04  -1.0 5.46e+02    -  1.68e-05 1.67e-05h  1\n",
      "  21  7.6190657e+03 1.16e+02 6.56e+04  -1.0 6.35e+02    -  3.86e-05 2.34e-05h  1\n",
      "  22  7.6327319e+03 1.16e+02 6.55e+04  -1.0 4.59e+02    -  3.98e-05 3.95e-05h  1\n",
      "  23  7.6572995e+03 1.16e+02 6.54e+04  -1.0 2.77e+02    -  8.17e-05 7.00e-05h  1\n",
      "  24  7.6680776e+03 1.16e+02 6.54e+04  -1.0 1.15e+02    -  3.02e-05 3.01e-05h  1\n",
      "  25  7.6755848e+03 1.16e+02 6.54e+04  -1.0 2.65e+02    -  2.54e-05 2.13e-05h  1\n",
      "  26  7.6865645e+03 1.16e+02 6.54e+04  -1.0 1.58e+02    -  3.09e-05 3.08e-05h  1\n",
      "  27  7.6938347e+03 1.16e+02 6.53e+04  -1.0 3.00e+02    -  2.37e-05 2.07e-05h  1\n",
      "  28  7.7182205e+03 1.16e+02 6.53e+04  -1.0 1.63e+02    -  7.43e-05 6.86e-05h  1\n",
      "  29  7.7529764e+03 1.16e+02 6.52e+04  -1.0 1.16e+02    -  9.72e-05 9.67e-05h  1\n",
      "iter    objective    inf_pr   inf_du lg(mu)  ||d||  lg(rg) alpha_du alpha_pr  ls\n",
      "  30r 7.7529764e+03 1.16e+02 1.00e+03   2.1 0.00e+00    -  0.00e+00 2.65e-07R  6\n",
      "  31r 7.7878974e+03 1.16e+02 1.00e+03   2.1 1.13e+03    -  7.25e-04 3.27e-05f  1\n",
      "  32r 8.4893542e+03 1.15e+02 1.00e+03   0.7 5.73e+02    -  2.01e-03 1.02e-03f  1\n",
      "  33r 1.1419640e+04 1.15e+02 1.00e+03   0.7 2.76e+03    -  3.08e-04 9.54e-04f  1\n",
      "  34r 1.1994931e+04 1.15e+02 1.00e+03   0.7 2.79e+03    -  2.95e-04 1.78e-04f  1\n",
      "  35r 1.2872264e+04 1.15e+02 1.00e+03   0.7 2.79e+03    -  2.09e-04 2.65e-04f  1\n",
      "  36r 1.4055911e+04 1.15e+02 1.00e+03   0.7 2.79e+03    -  3.42e-04 3.51e-04f  1\n",
      "  37r 1.5721368e+04 1.14e+02 1.00e+03   0.7 2.79e+03    -  5.47e-04 4.81e-04f  1\n",
      "  38r 1.8279346e+04 1.14e+02 1.00e+03   0.7 2.79e+03    -  1.02e-03 6.94e-04f  1\n",
      "  39r 1.9645402e+04 1.14e+02 9.99e+02   0.7 2.79e+03    -  2.06e-04 3.46e-04f  1\n",
      "iter    objective    inf_pr   inf_du lg(mu)  ||d||  lg(rg) alpha_du alpha_pr  ls\n",
      "  40r 2.2365197e+04 1.14e+02 1.00e+03   0.7 2.79e+03    -  1.05e-03 7.17e-04f  1\n",
      "  41r 3.0300828e+04 1.13e+02 1.04e+03   0.7 2.78e+03    -  6.72e-03 2.15e-03f  1\n",
      "  42r 8.0871495e+04 1.06e+02 9.79e+02   0.7 2.76e+03    -  8.06e-03 1.38e-02f  1\n",
      "  43r 1.5627117e+05 9.64e+01 3.59e+03   0.7 2.61e+03    -  7.49e-02 2.13e-02f  1\n",
      "  44  1.5668420e+05 9.63e+01 1.01e+02  -1.0 9.64e+01    -  4.10e-03 1.38e-03h  1\n",
      "  45  1.5751234e+05 9.60e+01 1.54e+02  -1.0 9.63e+01    -  4.71e-02 2.74e-03h  1\n",
      "  46  1.5917464e+05 9.55e+01 1.11e+03  -1.0 9.60e+01    -  5.79e-03 5.51e-03h  1\n",
      "  47  1.6251527e+05 9.44e+01 1.93e+05  -1.0 9.55e+01    -  3.90e-02 1.11e-02h  1\n",
      "  48  1.6921369e+05 9.23e+01 3.16e+05  -1.0 9.44e+01    -  3.20e-02 2.26e-02h  1\n",
      "  49  1.8244070e+05 8.81e+01 1.31e+06  -1.0 9.23e+01    -  1.55e-01 4.56e-02h  1\n",
      "iter    objective    inf_pr   inf_du lg(mu)  ||d||  lg(rg) alpha_du alpha_pr  ls\n",
      "  50  2.0768237e+05 8.01e+01 1.44e+06  -1.0 8.81e+01    -  1.23e-01 9.12e-02h  1\n",
      "  51  2.5241537e+05 6.58e+01 2.08e+06  -1.0 8.00e+01    -  3.08e-01 1.78e-01h  1\n",
      "  52  3.0758045e+05 4.83e+01 2.59e+06  -1.0 6.58e+01    -  4.92e-01 2.67e-01h  1\n",
      "  53  3.6204129e+05 3.10e+01 2.52e+06  -1.0 4.83e+01    -  7.15e-01 3.59e-01h  1\n",
      "  54  3.8463116e+05 2.38e+01 3.21e+06  -1.0 3.10e+01    -  7.18e-01 2.32e-01h  1\n",
      "  55  4.2114943e+05 1.22e+01 2.54e+06  -1.0 2.38e+01    -  1.00e+00 4.88e-01h  1\n",
      "  56  4.4918900e+05 3.25e+00 9.59e+05  -1.0 1.22e+01    -  1.00e+00 7.33e-01h  1\n",
      "  57  4.5862738e+05 2.46e-01 2.15e+05  -1.0 3.25e+00    -  1.00e+00 9.24e-01h  1\n",
      "  58  4.5939249e+05 3.01e-03 6.73e+04  -1.0 2.46e-01    -  1.00e+00 9.88e-01h  1\n",
      "  59  4.5940189e+05 2.02e-05 5.47e+04  -1.0 3.01e-03    -  1.00e+00 9.93e-01h  1\n",
      "iter    objective    inf_pr   inf_du lg(mu)  ||d||  lg(rg) alpha_du alpha_pr  ls\n",
      "  60  4.5940195e+05 1.42e-14 5.79e+00  -1.0 2.02e-05    -  1.00e+00 1.00e+00h  1\n",
      "  61  4.5940183e+05 1.42e-14 5.78e+03  -5.7 9.82e-04    -  1.00e+00 9.99e-01f  1\n",
      "  62  4.5940183e+05 1.42e-14 4.21e-06  -5.7 1.63e-08    -  1.00e+00 1.00e+00f  1\n",
      "  63  4.5940183e+05 1.42e-14 1.45e-07  -8.6 1.81e-08    -  1.00e+00 1.00e+00h  1\n",
      "  64  4.5940183e+05 1.42e-14 2.58e-14  -8.6 1.43e-14    -  1.00e+00 1.00e+00   0\n",
      "\n",
      "Number of Iterations....: 64\n",
      "\n",
      "                                   (scaled)                 (unscaled)\n",
      "Objective...............:   3.8283486143988551e+05    4.5940183372786257e+05\n",
      "Dual infeasibility......:   2.5812685322534890e-14    3.0975222387041867e-14\n",
      "Constraint violation....:   1.4210854715202004e-14    1.4210854715202004e-14\n",
      "Variable bound violation:   2.9997540806903089e-07    2.9997540806903089e-07\n",
      "Complementarity.........:   2.5059035596800564e-09    3.0070842716160674e-09\n",
      "Overall NLP error.......:   2.5059035596800564e-09    3.0070842716160674e-09\n",
      "\n",
      "\n",
      "Number of objective function evaluations             = 71\n",
      "Number of objective gradient evaluations             = 53\n",
      "Number of equality constraint evaluations            = 71\n",
      "Number of inequality constraint evaluations          = 0\n",
      "Number of equality constraint Jacobian evaluations   = 66\n",
      "Number of inequality constraint Jacobian evaluations = 0\n",
      "Number of Lagrangian Hessian evaluations             = 64\n",
      "Total seconds in IPOPT                               = 1.987\n",
      "\n",
      "EXIT: Optimal Solution Found.\n"
     ]
    }
   ],
   "source": [
    "model = Model(Ipopt.Optimizer)\n",
    "\n",
    "# Obere Ebene: Investitionsentscheidung (Leader)\n",
    "@variable(model, 0 <= y_PV <= 30)\n",
    "\n",
    "# Untere Ebene: Operationelle Variablen (Follower)\n",
    "@variable(model, G_in[1:T, 1:num_scenarios] >= 0)   # Netzimport\n",
    "@variable(model, G_out[1:T, 1:num_scenarios] >= 0)   # Netzexport\n",
    "\n",
    "# Dualvariablen für KKT-Bedingungen\n",
    "@variable(model, λ[1:T, 1:num_scenarios])\n",
    "@variable(model, nu_in[1:T, 1:num_scenarios] >= 0)\n",
    "@variable(model, nu_out[1:T, 1:num_scenarios] >= 0)\n",
    "\n",
    "for t in 1:T, ω in 1:num_scenarios\n",
    "    # Berechnung der PV-Erzeugung als fester Wert unter Nutzung der Effizienzfunktion\n",
    "    P_PV_val = efficiency(T_t_omega[t][ω]) * S_t_omega[t][ω]\n",
    "    \n",
    "    # Primal-Nebenbedingung: Energiebilanz\n",
    "    @constraint(model, L_t_omega[t][ω] == y_PV * P_PV_val + G_in[t, ω] - G_out[t, ω])\n",
    "    \n",
    "    # Stationaritätsbedingungen (Gradienten der Lagrangefunktion)\n",
    "    @constraint(model, c_grid_buy - λ[t, ω] - nu_in[t, ω] == 0)\n",
    "    @constraint(model, -c_grid_feed + λ[t, ω] - nu_out[t, ω] == 0)\n",
    "    \n",
    "    # Komplementaritätsbedingungen (als nichtlineare Nebenbedingungen)\n",
    "    @NLconstraint(model, nu_in[t, ω] * G_in[t, ω] == 0)\n",
    "    @NLconstraint(model, nu_out[t, ω] * G_out[t, ω] == 0)\n",
    "end\n",
    "\n",
    "# Zielfunktion: Minimierung der Investitionskosten plus der gewichteten Betriebs- und Emissionskosten\n",
    "@objective(model, Min,\n",
    "    C_inv * y_PV +\n",
    "    sum(Φ_t_omega[t][ω] * (c_grid_buy * G_in[t, ω] - c_grid_feed * G_out[t, ω] + SCC * e_grid * G_in[t, ω])\n",
    "        for t in 1:T, ω in 1:num_scenarios)\n",
    ")\n",
    "\n",
    "optimize!(model)"
   ]
  },
  {
   "cell_type": "markdown",
   "id": "96adcd4f",
   "metadata": {},
   "source": [
    "## Ausgabe der optimalen PV-Kapazität\n",
    "\n",
    "Nach der Optimierung wird die optimale Investitionsentscheidung (PV-Kapazität) ausgegeben."
   ]
  },
  {
   "cell_type": "code",
   "execution_count": 52,
   "id": "7edc7fbb",
   "metadata": {},
   "outputs": [
    {
     "name": "stdout",
     "output_type": "stream",
     "text": [
      "Optimale PV-Kapazität: 30.000000299975408\n"
     ]
    }
   ],
   "source": [
    "println(\"Optimale PV-Kapazität: \", value(y_PV))"
   ]
  },
  {
   "cell_type": "markdown",
   "id": "fad2183a",
   "metadata": {},
   "source": [
    "## Big M"
   ]
  },
  {
   "cell_type": "code",
   "execution_count": 55,
   "id": "faec84d8",
   "metadata": {},
   "outputs": [
    {
     "name": "stdout",
     "output_type": "stream",
     "text": [
      "nl_solver   : MathOptInterface.OptimizerWithAttributes(Ipopt.Optimizer, Pair{MathOptInterface.AbstractOptimizerAttribute, Any}[MathOptInterface.RawOptimizerAttribute(\"print_level\") => 0])\n",
      "mip_solver  : MathOptInterface.OptimizerWithAttributes(HiGHS.Optimizer, Pair{MathOptInterface.AbstractOptimizerAttribute, Any}[MathOptInterface.RawOptimizerAttribute(\"output_flag\") => false])\n",
      "log_levels  : [:Options, :Table, :Info]\n",
      "\n",
      "#Variables: 10081\n",
      "#IntBinVar: 2880\n",
      "Obj Sense: Min\n",
      "\n",
      "Start values are not feasible.\n",
      "Status of relaxation: LOCALLY_SOLVED\n",
      "Time for relaxation: 1.4810001850128174\n",
      "Relaxation Obj: 459401.83365974715\n",
      "\n",
      "       MIPobj              NLPobj       Time \n",
      "=============================================\n",
      "     1408.5904             1.1e-5        0.8 \n",
      "\n",
      "FP: 1.6469998359680176 s\n",
      "FP: 1 round\n",
      "FP: Obj: 459401.83365960856\n",
      "Obj: 459401.83365960856\n",
      "Optimale PV-Kapazität: 30.000000299975408\n"
     ]
    }
   ],
   "source": [
    "using JuMP, Juniper, Ipopt, HiGHS\n",
    "ipopt = optimizer_with_attributes(Ipopt.Optimizer, \"print_level\" => 0)\n",
    "highs = optimizer_with_attributes(HiGHS.Optimizer, \"output_flag\" => false)\n",
    "model = Model(\n",
    "    optimizer_with_attributes(\n",
    "        Juniper.Optimizer,\n",
    "        \"nl_solver\" => ipopt,\n",
    "        \"mip_solver\" => highs,\n",
    "    ),\n",
    ")\n",
    "\n",
    "# Obere Ebene: Investitionsentscheidung (Leader)\n",
    "@variable(model, 0 <= y_PV <= 30)\n",
    "\n",
    "# Untere Ebene: Operationelle Variablen (Follower)\n",
    "@variable(model, G_in[1:T, 1:num_scenarios] >= 0)   # Netzimport\n",
    "@variable(model, G_out[1:T, 1:num_scenarios] >= 0)   # Netzexport\n",
    "\n",
    "# Dualvariablen für KKT-Bedingungen\n",
    "@variable(model, λ[1:T, 1:num_scenarios])\n",
    "@variable(model, nu_in[1:T, 1:num_scenarios] >= 0)\n",
    "@variable(model, nu_out[1:T, 1:num_scenarios] >= 0)\n",
    "@variable(model, z_in[1:T, 1:num_scenarios], Bin)\n",
    "@variable(model, z_out[1:T, 1:num_scenarios], Bin)\n",
    "\n",
    "M = 1_000  # Big-M Wert\n",
    "\n",
    "for t in 1:T, ω in 1:num_scenarios\n",
    "    # Berechnung der PV-Erzeugung als fester Wert unter Nutzung der Effizienzfunktion\n",
    "    P_PV_val = efficiency(T_t_omega[t][ω]) * S_t_omega[t][ω]\n",
    "    \n",
    "    # Primal-Nebenbedingung: Energiebilanz\n",
    "    @constraint(model, L_t_omega[t][ω] == y_PV * P_PV_val + G_in[t, ω] - G_out[t, ω])\n",
    "    \n",
    "    # Stationaritätsbedingungen (Gradienten der Lagrangefunktion)\n",
    "    @constraint(model, c_grid_buy - λ[t, ω] - nu_in[t, ω] == 0)     #TODO: Chatgpt hat einfach ehrenlosen fehler gemacht hier\n",
    "    @constraint(model, -c_grid_feed + λ[t, ω] - nu_out[t, ω] == 0)\n",
    "    \n",
    "    # Big-M Formulierung für Komplementaritätsbedingungen\n",
    "    @constraint(model, G_in[t, ω] <= M * z_in[t, ω])\n",
    "    @constraint(model, nu_in[t, ω] <= M * (1 - z_in[t, ω]))\n",
    "    @constraint(model, G_out[t, ω] <= M * z_out[t, ω])\n",
    "    @constraint(model, nu_out[t, ω] <= M * (1 - z_out[t, ω]))\n",
    "end\n",
    "\n",
    "# Zielfunktion: Minimierung der Investitionskosten plus der gewichteten Betriebs- und Emissionskosten\n",
    "@objective(model, Min,\n",
    "    C_inv * y_PV +\n",
    "    sum(Φ_t_omega[t][ω] * (c_grid_buy * G_in[t, ω] - c_grid_feed * G_out[t, ω] + SCC * e_grid * G_in[t, ω])\n",
    "        for t in 1:T, ω in 1:num_scenarios)\n",
    ")\n",
    "\n",
    "optimize!(model)\n",
    "println(\"Optimale PV-Kapazität: \", value(y_PV))"
   ]
  }
 ],
 "metadata": {
  "kernelspec": {
   "display_name": "Julia 1.11.0",
   "language": "julia",
   "name": "julia-1.11"
  },
  "language_info": {
   "file_extension": ".jl",
   "mimetype": "application/julia",
   "name": "julia",
   "version": "1.11.0"
  }
 },
 "nbformat": 4,
 "nbformat_minor": 5
}
