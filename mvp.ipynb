{
 "cells": [
  {
   "cell_type": "code",
   "execution_count": 1,
   "metadata": {},
   "outputs": [
    {
     "name": "stderr",
     "output_type": "stream",
     "text": [
      "\u001b[32m\u001b[1m  Activating\u001b[22m\u001b[39m new project at `c:\\Users\\nikla\\git\\AMOProject`\n",
      "\u001b[32m\u001b[1m  No Changes\u001b[22m\u001b[39m to `C:\\Users\\nikla\\git\\AMOProject\\Project.toml`\n",
      "\u001b[32m\u001b[1m  No Changes\u001b[22m\u001b[39m to `C:\\Users\\nikla\\git\\AMOProject\\Manifest.toml`\n"
     ]
    }
   ],
   "source": [
    "using Pkg\n",
    "Pkg.activate(\".\")\n",
    "Pkg.instantiate()"
   ]
  },
  {
   "cell_type": "code",
   "execution_count": 23,
   "metadata": {},
   "outputs": [],
   "source": [
    "using JuMP, Distributions, HiGHS, Clustering, Distances, Plots, StatsPlots, Statistics, PlotlyJS, StatsBase, Ipopt"
   ]
  },
  {
   "cell_type": "code",
   "execution_count": 13,
   "metadata": {},
   "outputs": [
    {
     "data": {
      "text/plain": [
       "3-element Vector{Distribution}:\n",
       " Beta{Float64}(α=1.0, β=1000.0)\n",
       " Normal{Float64}(μ=1.0109184382295962, σ=8.417108222820474)\n",
       " Normal{Float64}(μ=13.330127018922195, σ=9.0)"
      ]
     },
     "metadata": {},
     "output_type": "display_data"
    }
   ],
   "source": [
    "# Generate 288 distribution vectors\n",
    "function generate_distributions(si::Float64, consumption_mean::Float64, temp_mean::Float64, hour::Int)\n",
    "    if hour < 6 || hour > 22\n",
    "        solar = Beta(1, 1000)  # Close to zero but keeps Beta distribution structure\n",
    "        temperature = Normal(temp_mean-4, 9)\n",
    "        consumption = Normal(consumption_mean/(consumption_mean-1), consumption_mean / 11)    \n",
    "    else\n",
    "        β = ((si * (1 + si) / (si / 10)) - 1) * (1 - si)\n",
    "        α = si * β / (1 - si)\n",
    "        solar = Beta(α, β)\n",
    "        temperature = Normal(temp_mean, 9)\n",
    "        consumption = Normal(consumption_mean, consumption_mean / 11)    \n",
    "\n",
    "    end\n",
    "    return [solar, consumption, temperature]\n",
    "end\n",
    "\n",
    "dist_vec = Vector{Vector{Distribution}}(undef, 12 * 24)\n",
    "\n",
    "for month in 1:12\n",
    "    for hour in 1:24\n",
    "        # Assume some seasonal variations\n",
    "        si = 0.25 + 0.1 * sin(2π * month / 12)  # Varying solar irradiance\n",
    "        si = hour < 6 || hour > 22 ? 0.0 : si   # Zero irradiance at night\n",
    "        consumption_mean = 90.0 + 10 * sin(2π * hour / 24)  # Daily load cycle\n",
    "        temp_mean = 13.0 + 5 * cos(2π * month / 12)  # Seasonal temperature\n",
    "        \n",
    "        # Store the distribution vector\n",
    "        dist_vec[(month - 1) * 24 + hour] = generate_distributions(si, consumption_mean, temp_mean, hour)\n",
    "    end\n",
    "end\n",
    "\n",
    "# Check an example\n",
    "dist_vec[1]  # First hour of January"
   ]
  },
  {
   "cell_type": "code",
   "execution_count": 21,
   "metadata": {},
   "outputs": [
    {
     "name": "stdout",
     "output_type": "stream",
     "text": [
      "Scenarios for January, 1st hour: [0.0010280930697278133 1.6523667043996533 0.9890543072374182; 0.0009951774445681 11.219511481003131 20.018763702778173; 0.0009478371166922513 1.5519123836840234 24.74745862624762; 0.0010057383473341588 1.3548433977594132 12.745069837658939; 0.0010046247756005603 12.212646737195456 6.921588650536541]\n",
      "Probabilities for January, 1st hour: [0.193, 0.1212, 0.2004, 0.3686, 0.1168] sum 1.0\n"
     ]
    }
   ],
   "source": [
    "# Function to sample, cluster, and compute probabilities\n",
    "function cluster_scenarios_with_probabilities(dist_vec, num_samples=5000, num_clusters=5)\n",
    "    scenarios = []\n",
    "    probabilities = []\n",
    "    \n",
    "    for (i, dist_set) in enumerate(dist_vec)\n",
    "        # Generate 5000 samples for each variable\n",
    "        samples = hcat(rand(dist_set[1], num_samples),  # Solar Irradiance\n",
    "                       rand(dist_set[2], num_samples),  # Energy Consumption\n",
    "                       rand(dist_set[3], num_samples)) # Temperature\n",
    "        \n",
    "        # Ensure non-negativity\n",
    "        samples[:, 1] .= max.(samples[:, 1], 0)  # Solar Irradiance ≥ 0\n",
    "        samples[:, 2] .= max.(samples[:, 2], 0)  # Consumption ≥ 0\n",
    "\n",
    "        # Apply k-means clustering\n",
    "        result = kmeans(samples', num_clusters)  # Clustering (transpose for correct shape)\n",
    "        centroids = result.centers'  # Get cluster centers (transpose back)\n",
    "        \n",
    "        # Compute probabilities (relative frequency of points in each cluster)\n",
    "        cluster_counts = countmap(result.assignments)  # Count points per cluster\n",
    "        probs = [cluster_counts[j] / num_samples for j in 1:num_clusters]  # Normalize\n",
    "\n",
    "        # Store results\n",
    "        push!(scenarios, centroids)\n",
    "        push!(probabilities, probs)\n",
    "    end\n",
    "    \n",
    "    return scenarios, probabilities\n",
    "end\n",
    "\n",
    "# Generate 5 scenarios and their probabilities for all 288 time periods\n",
    "scenarios_5, scenario_probs = cluster_scenarios_with_probabilities(dist_vec)\n",
    "\n",
    "# Check an example\n",
    "println(\"Scenarios for January, 1st hour: \", scenarios_5[1]) \n",
    "println(\"Probabilities for January, 1st hour: \", scenario_probs[1], \" sum \", sum(scenario_probs[1]))  "
   ]
  },
  {
   "cell_type": "markdown",
   "metadata": {},
   "source": [
    "## Optimization Model"
   ]
  },
  {
   "cell_type": "markdown",
   "metadata": {},
   "source": [
    "### Scalars"
   ]
  },
  {
   "cell_type": "code",
   "execution_count": 29,
   "metadata": {},
   "outputs": [
    {
     "data": {
      "text/plain": [
       "288-element Vector{Vector{Float64}}:\n",
       " [0.193, 0.1212, 0.2004, 0.3686, 0.1168]\n",
       " [0.125, 0.1094, 0.195, 0.3482, 0.2224]\n",
       " [0.1158, 0.2184, 0.3606, 0.1154, 0.1898]\n",
       " [0.1604, 0.1514, 0.1418, 0.2672, 0.2792]\n",
       " [0.2136, 0.1982, 0.1186, 0.3658, 0.1038]\n",
       " [0.2476, 0.1586, 0.2282, 0.209, 0.1566]\n",
       " [0.2524, 0.1816, 0.1972, 0.1862, 0.1826]\n",
       " [0.2518, 0.156, 0.2124, 0.2304, 0.1494]\n",
       " [0.262, 0.1566, 0.1532, 0.2274, 0.2008]\n",
       " [0.201, 0.2322, 0.2818, 0.134, 0.151]\n",
       " ⋮\n",
       " [0.1758, 0.1914, 0.1802, 0.1888, 0.2638]\n",
       " [0.1536, 0.1558, 0.2036, 0.2676, 0.2194]\n",
       " [0.2662, 0.1776, 0.132, 0.2104, 0.2138]\n",
       " [0.2158, 0.2886, 0.137, 0.217, 0.1416]\n",
       " [0.1816, 0.1646, 0.1482, 0.2436, 0.262]\n",
       " [0.1452, 0.1658, 0.208, 0.2568, 0.2242]\n",
       " [0.203, 0.1854, 0.2578, 0.1686, 0.1852]\n",
       " [0.111, 0.3578, 0.1886, 0.1148, 0.2278]\n",
       " [0.278, 0.1474, 0.2764, 0.1326, 0.1656]"
      ]
     },
     "metadata": {},
     "output_type": "display_data"
    }
   ],
   "source": [
    "T = 288  # 12 months * 24 hours\n",
    "num_scenarios = 5  # 5 clusters per time step\n",
    "\n",
    "SCC = 50  # Social cost of carbon ($/ton CO2)\n",
    "E_cap = 1000  # Emissions cap (optional)\n",
    "C_inv_per_kW = 1000  # Investment cost per kW (per year)\n",
    "\n",
    "c_grid_buy = 0.25  # Cost of buying from grid ($/kWh)\n",
    "c_grid_feed = 0.10  # Revenue from feeding into the grid ($/kWh)\n",
    "e_grid = 0.5  # Emission intensity of grid (tCO2/kWh)\n",
    "\n",
    "# PV Parameters\n",
    "η_0 = 0.18  # Nominal PV efficiency at 25°C\n",
    "β = 0.004  # Temperature coefficient (per °C)\n",
    "T_ref = 25  # Reference temperature (°C)\n",
    "A = 1  # Area of PV system (arbitrary unit, related to y_PV)\n",
    "\n",
    "# === PV Efficiency as a function of Temperature === #\n",
    "    function efficiency(T_t)\n",
    "        return η_0 * (1 - β * (T_t - T_ref))  # Efficiency model\n",
    "    end\n",
    "\n",
    "# === Load Scenario Data === #\n",
    "\n",
    "# Solar irradiance: column 1\n",
    "S_t_omega = [[scenarios_5[t][ω, 1] for ω in 1:num_scenarios] for t in 1:T]\n",
    "\n",
    "# Consumption: column 2\n",
    "L_t_omega = [[scenarios_5[t][ω, 2] for ω in 1:num_scenarios] for t in 1:T]\n",
    "\n",
    "# Temperature: column 3\n",
    "T_t_omega = [[scenarios_5[t][ω, 3] for ω in 1:num_scenarios] for t in 1:T]\n",
    "\n",
    "# Scenario probabilities\n",
    "Φ_t_omega = [[scenario_probs[t][ω] for ω in 1:num_scenarios] for t in 1:T] "
   ]
  },
  {
   "cell_type": "markdown",
   "metadata": {},
   "source": [
    "### Model"
   ]
  },
  {
   "cell_type": "markdown",
   "metadata": {},
   "source": [
    "#### Upper Level"
   ]
  },
  {
   "cell_type": "code",
   "execution_count": null,
   "metadata": {},
   "outputs": [
    {
     "ename": "VariableNotOwned{VariableRef}",
     "evalue": "VariableNotOwned{VariableRef}(P_PV[1,1]): the variable P_PV[1,1] cannot be used in this model because\nit belongs to a different model.\n\n## Explanation\n\nEach variable belongs to a particular model. You cannot use a variable\ninside a model to which it does not belong. For example:\n\n```julia\nmodel = Model()\n@variable(model, x >= 0)\nmodel2 = Model()\n@objective(model2, Min, x)  # Errors because x belongs to `model`\n```\n\nOne common cause of this error is working with a main problem and a\nsubproblem.\n\n```julia\nmodel = Model()\n@variable(model, x, Bin)\nsubproblem = Model()\n@variable(subproblem, 0 <= x <= 1)\n# The Julia binding `x` now refers to `subproblem[:x]`, not `model[:x]`\n@objective(model, Min, x)  # Errors because x belongs to `subproblem`\n# do instead\n@objective(model, Min, model[:x])\n```",
     "output_type": "error",
     "traceback": [
      "VariableNotOwned{VariableRef}(P_PV[1,1]): the variable P_PV[1,1] cannot be used in this model because\n",
      "it belongs to a different model.\n",
      "\n",
      "## Explanation\n",
      "\n",
      "Each variable belongs to a particular model. You cannot use a variable\n",
      "inside a model to which it does not belong. For example:\n",
      "\n",
      "```julia\n",
      "model = Model()\n",
      "@variable(model, x >= 0)\n",
      "model2 = Model()\n",
      "@objective(model2, Min, x)  # Errors because x belongs to `model`\n",
      "```\n",
      "\n",
      "One common cause of this error is working with a main problem and a\n",
      "subproblem.\n",
      "\n",
      "```julia\n",
      "model = Model()\n",
      "@variable(model, x, Bin)\n",
      "subproblem = Model()\n",
      "@variable(subproblem, 0 <= x <= 1)\n",
      "# The Julia binding `x` now refers to `subproblem[:x]`, not `model[:x]`\n",
      "@objective(model, Min, x)  # Errors because x belongs to `subproblem`\n",
      "# do instead\n",
      "@objective(model, Min, model[:x])\n",
      "```\n",
      "\n",
      "Stacktrace:\n",
      "  [1] check_belongs_to_model\n",
      "    @ C:\\Users\\nikla\\.julia\\packages\\JuMP\\xlp0s\\src\\variables.jl:362 [inlined]\n",
      "  [2] check_belongs_to_model\n",
      "    @ C:\\Users\\nikla\\.julia\\packages\\JuMP\\xlp0s\\src\\aff_expr.jl:732 [inlined]\n",
      "  [3] check_belongs_to_model\n",
      "    @ C:\\Users\\nikla\\.julia\\packages\\JuMP\\xlp0s\\src\\constraints.jl:894 [inlined]\n",
      "  [4] add_constraint(model::Model, con::ScalarConstraint{AffExpr, MathOptInterface.EqualTo{Float64}}, name::String)\n",
      "    @ JuMP C:\\Users\\nikla\\.julia\\packages\\JuMP\\xlp0s\\src\\constraints.jl:1033\n",
      "  [5] macro expansion\n",
      "    @ C:\\Users\\nikla\\.julia\\packages\\JuMP\\xlp0s\\src\\macros\\@constraint.jl:173 [inlined]\n",
      "  [6] (::var\"#71#72\"{Model})(t::Int64, ω::Int64)\n",
      "    @ Main C:\\Users\\nikla\\.julia\\packages\\JuMP\\xlp0s\\src\\Containers\\macro.jl:550\n",
      "  [7] #84\n",
      "    @ C:\\Users\\nikla\\.julia\\packages\\JuMP\\xlp0s\\src\\Containers\\container.jl:85 [inlined]\n",
      "  [8] iterate\n",
      "    @ .\\generator.jl:48 [inlined]\n",
      "  [9] collect(itr::Base.Generator{JuMP.Containers.VectorizedProductIterator{Tuple{Base.OneTo{Int64}, Base.OneTo{Int64}}}, JuMP.Containers.var\"#84#85\"{var\"#71#72\"{Model}}})\n",
      "    @ Base .\\array.jl:791\n",
      " [10] map(f::Function, A::JuMP.Containers.VectorizedProductIterator{Tuple{Base.OneTo{Int64}, Base.OneTo{Int64}}})\n",
      "    @ Base .\\abstractarray.jl:3399\n",
      " [11] container\n",
      "    @ C:\\Users\\nikla\\.julia\\packages\\JuMP\\xlp0s\\src\\Containers\\container.jl:85 [inlined]\n",
      " [12] container\n",
      "    @ C:\\Users\\nikla\\.julia\\packages\\JuMP\\xlp0s\\src\\Containers\\container.jl:71 [inlined]\n",
      " [13] container(f::Function, indices::JuMP.Containers.VectorizedProductIterator{Tuple{Base.OneTo{Int64}, Base.OneTo{Int64}}}, ::Type{JuMP.Containers.AutoContainerType}, names::Vector{Any})\n",
      "    @ JuMP.Containers C:\\Users\\nikla\\.julia\\packages\\JuMP\\xlp0s\\src\\Containers\\container.jl:75\n",
      " [14] macro expansion\n",
      "    @ C:\\Users\\nikla\\.julia\\packages\\JuMP\\xlp0s\\src\\macros.jl:400 [inlined]\n",
      " [15] top-level scope\n",
      "    @ c:\\Users\\nikla\\git\\AMOProject\\jl_notebook_cell_df34fa98e69747e1a8f8a730347b8e2f_W4sZmlsZQ==.jl:7"
     ]
    }
   ],
   "source": [
    "model = Model(Ipopt.Optimizer)\n",
    "\n",
    "@variable(model, y_PV >= 0)  # PV capacity to be decided\n",
    "@variable(model, P_PV[1:T, 1:num_scenarios] >= 0)  # PV power production for each time step and scenario\n",
    "\n",
    "# PV production is calculated based on efficiency function\n",
    "@constraint(model, [t=1:T, ω=1:num_scenarios],\n",
    "    P_PV[t, ω] == efficiency(T_t_omega[t][ω]) * A * S_t_omega[t][ω]\n",
    ")\n",
    "\n",
    "# Emissions Calculation\n",
    "@expression(model, E_op,\n",
    "    sum(Φ_t_omega[t][ω] * e_grid * G_in[t, ω] for t in 1:T, ω in 1:num_scenarios)\n",
    ")\n",
    "\n",
    "# Upper Level Objective: Minimize Total Cost\n",
    "@objective(model, Min,\n",
    "    C_inv_per_kW * y_PV  # Investment Cost\n",
    "    + C_op  # Expected Operating Cost\n",
    "    + SCC * E_op  # Expected Emissions Cost\n",
    ")"
   ]
  },
  {
   "cell_type": "markdown",
   "metadata": {},
   "source": [
    "#### Lower Level"
   ]
  },
  {
   "cell_type": "code",
   "execution_count": 26,
   "metadata": {},
   "outputs": [
    {
     "ename": "UndefVarError",
     "evalue": "UndefVarError: `L_t_omega` not defined in `Main`\nSuggestion: check for spelling errors or missing imports.",
     "output_type": "error",
     "traceback": [
      "UndefVarError: `L_t_omega` not defined in `Main`\n",
      "Suggestion: check for spelling errors or missing imports.\n",
      "\n",
      "Stacktrace:\n",
      "  [1] macro expansion\n",
      "    @ C:\\Users\\nikla\\.julia\\packages\\MutableArithmetics\\gYzox\\src\\rewrite.jl:371 [inlined]\n",
      "  [2] macro expansion\n",
      "    @ C:\\Users\\nikla\\.julia\\packages\\JuMP\\xlp0s\\src\\macros.jl:264 [inlined]\n",
      "  [3] macro expansion\n",
      "    @ C:\\Users\\nikla\\.julia\\packages\\JuMP\\xlp0s\\src\\macros\\@constraint.jl:171 [inlined]\n",
      "  [4] (::var\"#37#38\"{Model})(t::Int64, ω::Int64)\n",
      "    @ Main C:\\Users\\nikla\\.julia\\packages\\JuMP\\xlp0s\\src\\Containers\\macro.jl:550\n",
      "  [5] #84\n",
      "    @ C:\\Users\\nikla\\.julia\\packages\\JuMP\\xlp0s\\src\\Containers\\container.jl:85 [inlined]\n",
      "  [6] iterate\n",
      "    @ .\\generator.jl:48 [inlined]\n",
      "  [7] collect(itr::Base.Generator{JuMP.Containers.VectorizedProductIterator{Tuple{Base.OneTo{Int64}, Base.OneTo{Int64}}}, JuMP.Containers.var\"#84#85\"{var\"#37#38\"{Model}}})\n",
      "    @ Base .\\array.jl:791\n",
      "  [8] map(f::Function, A::JuMP.Containers.VectorizedProductIterator{Tuple{Base.OneTo{Int64}, Base.OneTo{Int64}}})\n",
      "    @ Base .\\abstractarray.jl:3399\n",
      "  [9] container\n",
      "    @ C:\\Users\\nikla\\.julia\\packages\\JuMP\\xlp0s\\src\\Containers\\container.jl:85 [inlined]\n",
      " [10] container\n",
      "    @ C:\\Users\\nikla\\.julia\\packages\\JuMP\\xlp0s\\src\\Containers\\container.jl:71 [inlined]\n",
      " [11] container(f::Function, indices::JuMP.Containers.VectorizedProductIterator{Tuple{Base.OneTo{Int64}, Base.OneTo{Int64}}}, ::Type{JuMP.Containers.AutoContainerType}, names::Vector{Any})\n",
      "    @ JuMP.Containers C:\\Users\\nikla\\.julia\\packages\\JuMP\\xlp0s\\src\\Containers\\container.jl:75\n",
      " [12] macro expansion\n",
      "    @ C:\\Users\\nikla\\.julia\\packages\\JuMP\\xlp0s\\src\\macros.jl:400 [inlined]\n",
      " [13] top-level scope\n",
      "    @ c:\\Users\\nikla\\git\\AMOProject\\jl_notebook_cell_df34fa98e69747e1a8f8a730347b8e2f_X14sZmlsZQ==.jl:6"
     ]
    }
   ],
   "source": [
    "# Lower Level Variables (Operational Dispatch)\n",
    "@variable(model, G_in[t=1:T, ω=1:num_scenarios] >= 0)  # Grid import\n",
    "@variable(model, G_out[t=1:T, ω=1:num_scenarios] >= 0)  # Grid feed-in\n",
    "@variable(model, P_PV[t=1:T, ω=1:num_scenarios] >= 0)  # PV production\n",
    "# Meeting the demand\n",
    "@constraint(model, [t=1:T, ω=1:num_scenarios],\n",
    "    L_t_omega[t][ω] == y_PV * S_t_omega[t][ω] + G_in[t, ω] - G_out[t, ω] - P_PV[t, ω]\n",
    ")\n",
    "# === Lower Level Objective: Minimize Operating Cost === #\n",
    "@expression(model, C_op,\n",
    "    sum(Φ_t_omega[t][ω] * (c_grid_buy * G_in[t, ω] - c_grid_feed * G_out[t, ω]) \n",
    "        for t in 1:T, ω in 1:num_scenarios)\n",
    ")"
   ]
  },
  {
   "cell_type": "markdown",
   "metadata": {},
   "source": [
    "### Solving"
   ]
  },
  {
   "cell_type": "code",
   "execution_count": 27,
   "metadata": {},
   "outputs": [
    {
     "name": "stdout",
     "output_type": "stream",
     "text": [
      "Feasibility\n",
      "Subject to\n",
      " y_PV >= 0\n",
      " G_in[1,1] >= 0\n",
      " G_in[2,1] >= 0\n",
      " G_in[3,1] >= 0\n",
      " G_in[4,1] >= 0\n",
      " G_in[5,1] >= 0\n",
      " G_in[6,1] >= 0\n",
      " G_in[7,1] >= 0\n",
      " G_in[8,1] >= 0\n",
      " G_in[9,1] >= 0\n",
      " G_in[10,1] >= 0\n",
      " G_in[11,1] >= 0\n",
      " G_in[12,1] >= 0\n",
      " G_in[13,1] >= 0\n",
      " G_in[14,1] >= 0\n",
      " G_in[15,1] >= 0\n",
      " G_in[16,1] >= 0\n",
      " G_in[17,1] >= 0\n",
      " G_in[18,1] >= 0\n",
      " G_in[19,1] >= 0\n",
      " G_in[20,1] >= 0\n",
      " G_in[21,1] >= 0\n",
      " G_in[22,1] >= 0\n",
      " G_in[23,1] >= 0\n",
      " G_in[24,1] >= 0\n",
      " G_in[25,1] >= 0\n",
      " G_in[26,1] >= 0\n",
      " G_in[27,1] >= 0\n",
      " G_in[28,1] >= 0\n",
      " G_in[29,1] >= 0\n",
      " G_in[30,1] >= 0\n",
      " G_in[31,1] >= 0\n",
      " G_in[32,1] >= 0\n",
      " G_in[33,1] >= 0\n",
      " G_in[34,1] >= 0\n",
      " G_in[35,1] >= 0\n",
      " G_in[36,1] >= 0\n",
      " G_in[37,1] >= 0\n",
      " G_in[38,1] >= 0\n",
      " G_in[39,1] >= 0\n",
      " G_in[40,1] >= 0\n",
      " G_in[41,1] >= 0\n",
      " G_in[42,1] >= 0\n",
      " G_in[43,1] >= 0\n",
      " G_in[44,1] >= 0\n",
      " G_in[45,1] >= 0\n",
      " G_in[46,1] >= 0\n",
      " G_in[47,1] >= 0\n",
      " G_in[48,1] >= 0\n",
      " G_in[49,1] >= 0\n",
      "[[...4221 constraints skipped...]]\n",
      " P_PV[239,5] >= 0\n",
      " P_PV[240,5] >= 0\n",
      " P_PV[241,5] >= 0\n",
      " P_PV[242,5] >= 0\n",
      " P_PV[243,5] >= 0\n",
      " P_PV[244,5] >= 0\n",
      " P_PV[245,5] >= 0\n",
      " P_PV[246,5] >= 0\n",
      " P_PV[247,5] >= 0\n",
      " P_PV[248,5] >= 0\n",
      " P_PV[249,5] >= 0\n",
      " P_PV[250,5] >= 0\n",
      " P_PV[251,5] >= 0\n",
      " P_PV[252,5] >= 0\n",
      " P_PV[253,5] >= 0\n",
      " P_PV[254,5] >= 0\n",
      " P_PV[255,5] >= 0\n",
      " P_PV[256,5] >= 0\n",
      " P_PV[257,5] >= 0\n",
      " P_PV[258,5] >= 0\n",
      " P_PV[259,5] >= 0\n",
      " P_PV[260,5] >= 0\n",
      " P_PV[261,5] >= 0\n",
      " P_PV[262,5] >= 0\n",
      " P_PV[263,5] >= 0\n",
      " P_PV[264,5] >= 0\n",
      " P_PV[265,5] >= 0\n",
      " P_PV[266,5] >= 0\n",
      " P_PV[267,5] >= 0\n",
      " P_PV[268,5] >= 0\n",
      " P_PV[269,5] >= 0\n",
      " P_PV[270,5] >= 0\n",
      " P_PV[271,5] >= 0\n",
      " P_PV[272,5] >= 0\n",
      " P_PV[273,5] >= 0\n",
      " P_PV[274,5] >= 0\n",
      " P_PV[275,5] >= 0\n",
      " P_PV[276,5] >= 0\n",
      " P_PV[277,5] >= 0\n",
      " P_PV[278,5] >= 0\n",
      " P_PV[279,5] >= 0\n",
      " P_PV[280,5] >= 0\n",
      " P_PV[281,5] >= 0\n",
      " P_PV[282,5] >= 0\n",
      " P_PV[283,5] >= 0\n",
      " P_PV[284,5] >= 0\n",
      " P_PV[285,5] >= 0\n",
      " P_PV[286,5] >= 0\n",
      " P_PV[287,5] >= 0\n",
      " P_PV[288,5] >= 0\n"
     ]
    },
    {
     "ename": "KeyError",
     "evalue": "KeyError: key :variables not found",
     "output_type": "error",
     "traceback": [
      "KeyError: key :variables not found\n",
      "\n",
      "Stacktrace:\n",
      " [1] getindex(m::Model, name::Symbol)\n",
      "   @ JuMP C:\\Users\\nikla\\.julia\\packages\\JuMP\\xlp0s\\src\\JuMP.jl:1065\n",
      " [2] top-level scope\n",
      "   @ c:\\Users\\nikla\\git\\AMOProject\\jl_notebook_cell_df34fa98e69747e1a8f8a730347b8e2f_X20sZmlsZQ==.jl:2"
     ]
    }
   ],
   "source": [
    "print(model)\n",
    "print(model[:variables])\n",
    "print(model[:constraints])\n",
    "\n",
    "# === Solve Model === #\n",
    "#optimize!(model)\n"
   ]
  }
 ],
 "metadata": {
  "kernelspec": {
   "display_name": "Julia 1.11.2",
   "language": "julia",
   "name": "julia-1.11"
  },
  "language_info": {
   "file_extension": ".jl",
   "mimetype": "application/julia",
   "name": "julia",
   "version": "1.11.2"
  }
 },
 "nbformat": 4,
 "nbformat_minor": 2
}
