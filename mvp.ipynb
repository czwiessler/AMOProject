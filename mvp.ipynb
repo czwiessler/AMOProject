{
 "cells": [
  {
   "cell_type": "code",
   "execution_count": 1,
   "metadata": {},
   "outputs": [
    {
     "name": "stderr",
     "output_type": "stream",
     "text": [
      "\u001b[32m\u001b[1m  Activating\u001b[22m\u001b[39m new project at `c:\\Users\\nikla\\git\\AMOProject`\n",
      "\u001b[32m\u001b[1m  No Changes\u001b[22m\u001b[39m to `C:\\Users\\nikla\\git\\AMOProject\\Project.toml`\n",
      "\u001b[32m\u001b[1m  No Changes\u001b[22m\u001b[39m to `C:\\Users\\nikla\\git\\AMOProject\\Manifest.toml`\n"
     ]
    }
   ],
   "source": [
    "using Pkg\n",
    "Pkg.activate(\".\")\n",
    "Pkg.instantiate()"
   ]
  },
  {
   "cell_type": "code",
   "execution_count": 53,
   "metadata": {},
   "outputs": [
    {
     "data": {
      "text/plain": [
       "Plots.GRBackend()"
      ]
     },
     "metadata": {},
     "output_type": "display_data"
    }
   ],
   "source": [
    "using JuMP, Distributions, HiGHS, Clustering, Distances, Plots, Statistics, StatsBase, Ipopt\n",
    "gr()"
   ]
  },
  {
   "cell_type": "code",
   "execution_count": 13,
   "metadata": {},
   "outputs": [
    {
     "data": {
      "text/plain": [
       "3-element Vector{Distribution}:\n",
       " Beta{Float64}(α=1.0, β=1000.0)\n",
       " Normal{Float64}(μ=1.0109184382295962, σ=8.417108222820474)\n",
       " Normal{Float64}(μ=13.330127018922195, σ=9.0)"
      ]
     },
     "metadata": {},
     "output_type": "display_data"
    }
   ],
   "source": [
    "# Generate 288 distribution vectors\n",
    "function generate_distributions(si::Float64, consumption_mean::Float64, temp_mean::Float64, hour::Int)\n",
    "    if hour < 6 || hour > 22\n",
    "        solar = Beta(1, 1000)  # Close to zero but keeps Beta distribution structure\n",
    "        temperature = Normal(temp_mean-4, 9)\n",
    "        consumption = Normal(consumption_mean/(consumption_mean-1), consumption_mean / 11)    \n",
    "    else\n",
    "        β = ((si * (1 + si) / (si / 10)) - 1) * (1 - si)\n",
    "        α = si * β / (1 - si)\n",
    "        solar = Beta(α, β)\n",
    "        temperature = Normal(temp_mean, 9)\n",
    "        consumption = Normal(consumption_mean, consumption_mean / 11)    \n",
    "\n",
    "    end\n",
    "    return [solar, consumption, temperature]\n",
    "end\n",
    "\n",
    "dist_vec = Vector{Vector{Distribution}}(undef, 12 * 24)\n",
    "\n",
    "for month in 1:12\n",
    "    for hour in 1:24\n",
    "        # Assume some seasonal variations\n",
    "        si = 0.25 + 0.1 * sin(2π * month / 12)  # Varying solar irradiance\n",
    "        si = hour < 6 || hour > 22 ? 0.0 : si   # Zero irradiance at night\n",
    "        consumption_mean = 90.0 + 10 * sin(2π * hour / 24)  # Daily load cycle\n",
    "        temp_mean = 13.0 + 5 * cos(2π * month / 12)  # Seasonal temperature\n",
    "        \n",
    "        # Store the distribution vector\n",
    "        dist_vec[(month - 1) * 24 + hour] = generate_distributions(si, consumption_mean, temp_mean, hour)\n",
    "    end\n",
    "end\n",
    "\n",
    "# Check an example\n",
    "dist_vec[1]  # First hour of January"
   ]
  },
  {
   "cell_type": "code",
   "execution_count": 21,
   "metadata": {},
   "outputs": [
    {
     "name": "stdout",
     "output_type": "stream",
     "text": [
      "Scenarios for January, 1st hour: [0.0010280930697278133 1.6523667043996533 0.9890543072374182; 0.0009951774445681 11.219511481003131 20.018763702778173; 0.0009478371166922513 1.5519123836840234 24.74745862624762; 0.0010057383473341588 1.3548433977594132 12.745069837658939; 0.0010046247756005603 12.212646737195456 6.921588650536541]\n",
      "Probabilities for January, 1st hour: [0.193, 0.1212, 0.2004, 0.3686, 0.1168] sum 1.0\n"
     ]
    }
   ],
   "source": [
    "# Function to sample, cluster, and compute probabilities\n",
    "function cluster_scenarios_with_probabilities(dist_vec, num_samples=5000, num_clusters=5)\n",
    "    scenarios = []\n",
    "    probabilities = []\n",
    "    \n",
    "    for (i, dist_set) in enumerate(dist_vec)\n",
    "        # Generate 5000 samples for each variable\n",
    "        samples = hcat(rand(dist_set[1], num_samples),  # Solar Irradiance\n",
    "                       rand(dist_set[2], num_samples),  # Energy Consumption\n",
    "                       rand(dist_set[3], num_samples)) # Temperature\n",
    "        \n",
    "        # Ensure non-negativity\n",
    "        samples[:, 1] .= max.(samples[:, 1], 0)  # Solar Irradiance ≥ 0\n",
    "        samples[:, 2] .= max.(samples[:, 2], 0)  # Consumption ≥ 0\n",
    "\n",
    "        # Apply k-means clustering\n",
    "        result = kmeans(samples', num_clusters)  # Clustering (transpose for correct shape)\n",
    "        centroids = result.centers'  # Get cluster centers (transpose back)\n",
    "        \n",
    "        # Compute probabilities (relative frequency of points in each cluster)\n",
    "        cluster_counts = countmap(result.assignments)  # Count points per cluster\n",
    "        probs = [cluster_counts[j] / num_samples for j in 1:num_clusters]  # Normalize\n",
    "\n",
    "        # Store results\n",
    "        push!(scenarios, centroids)\n",
    "        push!(probabilities, probs)\n",
    "    end\n",
    "    \n",
    "    return scenarios, probabilities\n",
    "end\n",
    "\n",
    "# Generate 5 scenarios and their probabilities for all 288 time periods\n",
    "scenarios_5, scenario_probs = cluster_scenarios_with_probabilities(dist_vec)\n",
    "\n",
    "# Check an example\n",
    "println(\"Scenarios for January, 1st hour: \", scenarios_5[1]) \n",
    "println(\"Probabilities for January, 1st hour: \", scenario_probs[1], \" sum \", sum(scenario_probs[1]))  "
   ]
  },
  {
   "cell_type": "markdown",
   "metadata": {},
   "source": [
    "## Optimization Model"
   ]
  },
  {
   "cell_type": "markdown",
   "metadata": {},
   "source": [
    "### Scalars"
   ]
  },
  {
   "cell_type": "code",
   "execution_count": 63,
   "metadata": {},
   "outputs": [
    {
     "data": {
      "text/plain": [
       "288-element Vector{Vector{Float64}}:\n",
       " [0.193, 0.1212, 0.2004, 0.3686, 0.1168]\n",
       " [0.125, 0.1094, 0.195, 0.3482, 0.2224]\n",
       " [0.1158, 0.2184, 0.3606, 0.1154, 0.1898]\n",
       " [0.1604, 0.1514, 0.1418, 0.2672, 0.2792]\n",
       " [0.2136, 0.1982, 0.1186, 0.3658, 0.1038]\n",
       " [0.2476, 0.1586, 0.2282, 0.209, 0.1566]\n",
       " [0.2524, 0.1816, 0.1972, 0.1862, 0.1826]\n",
       " [0.2518, 0.156, 0.2124, 0.2304, 0.1494]\n",
       " [0.262, 0.1566, 0.1532, 0.2274, 0.2008]\n",
       " [0.201, 0.2322, 0.2818, 0.134, 0.151]\n",
       " ⋮\n",
       " [0.1758, 0.1914, 0.1802, 0.1888, 0.2638]\n",
       " [0.1536, 0.1558, 0.2036, 0.2676, 0.2194]\n",
       " [0.2662, 0.1776, 0.132, 0.2104, 0.2138]\n",
       " [0.2158, 0.2886, 0.137, 0.217, 0.1416]\n",
       " [0.1816, 0.1646, 0.1482, 0.2436, 0.262]\n",
       " [0.1452, 0.1658, 0.208, 0.2568, 0.2242]\n",
       " [0.203, 0.1854, 0.2578, 0.1686, 0.1852]\n",
       " [0.111, 0.3578, 0.1886, 0.1148, 0.2278]\n",
       " [0.278, 0.1474, 0.2764, 0.1326, 0.1656]"
      ]
     },
     "metadata": {},
     "output_type": "display_data"
    }
   ],
   "source": [
    "T = 288  # 12 months * 24 hours\n",
    "num_scenarios = 5  # 5 clusters per time step\n",
    "\n",
    "SCC = 50  # Social cost of carbon ($/ton CO2)\n",
    "# E_cap = 1000 Emission cap\n",
    "C_inv = 10 * 12  # Investment cost (per day for 12 days per PV module)\n",
    "C_op = 0,1 * 12 # operation cost per day for 12 days\n",
    "\n",
    "c_grid_buy = 0.25  # Cost of buying from grid ($/kWh)\n",
    "c_grid_feed = 0.10  # Revenue from feeding into the grid ($/kWh)\n",
    "e_grid = 0.5  # Emission intensity of grid (tCO2/kWh)\n",
    "\n",
    "# PV Parameters\n",
    "η_0 = 0.18  # Nominal PV efficiency at 25°C\n",
    "β = 0.004  # Temperature coefficient (per °C)\n",
    "T_ref = 25  # Reference temperature (°C)\n",
    "A = 1  # Area of PV system (arbitrary unit, related to y_PV)\n",
    "\n",
    "function efficiency(T_t)\n",
    "    return η_0 * (1 - β * (T_t - T_ref))  # Efficiency function\n",
    "end\n",
    "\n",
    "\n",
    "# Solar irradiance: column 1\n",
    "S_t_omega = [[scenarios_5[t][ω, 1] for ω in 1:num_scenarios] for t in 1:T]\n",
    "\n",
    "# Consumption: column 2\n",
    "L_t_omega = [[scenarios_5[t][ω, 2] for ω in 1:num_scenarios] for t in 1:T]\n",
    "\n",
    "# Temperature: column 3\n",
    "T_t_omega = [[scenarios_5[t][ω, 3] for ω in 1:num_scenarios] for t in 1:T]\n",
    "\n",
    "# Scenario probabilities\n",
    "Φ_t_omega = [[scenario_probs[t][ω] for ω in 1:num_scenarios] for t in 1:T] "
   ]
  },
  {
   "cell_type": "markdown",
   "metadata": {},
   "source": [
    "### Model"
   ]
  },
  {
   "cell_type": "code",
   "execution_count": 64,
   "metadata": {},
   "outputs": [
    {
     "data": {
      "text/latex": [
       "$ 120 y\\_PV + 4.9215 G\\_in_{1,1} - 0.0386 G\\_out_{1,1} + 3.0906000000000002 G\\_in_{1,2} - 0.02424 G\\_out_{1,2} + 5.1102 G\\_in_{1,3} - 0.040080000000000005 G\\_out_{1,3} + 9.3993 G\\_in_{1,4} - 0.07372 G\\_out_{1,4} + 2.9783999999999997 G\\_in_{1,5} - 0.023360000000000002 G\\_out_{1,5} + 3.1875 G\\_in_{2,1} - 0.025 G\\_out_{2,1} + 2.7897 G\\_in_{2,2} - 0.02188 G\\_out_{2,2} + 4.9725 G\\_in_{2,3} - 0.03900000000000001 G\\_out_{2,3} + 8.8791 G\\_in_{2,4} - 0.06964000000000001 G\\_out_{2,4} + 5.6712 G\\_in_{2,5} - 0.04448 G\\_out_{2,5} + 2.9529 G\\_in_{3,1} - 0.02316 G\\_out_{3,1} + 5.5692 G\\_in_{3,2} - 0.043680000000000004 G\\_out_{3,2} + 9.1953 G\\_in_{3,3} - 0.07212 G\\_out_{3,3} + 2.9427000000000003 G\\_in_{3,4} - 0.023080000000000003 G\\_out_{3,4} + 4.8399 G\\_in_{3,5} - [[\\ldots\\text{2821 terms omitted}\\ldots]] + 5.1765 G\\_in_{286,1} - 0.040600000000000004 G\\_out_{286,1} + 4.7277 G\\_in_{286,2} - 0.03708 G\\_out_{286,2} + 6.573899999999999 G\\_in_{286,3} - 0.051559999999999995 G\\_out_{286,3} + 4.2993 G\\_in_{286,4} - 0.03372 G\\_out_{286,4} + 4.7226 G\\_in_{286,5} - 0.037040000000000003 G\\_out_{286,5} + 2.8305 G\\_in_{287,1} - 0.0222 G\\_out_{287,1} + 9.1239 G\\_in_{287,2} - 0.07156 G\\_out_{287,2} + 4.8092999999999995 G\\_in_{287,3} - 0.037720000000000004 G\\_out_{287,3} + 2.9274 G\\_in_{287,4} - 0.02296 G\\_out_{287,4} + 5.8089 G\\_in_{287,5} - 0.04556 G\\_out_{287,5} + 7.089000000000001 G\\_in_{288,1} - 0.05560000000000001 G\\_out_{288,1} + 3.7587 G\\_in_{288,2} - 0.029480000000000003 G\\_out_{288,2} + 7.0482 G\\_in_{288,3} - 0.055279999999999996 G\\_out_{288,3} + 3.3813 G\\_in_{288,4} - 0.026520000000000002 G\\_out_{288,4} + 4.222799999999999 G\\_in_{288,5} - 0.033120000000000004 G\\_out_{288,5} $"
      ],
      "text/plain": [
       "120 y_PV + 4.9215 G_in[1,1] - 0.0386 G_out[1,1] + 3.0906000000000002 G_in[1,2] - 0.02424 G_out[1,2] + 5.1102 G_in[1,3] - 0.040080000000000005 G_out[1,3] + 9.3993 G_in[1,4] - 0.07372 G_out[1,4] + 2.9783999999999997 G_in[1,5] - 0.023360000000000002 G_out[1,5] + 3.1875 G_in[2,1] - 0.025 G_out[2,1] + 2.7897 G_in[2,2] - 0.02188 G_out[2,2] + 4.9725 G_in[2,3] - 0.03900000000000001 G_out[2,3] + 8.8791 G_in[2,4] - 0.06964000000000001 G_out[2,4] + 5.6712 G_in[2,5] - 0.04448 G_out[2,5] + 2.9529 G_in[3,1] - 0.02316 G_out[3,1] + 5.5692 G_in[3,2] - 0.043680000000000004 G_out[3,2] + 9.1953 G_in[3,3] - 0.07212 G_out[3,3] + 2.9427000000000003 G_in[3,4] - 0.023080000000000003 G_out[3,4] + 4.8399 G_in[3,5] - [[...2821 terms omitted...]] + 5.1765 G_in[286,1] - 0.040600000000000004 G_out[286,1] + 4.7277 G_in[286,2] - 0.03708 G_out[286,2] + 6.573899999999999 G_in[286,3] - 0.051559999999999995 G_out[286,3] + 4.2993 G_in[286,4] - 0.03372 G_out[286,4] + 4.7226 G_in[286,5] - 0.037040000000000003 G_out[286,5] + 2.8305 G_in[287,1] - 0.0222 G_out[287,1] + 9.1239 G_in[287,2] - 0.07156 G_out[287,2] + 4.8092999999999995 G_in[287,3] - 0.037720000000000004 G_out[287,3] + 2.9274 G_in[287,4] - 0.02296 G_out[287,4] + 5.8089 G_in[287,5] - 0.04556 G_out[287,5] + 7.089000000000001 G_in[288,1] - 0.05560000000000001 G_out[288,1] + 3.7587 G_in[288,2] - 0.029480000000000003 G_out[288,2] + 7.0482 G_in[288,3] - 0.055279999999999996 G_out[288,3] + 3.3813 G_in[288,4] - 0.026520000000000002 G_out[288,4] + 4.222799999999999 G_in[288,5] - 0.033120000000000004 G_out[288,5]"
      ]
     },
     "metadata": {},
     "output_type": "display_data"
    }
   ],
   "source": [
    "model = Model(Ipopt.Optimizer)\n",
    "\n",
    "# Upper Level variables\n",
    "@variable(model, 0 <= y_PV <= 30)  # PV Capacity and upper bound\n",
    "\n",
    "# Lower Level Variables (Operational Dispatch)\n",
    "@variable(model, G_in[t=1:T, ω=1:num_scenarios] >= 0)  # Grid import\n",
    "@variable(model, G_out[t=1:T, ω=1:num_scenarios] >= 0)  # Grid feed-in\n",
    "@variable(model, P_PV[t=1:T, ω=1:num_scenarios] >= 0)  # PV production\n",
    "\n",
    "# Meeting the demand\n",
    "@constraint(model, [t=1:T, ω=1:num_scenarios],\n",
    "    L_t_omega[t][ω] == y_PV * P_PV[t, ω] + G_in[t, ω] - G_out[t, ω]\n",
    ")\n",
    "# Lower Level Objective: Minimize Operating Cost\n",
    "@expression(model, C_op,\n",
    "    sum(Φ_t_omega[t][ω] * (c_grid_buy * G_in[t, ω] - c_grid_feed * G_out[t, ω]) \n",
    "        for t in 1:T, ω in 1:num_scenarios)\n",
    ")\n",
    "\n",
    "# PV production is calculated based on efficiency function\n",
    "@constraint(model, [t=1:T, ω=1:num_scenarios],\n",
    "    P_PV[t, ω] == efficiency(T_t_omega[t][ω]) * A * S_t_omega[t][ω]\n",
    ")\n",
    "\n",
    "# Emissions Calculation\n",
    "@expression(model, E_op,\n",
    "    sum(Φ_t_omega[t][ω] * e_grid * G_in[t, ω] for t in 1:T, ω in 1:num_scenarios)\n",
    ")\n",
    "\n",
    "# Upper Level Objective: Minimize Total Cost\n",
    "@objective(model, Min,\n",
    "    C_inv * y_PV + C_op # Investment Cost + Operating Cost\n",
    "    + C_op  # Expected Operating Cost\n",
    "    + SCC * E_op  # Expected Emissions Cost\n",
    ")"
   ]
  },
  {
   "cell_type": "markdown",
   "metadata": {},
   "source": [
    "### Solving"
   ]
  },
  {
   "cell_type": "code",
   "execution_count": 65,
   "metadata": {},
   "outputs": [
    {
     "name": "stdout",
     "output_type": "stream",
     "text": [
      "This is Ipopt version 3.14.17, running with linear solver MUMPS 5.7.3.\n",
      "\n",
      "Number of nonzeros in equality constraint Jacobian...:     7200\n",
      "Number of nonzeros in inequality constraint Jacobian.:        0\n",
      "Number of nonzeros in Lagrangian Hessian.............:     1440\n",
      "\n",
      "Total number of variables............................:     4321\n",
      "                     variables with only lower bounds:     4320\n",
      "                variables with lower and upper bounds:        1\n",
      "                     variables with only upper bounds:        0\n",
      "Total number of equality constraints.................:     2880\n",
      "Total number of inequality constraints...............:        0\n",
      "        inequality constraints with only lower bounds:        0\n",
      "   inequality constraints with lower and upper bounds:        0\n",
      "        inequality constraints with only upper bounds:        0\n",
      "\n",
      "iter    objective    inf_pr   inf_du lg(mu)  ||d||  lg(rg) alpha_du alpha_pr  ls\n",
      "   0  7.4063926e+01 1.13e+02 6.45e+01  -1.0 0.00e+00    -  0.00e+00 0.00e+00   0\n",
      "   1  1.2365919e+02 1.13e+02 5.76e+01  -1.0 4.30e+02    -  2.30e-05 1.83e-04h  1\n",
      "   2  3.8997789e+02 1.13e+02 5.73e+01  -1.0 6.12e+03    -  1.43e-05 3.32e-04h  1\n",
      "   3  7.5672471e+02 1.13e+02 5.73e+01  -1.0 5.61e+03    -  3.74e-04 4.43e-04h  1\n",
      "   4  3.2862251e+03 1.13e+02 5.64e+01  -1.0 7.97e+03    -  4.95e-04 2.54e-03h  1\n",
      "   5  3.9738877e+03 1.12e+02 5.93e+01  -1.0 6.75e+03    -  2.56e-03 7.59e-04h  1\n",
      "   6  4.0068602e+03 1.12e+02 5.92e+01  -1.0 1.11e+02    -  1.41e-05 7.30e-05h  1\n",
      "   7  4.0270624e+03 1.12e+02 5.91e+01  -1.0 1.12e+02    -  1.86e-05 4.47e-05h  1\n",
      "   8  4.6264997e+03 1.12e+02 5.72e+01  -1.0 1.12e+02    -  7.02e-05 1.33e-03h  1\n",
      "   9  9.6157136e+03 1.11e+02 5.16e+01  -1.0 1.12e+02    -  1.45e-03 1.11e-02h  1\n",
      "iter    objective    inf_pr   inf_du lg(mu)  ||d||  lg(rg) alpha_du alpha_pr  ls\n",
      "  10  1.1406246e+04 1.11e+02 5.28e+01  -1.0 1.10e+02    -  1.34e-02 4.02e-03h  1\n",
      "  11  1.1424845e+04 1.11e+02 5.31e+01  -1.0 1.10e+02    -  2.00e-03 4.19e-05h  1\n",
      "  12  1.1503442e+04 1.11e+02 5.31e+01  -1.0 1.10e+02    -  1.17e-04 1.77e-04h  1\n",
      "  13  1.1541572e+04 1.11e+02 5.31e+01  -1.0 1.10e+02    -  9.91e-05 8.59e-05h  1\n",
      "  14  1.1684379e+04 1.11e+02 5.31e+01  -1.0 1.10e+02    -  3.92e-04 3.22e-04h  1\n",
      "  15  1.1703763e+04 1.11e+02 5.31e+01  -1.0 1.10e+02    -  1.01e-04 4.37e-05h  1\n",
      "  16  1.1771705e+04 1.11e+02 5.31e+01  -1.0 1.10e+02    -  2.57e-04 1.53e-04h  1\n",
      "  17  1.1834377e+04 1.11e+02 5.31e+01  -1.0 1.10e+02    -  1.23e-04 1.41e-04h  1\n",
      "  18  1.1894974e+04 1.11e+02 5.31e+01  -1.0 1.10e+02    -  1.60e-04 1.36e-04h  1\n",
      "  19  1.1959630e+04 1.10e+02 5.31e+01  -1.0 1.10e+02    -  1.52e-04 1.46e-04h  1\n",
      "iter    objective    inf_pr   inf_du lg(mu)  ||d||  lg(rg) alpha_du alpha_pr  ls\n",
      "  20  1.2025617e+04 1.10e+02 5.31e+01  -1.0 1.10e+02    -  1.60e-04 1.49e-04h  1\n",
      "  21  1.2093982e+04 1.10e+02 5.31e+01  -1.0 1.10e+02    -  1.66e-04 1.54e-04h  1\n",
      "  22  1.2162213e+04 1.10e+02 5.31e+01  -1.0 1.10e+02    -  1.64e-04 1.54e-04h  1\n",
      "  23  1.2239253e+04 1.10e+02 5.31e+01  -1.0 1.10e+02    -  1.91e-04 1.73e-04h  1\n",
      "  24  1.2309795e+04 1.10e+02 5.31e+01  -1.0 1.10e+02    -  1.69e-04 1.59e-04h  1\n",
      "  25  1.2383953e+04 1.10e+02 5.31e+01  -1.0 1.10e+02    -  1.75e-04 1.67e-04h  1\n",
      "  26  1.2461239e+04 1.10e+02 5.31e+01  -1.0 1.10e+02    -  1.82e-04 1.74e-04h  1\n",
      "  27  1.2537939e+04 1.10e+02 5.31e+01  -1.0 1.10e+02    -  1.85e-04 1.72e-04h  1\n",
      "  28  1.2618221e+04 1.10e+02 5.31e+01  -1.0 1.10e+02    -  1.86e-04 1.80e-04h  1\n",
      "  29  1.2699569e+04 1.10e+02 5.31e+01  -1.0 1.10e+02    -  1.89e-04 1.83e-04h  1\n",
      "iter    objective    inf_pr   inf_du lg(mu)  ||d||  lg(rg) alpha_du alpha_pr  ls\n",
      "  30  1.2783686e+04 1.10e+02 5.31e+01  -1.0 1.10e+02    -  1.92e-04 1.89e-04h  1\n",
      "  31  1.2866068e+04 1.10e+02 5.31e+01  -1.0 1.10e+02    -  1.94e-04 1.85e-04h  1\n",
      "  32  1.2951747e+04 1.10e+02 5.31e+01  -1.0 1.10e+02    -  2.00e-04 1.92e-04h  1\n",
      "  33  1.3041157e+04 1.10e+02 5.31e+01  -1.0 1.09e+02    -  2.01e-04 2.00e-04h  1\n",
      "  34  1.3129622e+04 1.10e+02 5.31e+01  -1.0 1.09e+02    -  2.08e-04 1.98e-04h  1\n",
      "  35  1.3221237e+04 1.10e+02 5.31e+01  -1.0 1.09e+02    -  2.10e-04 2.05e-04h  1\n",
      "  36  1.3315301e+04 1.10e+02 5.31e+01  -1.0 1.09e+02    -  2.13e-04 2.11e-04h  1\n",
      "  37  1.3409722e+04 1.10e+02 5.30e+01  -1.0 1.09e+02    -  2.16e-04 2.11e-04h  1\n",
      "  38  1.3505392e+04 1.10e+02 5.30e+01  -1.0 1.09e+02    -  2.35e-04 2.14e-04h  1\n",
      "  39  1.3640842e+04 1.10e+02 5.30e+01  -1.0 1.09e+02    -  2.79e-04 3.03e-04h  1\n",
      "iter    objective    inf_pr   inf_du lg(mu)  ||d||  lg(rg) alpha_du alpha_pr  ls\n",
      "  40  1.3730862e+04 1.10e+02 5.30e+01  -1.0 1.09e+02    -  2.01e-04 2.02e-04h  1\n",
      "  41  1.3844484e+04 1.10e+02 5.30e+01  -1.0 1.09e+02    -  2.29e-04 2.54e-04h  1\n",
      "  42  1.3984602e+04 1.10e+02 5.29e+01  -1.0 1.09e+02    -  2.27e-04 3.14e-04h  1\n",
      "  43  1.4054074e+04 1.10e+02 5.30e+01  -1.0 1.09e+02    -  2.03e-04 1.56e-04h  1\n",
      "  44  1.4157489e+04 1.10e+02 5.30e+01  -1.0 1.09e+02    -  2.63e-04 2.32e-04h  1\n",
      "  45  1.4283479e+04 1.10e+02 5.29e+01  -1.0 1.09e+02    -  2.51e-04 2.82e-04h  1\n",
      "  46  1.4423559e+04 1.10e+02 5.29e+01  -1.0 1.09e+02    -  2.45e-04 3.14e-04h  1\n",
      "  47  1.4845524e+04 1.10e+02 5.27e+01  -1.0 1.09e+02    -  2.26e-04 9.46e-04h  1\n",
      "  48  2.7381093e+04 1.07e+02 4.81e+01  -1.0 1.09e+02    -  2.60e-03 2.81e-02h  1\n",
      "  49  2.7511478e+04 1.07e+02 4.98e+01  -1.0 1.06e+02    -  1.38e-02 3.01e-04h  1\n",
      "iter    objective    inf_pr   inf_du lg(mu)  ||d||  lg(rg) alpha_du alpha_pr  ls\n",
      "  50  2.9919887e+04 1.06e+02 5.05e+01  -1.0 1.06e+02    -  1.39e-02 5.56e-03h  1\n",
      "  51  3.0060105e+04 1.06e+02 5.06e+01  -1.0 1.05e+02    -  8.42e-04 3.26e-04h  1\n",
      "  52  3.0653111e+04 1.06e+02 5.08e+01  -1.0 1.05e+02    -  3.56e-03 1.38e-03h  1\n",
      "  53  3.1455365e+04 1.06e+02 5.08e+01  -1.0 1.05e+02    -  2.63e-03 1.87e-03h  1\n",
      "  54  3.2552223e+04 1.05e+02 5.10e+01  -1.0 1.05e+02    -  5.19e-03 2.56e-03h  1\n",
      "  55  3.3724228e+04 1.05e+02 5.07e+01  -1.0 1.05e+02    -  1.33e-03 2.74e-03h  1\n",
      "  56  3.4441587e+04 1.05e+02 5.06e+01  -1.0 1.04e+02    -  1.65e-03 1.68e-03h  1\n",
      "  57  3.5276818e+04 1.05e+02 5.04e+01  -1.0 1.04e+02    -  1.86e-03 1.96e-03h  1\n",
      "  58  3.6154929e+04 1.05e+02 5.03e+01  -1.0 1.04e+02    -  1.95e-03 2.06e-03h  1\n",
      "  59  3.7080344e+04 1.04e+02 5.02e+01  -1.0 1.04e+02    -  2.08e-03 2.18e-03h  1\n",
      "iter    objective    inf_pr   inf_du lg(mu)  ||d||  lg(rg) alpha_du alpha_pr  ls\n",
      "  60  3.8027251e+04 1.04e+02 5.01e+01  -1.0 1.04e+02    -  2.13e-03 2.23e-03h  1\n",
      "  61  3.9012286e+04 1.04e+02 4.99e+01  -1.0 1.03e+02    -  2.30e-03 2.33e-03h  1\n",
      "  62  4.0029728e+04 1.04e+02 4.98e+01  -1.0 1.03e+02    -  2.36e-03 2.41e-03h  1\n",
      "  63  4.1155595e+04 1.03e+02 4.97e+01  -1.0 1.03e+02    -  2.51e-03 2.67e-03h  1\n",
      "  64  4.2346921e+04 1.03e+02 4.95e+01  -1.0 1.03e+02    -  2.77e-03 2.83e-03h  1\n",
      "  65  4.3562890e+04 1.03e+02 4.94e+01  -1.0 1.02e+02    -  2.81e-03 2.90e-03h  1\n",
      "  66  4.5453409e+04 1.02e+02 4.90e+01  -1.0 1.02e+02    -  3.08e-03 4.52e-03h  1\n",
      "  67  4.6796251e+04 1.02e+02 4.88e+01  -1.0 1.02e+02    -  2.72e-03 3.23e-03h  1\n",
      "  68  5.3593187e+04 1.00e+02 4.64e+01  -1.0 1.01e+02    -  3.10e-03 1.64e-02h  1\n",
      "  69  5.3898510e+04 1.00e+02 4.67e+01  -1.0 9.96e+01    -  3.32e-03 7.48e-04h  1\n",
      "iter    objective    inf_pr   inf_du lg(mu)  ||d||  lg(rg) alpha_du alpha_pr  ls\n",
      "  70  6.1447884e+04 9.83e+01 5.13e+01  -1.0 9.95e+01    -  6.75e-02 1.85e-02h  1\n",
      "  71  6.3317654e+04 9.79e+01 5.09e+01  -1.0 9.76e+01    -  3.52e-03 4.67e-03h  1\n",
      "  72  6.5730435e+04 9.73e+01 5.05e+01  -1.0 9.72e+01    -  5.25e-03 6.06e-03h  1\n",
      "  73  6.8764126e+04 9.65e+01 5.00e+01  -1.0 9.66e+01    -  6.66e-03 7.66e-03h  1\n",
      "  74  7.2022074e+04 9.57e+01 4.95e+01  -1.0 9.59e+01    -  7.69e-03 8.29e-03h  1\n",
      "  75  7.5005105e+04 9.50e+01 4.92e+01  -1.0 9.51e+01    -  8.33e-03 7.65e-03h  1\n",
      "  76  7.8672468e+04 9.41e+01 4.85e+01  -1.0 9.43e+01    -  7.86e-03 9.47e-03h  1\n",
      "  77  8.1669753e+04 9.34e+01 4.83e+01  -1.0 9.34e+01    -  8.98e-03 7.81e-03h  1\n",
      "  78  8.5347691e+04 9.25e+01 4.77e+01  -1.0 9.27e+01    -  8.37e-03 9.64e-03h  1\n",
      "  79  8.9109660e+04 9.15e+01 4.71e+01  -1.0 9.18e+01    -  9.30e-03 9.95e-03h  1\n",
      "iter    objective    inf_pr   inf_du lg(mu)  ||d||  lg(rg) alpha_du alpha_pr  ls\n",
      "  80  9.3229379e+04 9.05e+01 4.65e+01  -1.0 9.09e+01    -  1.03e-02 1.10e-02h  1\n",
      "  81  9.7521801e+04 8.95e+01 4.60e+01  -1.0 8.99e+01    -  1.16e-02 1.16e-02h  1\n",
      "  82  1.0243290e+05 8.83e+01 4.53e+01  -1.0 8.89e+01    -  1.22e-02 1.34e-02h  1\n",
      "  83  4.6376920e+05 2.91e-05 5.92e+01  -1.0 8.77e+01    -  2.59e-02 1.00e+00h  1\n",
      "  84  4.6367317e+05 6.97e-06 1.38e+02  -1.0 4.09e-02    -  1.00e+00 7.61e-01f  1\n",
      "  85  4.6369607e+05 2.84e-14 8.29e-04  -1.0 1.26e-02    -  1.00e+00 1.00e+00f  1\n",
      "  86  4.6352711e+05 2.84e-14 7.51e-05  -2.5 4.77e-02    -  1.00e+00 1.00e+00f  1\n",
      "  87  4.6352293e+05 2.84e-14 1.01e-07  -3.8 1.11e-03    -  1.00e+00 1.00e+00f  1\n",
      "  88  4.6352267e+05 2.84e-14 1.99e-10  -5.7 7.22e-05    -  1.00e+00 1.00e+00f  1\n",
      "  89  4.6352267e+05 2.84e-14 7.84e-14  -8.6 8.97e-07    -  1.00e+00 1.00e+00f  1\n",
      "\n",
      "Number of Iterations....: 89\n",
      "\n",
      "                                   (scaled)                 (unscaled)\n",
      "Objective...............:   3.8626889013134642e+05    4.6352266815761570e+05\n",
      "Dual infeasibility......:   7.8388684432439959e-14    9.4066421318927948e-14\n",
      "Constraint violation....:   2.8421709430404007e-14    2.8421709430404007e-14\n",
      "Variable bound violation:   2.9997608308462986e-07    2.9997608308462986e-07\n",
      "Complementarity.........:   2.5066241176630790e-09    3.0079489411956945e-09\n",
      "Overall NLP error.......:   2.5066241176630790e-09    3.0079489411956945e-09\n",
      "\n",
      "\n",
      "Number of objective function evaluations             = 90\n",
      "Number of objective gradient evaluations             = 90\n",
      "Number of equality constraint evaluations            = 90\n",
      "Number of inequality constraint evaluations          = 0\n",
      "Number of equality constraint Jacobian evaluations   = 90\n",
      "Number of inequality constraint Jacobian evaluations = 0\n",
      "Number of Lagrangian Hessian evaluations             = 89\n",
      "Total seconds in IPOPT                               = 0.289\n",
      "\n",
      "EXIT: Optimal Solution Found.\n"
     ]
    }
   ],
   "source": [
    "optimize!(model)\n"
   ]
  },
  {
   "cell_type": "code",
   "execution_count": 66,
   "metadata": {},
   "outputs": [
    {
     "name": "stdout",
     "output_type": "stream",
     "text": [
      "Optimal PV Capacity (y_PV): 30.000000299976083\n"
     ]
    }
   ],
   "source": [
    "y_PV_value = value(y_PV)\n",
    "println(\"Optimal PV Capacity (y_PV): $y_PV_value\")"
   ]
  }
 ],
 "metadata": {
  "kernelspec": {
   "display_name": "Julia 1.11.2",
   "language": "julia",
   "name": "julia-1.11"
  },
  "language_info": {
   "file_extension": ".jl",
   "mimetype": "application/julia",
   "name": "julia",
   "version": "1.11.2"
  }
 },
 "nbformat": 4,
 "nbformat_minor": 2
}
